{
 "cells": [
  {
   "cell_type": "markdown",
   "id": "eaf89b69-98fd-44ba-920e-936dff6b21df",
   "metadata": {},
   "source": [
    "In this notebook I collected different external data, created and automated pipeline in the cloud.\n",
    "- Collect data from different sources (flights data flight arrivals with Rapid API, weather data with Pyowm library to request API from OpenWeather and popupation data from Wikipedia using python and BeautifulSoup\n",
    "\n",
    "- Set up a local database in MySQL\n",
    "\n",
    "- Move pipeline to the cloud (AWS)\n",
    "\n",
    "- Automated the above steps\n"
   ]
  },
  {
   "cell_type": "markdown",
   "id": "6ca79b6f",
   "metadata": {},
   "source": [
    "1. collect data from different sources"
   ]
  },
  {
   "cell_type": "markdown",
   "id": "da3bebfa",
   "metadata": {},
   "source": [
    "Flights data (API)"
   ]
  },
  {
   "cell_type": "code",
   "execution_count": 77,
   "id": "118559ad-79e4-4155-aa82-a4193204bf33",
   "metadata": {
    "tags": []
   },
   "outputs": [
    {
     "data": {
      "application/json": {
       "arrivals": [
        {
         "aircraft": {
          "modeS": "3C5EE7",
          "model": "Airbus A319",
          "reg": "D-AGWG"
         },
         "airline": {
          "name": "Eurowings"
         },
         "arrival": {
          "quality": [
           "Basic"
          ],
          "scheduledTimeLocal": "2022-04-06 07:35+02:00",
          "scheduledTimeUtc": "2022-04-06 05:35Z",
          "terminal": "1"
         },
         "callSign": "GWI52FP",
         "codeshareStatus": "IsOperator",
         "departure": {
          "actualTimeLocal": "2022-04-06 06:16+02:00",
          "actualTimeUtc": "2022-04-06 04:16Z",
          "airport": {
           "iata": "DUS",
           "icao": "EDDL",
           "name": "Duesseldorf"
          },
          "checkInDesk": "153,170",
          "gate": "A66",
          "quality": [
           "Basic",
           "Live"
          ],
          "runwayTimeLocal": "2022-04-06 06:26+02:00",
          "runwayTimeUtc": "2022-04-06 04:26Z",
          "scheduledTimeLocal": "2022-04-06 06:20+02:00",
          "scheduledTimeUtc": "2022-04-06 04:20Z",
          "terminal": "B"
         },
         "isCargo": false,
         "number": "EW 9048",
         "status": "Unknown"
        },
        {
         "aircraft": {
          "modeS": "3C6597",
          "model": "Airbus A319",
          "reg": "D-AILW"
         },
         "airline": {
          "name": "Lufthansa"
         },
         "arrival": {
          "actualTimeLocal": "2022-04-06 07:37+01:59",
          "actualTimeUtc": "2022-04-06 05:37Z",
          "quality": [
           "Basic",
           "Live"
          ],
          "runway": "25L",
          "runwayTimeLocal": "2022-04-06 07:33+02:00",
          "runwayTimeUtc": "2022-04-06 05:33Z",
          "scheduledTimeLocal": "2022-04-06 07:35+02:00",
          "scheduledTimeUtc": "2022-04-06 05:35Z",
          "terminal": "1"
         },
         "callSign": "DLH7N",
         "codeshareStatus": "IsOperator",
         "departure": {
          "actualTimeLocal": "2022-04-06 06:42+02:00",
          "actualTimeUtc": "2022-04-06 04:42Z",
          "airport": {
           "iata": "MUC",
           "icao": "EDDM",
           "name": "Munich"
          },
          "quality": [
           "Basic",
           "Live"
          ],
          "runway": "26L",
          "runwayTimeLocal": "2022-04-06 06:42+02:00",
          "runwayTimeUtc": "2022-04-06 04:42Z",
          "scheduledTimeLocal": "2022-04-06 06:30+02:00",
          "scheduledTimeUtc": "2022-04-06 04:30Z",
          "terminal": "2"
         },
         "isCargo": false,
         "number": "LH 1926",
         "status": "Arrived"
        },
        {
         "aircraft": {
          "modeS": "3C5EE6",
          "model": "Airbus A319",
          "reg": "D-AGWF"
         },
         "airline": {
          "name": "Germanwings"
         },
         "arrival": {
          "actualTimeLocal": "2022-04-06 07:37+02:00",
          "actualTimeUtc": "2022-04-06 05:37Z",
          "quality": [
           "Basic",
           "Live"
          ],
          "runway": "25L",
          "runwayTimeLocal": "2022-04-06 07:29+02:00",
          "runwayTimeUtc": "2022-04-06 05:29Z",
          "scheduledTimeLocal": "2022-04-06 07:29+02:00",
          "scheduledTimeUtc": "2022-04-06 05:29Z"
         },
         "callSign": "GWI2002",
         "codeshareStatus": "IsOperator",
         "departure": {
          "actualTimeLocal": "2022-04-06 06:39+02:00",
          "actualTimeUtc": "2022-04-06 04:39Z",
          "airport": {
           "iata": "STR",
           "icao": "EDDS",
           "name": "Stuttgart"
          },
          "quality": [
           "Basic",
           "Live"
          ],
          "runwayTimeLocal": "2022-04-06 06:39+02:00",
          "runwayTimeUtc": "2022-04-06 04:39Z",
          "scheduledTimeLocal": "2022-04-06 06:39+02:00",
          "scheduledTimeUtc": "2022-04-06 04:39Z"
         },
         "isCargo": false,
         "number": "4U 2002",
         "status": "Arrived"
        },
        {
         "aircraft": {
          "model": "Airbus A319"
         },
         "airline": {
          "name": "Eurowings"
         },
         "arrival": {
          "quality": [
           "Basic"
          ],
          "scheduledTimeLocal": "2022-04-06 07:40+02:00",
          "scheduledTimeUtc": "2022-04-06 05:40Z",
          "terminal": "1"
         },
         "codeshareStatus": "IsOperator",
         "departure": {
          "actualTimeLocal": "2022-04-06 06:25+02:00",
          "actualTimeUtc": "2022-04-06 04:25Z",
          "airport": {
           "iata": "STR",
           "icao": "EDDS",
           "name": "Stuttgart"
          },
          "gate": "164",
          "quality": [
           "Basic",
           "Live"
          ],
          "scheduledTimeLocal": "2022-04-06 06:25+02:00",
          "scheduledTimeUtc": "2022-04-06 04:25Z",
          "terminal": "1"
         },
         "isCargo": false,
         "number": "EW 2002",
         "status": "Unknown"
        },
        {
         "aircraft": {
          "modeS": "44083B",
          "model": "Airbus A320-100/200",
          "reg": "OE-IJA"
         },
         "airline": {
          "name": "EasyJet Europe"
         },
         "arrival": {
          "actualTimeLocal": "2022-04-06 07:41+02:00",
          "actualTimeUtc": "2022-04-06 05:41Z",
          "quality": [
           "Basic",
           "Live"
          ],
          "runway": "25L",
          "runwayTimeLocal": "2022-04-06 07:36+02:00",
          "runwayTimeUtc": "2022-04-06 05:36Z",
          "scheduledTimeLocal": "2022-04-06 07:36+02:00",
          "scheduledTimeUtc": "2022-04-06 05:36Z"
         },
         "callSign": "EJU79CX",
         "codeshareStatus": "IsOperator",
         "departure": {
          "actualTimeLocal": "2022-04-06 06:18+02:00",
          "actualTimeUtc": "2022-04-06 04:18Z",
          "airport": {
           "iata": "CDG",
           "icao": "LFPG",
           "name": "Paris"
          },
          "quality": [
           "Basic",
           "Live"
          ],
          "runwayTimeLocal": "2022-04-06 06:18+02:00",
          "runwayTimeUtc": "2022-04-06 04:18Z",
          "scheduledTimeLocal": "2022-04-06 06:18+02:00",
          "scheduledTimeUtc": "2022-04-06 04:18Z"
         },
         "isCargo": false,
         "number": "EC 79CX",
         "status": "Arrived"
        },
        {
         "aircraft": {
          "modeS": "471F51",
          "model": "Airbus A320-100/200",
          "reg": "HA-LWJ"
         },
         "airline": {
          "name": "Wizz Air"
         },
         "arrival": {
          "actualTimeLocal": "2022-04-06 07:45+02:00",
          "actualTimeUtc": "2022-04-06 05:45Z",
          "quality": [
           "Basic",
           "Live"
          ],
          "runway": "25R",
          "runwayTimeLocal": "2022-04-06 07:41+02:00",
          "runwayTimeUtc": "2022-04-06 05:41Z",
          "scheduledTimeLocal": "2022-04-06 07:45+02:00",
          "scheduledTimeUtc": "2022-04-06 05:45Z",
          "terminal": "0"
         },
         "callSign": "WZZ8BF",
         "codeshareStatus": "IsOperator",
         "departure": {
          "actualTimeLocal": "2022-04-06 06:26+02:00",
          "actualTimeUtc": "2022-04-06 04:26Z",
          "airport": {
           "iata": "BUD",
           "icao": "LHBP",
           "name": "Budapest"
          },
          "quality": [
           "Basic",
           "Live"
          ],
          "scheduledTimeLocal": "2022-04-06 06:15+02:00",
          "scheduledTimeUtc": "2022-04-06 04:15Z",
          "terminal": "2B"
         },
         "isCargo": false,
         "number": "W6 2315",
         "status": "Arrived"
        },
        {
         "aircraft": {
          "modeS": "440613",
          "model": "Embraer Phenom 300",
          "reg": "OE-GBH"
         },
         "airline": {
          "name": "Tyrolean Jet Service"
         },
         "arrival": {
          "actualTimeLocal": "2022-04-06 07:46+02:00",
          "actualTimeUtc": "2022-04-06 05:46Z",
          "quality": [
           "Basic",
           "Live"
          ],
          "runway": "25R",
          "runwayTimeLocal": "2022-04-06 07:46+02:00",
          "runwayTimeUtc": "2022-04-06 05:46Z",
          "scheduledTimeLocal": "2022-04-06 07:46+02:00",
          "scheduledTimeUtc": "2022-04-06 05:46Z"
         },
         "callSign": "TJS47",
         "codeshareStatus": "IsOperator",
         "departure": {
          "airport": {
           "name": "Unknown"
          },
          "quality": []
         },
         "isCargo": false,
         "number": "TJS 47",
         "status": "Arrived"
        },
        {
         "aircraft": {
          "modeS": "3C65CC",
          "model": "Airbus A321",
          "reg": "D-AINL"
         },
         "airline": {
          "name": "Lufthansa"
         },
         "arrival": {
          "actualTimeLocal": "2022-04-06 07:48+02:00",
          "actualTimeUtc": "2022-04-06 05:48Z",
          "quality": [
           "Basic",
           "Live"
          ],
          "runway": "25L",
          "runwayTimeLocal": "2022-04-06 07:44+02:00",
          "runwayTimeUtc": "2022-04-06 05:44Z",
          "scheduledTimeLocal": "2022-04-06 07:55+02:00",
          "scheduledTimeUtc": "2022-04-06 05:55Z",
          "terminal": "1"
         },
         "callSign": "DLH7KX",
         "codeshareStatus": "IsOperator",
         "departure": {
          "actualTimeLocal": "2022-04-06 06:45+02:00",
          "actualTimeUtc": "2022-04-06 04:45Z",
          "airport": {
           "iata": "FRA",
           "icao": "EDDF",
           "name": "Frankfurt-am-Main"
          },
          "checkInDesk": "263-498",
          "gate": "A13",
          "quality": [
           "Basic",
           "Live"
          ],
          "runway": "25C",
          "runwayTimeLocal": "2022-04-06 06:54+02:00",
          "runwayTimeUtc": "2022-04-06 04:54Z",
          "scheduledTimeLocal": "2022-04-06 06:45+02:00",
          "scheduledTimeUtc": "2022-04-06 04:45Z",
          "terminal": "1"
         },
         "isCargo": false,
         "number": "LH 170",
         "status": "Arrived"
        },
        {
         "aircraft": {
          "model": "Airbus A319"
         },
         "airline": {
          "name": "easyJet"
         },
         "arrival": {
          "quality": [
           "Basic"
          ],
          "scheduledTimeLocal": "2022-04-06 07:55+02:00",
          "scheduledTimeUtc": "2022-04-06 05:55Z",
          "terminal": "1"
         },
         "codeshareStatus": "Unknown",
         "departure": {
          "airport": {
           "iata": "BSL",
           "icao": "LFSB",
           "name": "Bâle/Mulhouse"
          },
          "quality": [
           "Basic"
          ],
          "scheduledTimeLocal": "2022-04-06 06:20+02:00",
          "scheduledTimeUtc": "2022-04-06 04:20Z"
         },
         "isCargo": false,
         "number": "U2 5632",
         "status": "CanceledUncertain"
        },
        {
         "aircraft": {
          "model": "Airbus A320"
         },
         "airline": {
          "name": "easyJet"
         },
         "arrival": {
          "quality": [
           "Basic"
          ],
          "scheduledTimeLocal": "2022-04-06 07:55+02:00",
          "scheduledTimeUtc": "2022-04-06 05:55Z",
          "terminal": "1"
         },
         "codeshareStatus": "Unknown",
         "departure": {
          "airport": {
           "iata": "CDG",
           "icao": "LFPG",
           "name": "Paris"
          },
          "quality": [
           "Basic"
          ],
          "scheduledTimeLocal": "2022-04-06 06:05+02:00",
          "scheduledTimeUtc": "2022-04-06 04:05Z",
          "terminal": "2D"
         },
         "isCargo": false,
         "number": "U2 5674",
         "status": "Unknown"
        },
        {
         "aircraft": {
          "modeS": "4D00D5",
          "model": "De Havilland Canada DHC-8-400 Dash 8Q",
          "reg": "LX-LQA"
         },
         "airline": {
          "name": "Luxair"
         },
         "arrival": {
          "actualTimeLocal": "2022-04-06 07:57+02:00",
          "actualTimeUtc": "2022-04-06 05:57Z",
          "quality": [
           "Basic",
           "Live"
          ],
          "runway": "25R",
          "runwayTimeLocal": "2022-04-06 07:57+02:00",
          "runwayTimeUtc": "2022-04-06 05:57Z",
          "scheduledTimeLocal": "2022-04-06 08:05+02:00",
          "scheduledTimeUtc": "2022-04-06 06:05Z",
          "terminal": "1"
         },
         "callSign": "LGL71B",
         "codeshareStatus": "IsOperator",
         "departure": {
          "actualTimeLocal": "2022-04-06 06:35+02:00",
          "actualTimeUtc": "2022-04-06 04:35Z",
          "airport": {
           "iata": "LUX",
           "icao": "ELLX",
           "name": "Luxembourg"
          },
          "quality": [
           "Basic",
           "Live"
          ],
          "runwayTimeLocal": "2022-04-06 06:46+02:00",
          "runwayTimeUtc": "2022-04-06 04:46Z",
          "scheduledTimeLocal": "2022-04-06 06:35+02:00",
          "scheduledTimeUtc": "2022-04-06 04:35Z"
         },
         "isCargo": false,
         "number": "LG 9471",
         "status": "Arrived"
        },
        {
         "aircraft": {
          "modeS": "484F7C",
          "model": "Embraer EMB 190",
          "reg": "PH-EZT"
         },
         "airline": {
          "name": "KLM"
         },
         "arrival": {
          "actualTimeLocal": "2022-04-06 08:07+02:00",
          "actualTimeUtc": "2022-04-06 06:07Z",
          "quality": [
           "Basic",
           "Live"
          ],
          "runway": "25L",
          "runwayTimeLocal": "2022-04-06 08:03+02:00",
          "runwayTimeUtc": "2022-04-06 06:03Z",
          "scheduledTimeLocal": "2022-04-06 08:20+02:00",
          "scheduledTimeUtc": "2022-04-06 06:20Z",
          "terminal": "1"
         },
         "callSign": "KLM69H",
         "codeshareStatus": "IsOperator",
         "departure": {
          "actualTimeLocal": "2022-04-06 07:01+02:00",
          "actualTimeUtc": "2022-04-06 05:01Z",
          "airport": {
           "iata": "AMS",
           "icao": "EHAM",
           "name": "Amsterdam"
          },
          "checkInDesk": "6-8",
          "gate": "B26",
          "quality": [
           "Basic",
           "Live"
          ],
          "runway": "24",
          "runwayTimeLocal": "2022-04-06 07:09+02:00",
          "runwayTimeUtc": "2022-04-06 05:09Z",
          "scheduledTimeLocal": "2022-04-06 07:00+02:00",
          "scheduledTimeUtc": "2022-04-06 05:00Z",
          "terminal": "1"
         },
         "isCargo": false,
         "number": "KL 1821",
         "status": "Arrived"
        },
        {
         "aircraft": {
          "model": "ATR 42-300"
         },
         "airline": {
          "name": "Danish Air"
         },
         "arrival": {
          "quality": [
           "Basic"
          ],
          "scheduledTimeLocal": "2022-04-06 08:10+02:00",
          "scheduledTimeUtc": "2022-04-06 06:10Z",
          "terminal": "0"
         },
         "codeshareStatus": "IsOperator",
         "departure": {
          "airport": {
           "iata": "SCN",
           "icao": "EDDR",
           "name": "Saarbrücken"
          },
          "quality": [
           "Basic"
          ],
          "scheduledTimeLocal": "2022-04-06 06:30+02:00",
          "scheduledTimeUtc": "2022-04-06 04:30Z"
         },
         "isCargo": false,
         "number": "DX 121",
         "status": "Unknown"
        },
        {
         "aircraft": {
          "modeS": "3C496A",
          "model": "Boeing 737",
          "reg": "D-ABKJ"
         },
         "airline": {
          "name": "Eurowings"
         },
         "arrival": {
          "actualTimeLocal": "2022-04-06 07:20+02:00",
          "actualTimeUtc": "2022-04-06 05:20Z",
          "quality": [
           "Basic",
           "Live"
          ],
          "runway": "25L",
          "runwayTimeLocal": "2022-04-06 07:15+02:00",
          "runwayTimeUtc": "2022-04-06 05:15Z",
          "scheduledTimeLocal": "2022-04-06 07:25+02:00",
          "scheduledTimeUtc": "2022-04-06 05:25Z",
          "terminal": "1"
         },
         "callSign": "EWG5MK",
         "codeshareStatus": "IsOperator",
         "departure": {
          "actualTimeLocal": "2022-04-06 06:27+02:00",
          "actualTimeUtc": "2022-04-06 04:27Z",
          "airport": {
           "iata": "CGN",
           "icao": "EDDK",
           "name": "Cologne"
          },
          "quality": [
           "Basic",
           "Live"
          ],
          "runwayTimeLocal": "2022-04-06 06:27+02:00",
          "runwayTimeUtc": "2022-04-06 04:27Z",
          "scheduledTimeLocal": "2022-04-06 06:15+02:00",
          "scheduledTimeUtc": "2022-04-06 04:15Z",
          "terminal": "1"
         },
         "isCargo": false,
         "number": "EW 12",
         "status": "Arrived"
        },
        {
         "aircraft": {
          "modeS": "440065",
          "model": "Airbus A319",
          "reg": "OE-LQZ"
         },
         "airline": {
          "name": "EasyJet Europe"
         },
         "arrival": {
          "actualTimeLocal": "2022-04-06 08:16+02:00",
          "actualTimeUtc": "2022-04-06 06:16Z",
          "quality": [
           "Basic",
           "Live"
          ],
          "runway": "25L",
          "runwayTimeLocal": "2022-04-06 08:12+02:00",
          "runwayTimeUtc": "2022-04-06 06:12Z",
          "scheduledTimeLocal": "2022-04-06 08:16+02:00",
          "scheduledTimeUtc": "2022-04-06 06:16Z"
         },
         "callSign": "EJU41DX",
         "codeshareStatus": "IsOperator",
         "departure": {
          "actualTimeLocal": "2022-04-06 06:54+02:00",
          "actualTimeUtc": "2022-04-06 04:54Z",
          "airport": {
           "iata": "LIN",
           "icao": "LIML",
           "name": "Milan"
          },
          "quality": [
           "Basic",
           "Live"
          ],
          "runway": "36",
          "runwayTimeLocal": "2022-04-06 06:54+02:00",
          "runwayTimeUtc": "2022-04-06 04:54Z",
          "scheduledTimeLocal": "2022-04-06 06:54+02:00",
          "scheduledTimeUtc": "2022-04-06 04:54Z"
         },
         "isCargo": false,
         "number": "EC 41DX",
         "status": "Arrived"
        },
        {
         "aircraft": {
          "modeS": "76BCCA",
          "model": "Boeing 787-8 Dreamliner",
          "reg": "9V-OFJ"
         },
         "airline": {
          "name": "Scoot"
         },
         "arrival": {
          "actualTimeLocal": "2022-04-06 08:25+02:00",
          "actualTimeUtc": "2022-04-06 06:25Z",
          "quality": [
           "Basic",
           "Live"
          ],
          "runway": "25L",
          "runwayTimeLocal": "2022-04-06 08:18+02:00",
          "runwayTimeUtc": "2022-04-06 06:18Z",
          "scheduledTimeLocal": "2022-04-06 08:00+02:00",
          "scheduledTimeUtc": "2022-04-06 06:00Z",
          "terminal": "1"
         },
         "callSign": "TGW734",
         "codeshareStatus": "IsOperator",
         "departure": {
          "airport": {
           "iata": "SIN",
           "icao": "WSSS",
           "name": "Singapore"
          },
          "checkInDesk": "06",
          "gate": "D46",
          "quality": [
           "Basic"
          ],
          "runway": "02L",
          "runwayTimeLocal": "2022-04-06 00:52+08:00",
          "runwayTimeUtc": "2022-04-05 16:52Z",
          "scheduledTimeLocal": "2022-04-06 00:30+08:00",
          "scheduledTimeUtc": "2022-04-05 16:30Z",
          "terminal": "1"
         },
         "isCargo": false,
         "number": "TR 734",
         "status": "Arrived"
        },
        {
         "aircraft": {
          "modeS": "45CE4B",
          "model": "Boeing 767",
          "reg": "OY-SRK"
         },
         "airline": {
          "name": "Star Air A/S"
         },
         "arrival": {
          "actualTimeLocal": "2022-04-06 05:53+01:59",
          "actualTimeUtc": "2022-04-06 03:53Z",
          "quality": [
           "Basic",
           "Live"
          ],
          "runway": "25R",
          "runwayTimeLocal": "2022-04-06 05:37+02:00",
          "runwayTimeUtc": "2022-04-06 03:37Z",
          "scheduledTimeLocal": "2022-04-06 05:36+02:00",
          "scheduledTimeUtc": "2022-04-06 03:36Z"
         },
         "callSign": "SRR6228",
         "codeshareStatus": "IsOperator",
         "departure": {
          "actualTimeLocal": "2022-04-06 04:49+02:00",
          "actualTimeUtc": "2022-04-06 02:49Z",
          "airport": {
           "iata": "CGN",
           "icao": "EDDK",
           "name": "Cologne"
          },
          "quality": [
           "Basic",
           "Live"
          ],
          "runway": "32R",
          "runwayTimeLocal": "2022-04-06 04:49+02:00",
          "runwayTimeUtc": "2022-04-06 02:49Z",
          "scheduledTimeLocal": "2022-04-06 04:49+02:00",
          "scheduledTimeUtc": "2022-04-06 02:49Z"
         },
         "isCargo": false,
         "number": "DJ 6228",
         "status": "Arrived"
        },
        {
         "aircraft": {
          "modeS": "461F62",
          "model": "Airbus A320-100/200",
          "reg": "OH-LXA"
         },
         "airline": {
          "name": "Finnair"
         },
         "arrival": {
          "actualTimeLocal": "2022-04-06 08:31+02:00",
          "actualTimeUtc": "2022-04-06 06:31Z",
          "quality": [
           "Basic",
           "Live"
          ],
          "runway": "25L",
          "runwayTimeLocal": "2022-04-06 08:28+02:00",
          "runwayTimeUtc": "2022-04-06 06:28Z",
          "scheduledTimeLocal": "2022-04-06 08:25+02:00",
          "scheduledTimeUtc": "2022-04-06 06:25Z",
          "terminal": "1"
         },
         "callSign": "FIN1431",
         "codeshareStatus": "IsOperator",
         "departure": {
          "actualTimeLocal": "2022-04-06 07:31+03:00",
          "actualTimeUtc": "2022-04-06 04:31Z",
          "airport": {
           "iata": "HEL",
           "icao": "EFHK",
           "name": "Helsinki"
          },
          "checkInDesk": "507-517",
          "gate": "24",
          "quality": [
           "Basic",
           "Live"
          ],
          "runwayTimeLocal": "2022-04-06 07:49+03:00",
          "runwayTimeUtc": "2022-04-06 04:49Z",
          "scheduledTimeLocal": "2022-04-06 07:25+03:00",
          "scheduledTimeUtc": "2022-04-06 04:25Z",
          "terminal": "2-200"
         },
         "isCargo": false,
         "number": "AY 1431",
         "status": "Arrived"
        },
        {
         "aircraft": {
          "model": "Airbus A319"
         },
         "airline": {
          "name": "easyJet"
         },
         "arrival": {
          "quality": [
           "Basic"
          ],
          "scheduledTimeLocal": "2022-04-06 08:45+02:00",
          "scheduledTimeUtc": "2022-04-06 06:45Z",
          "terminal": "1"
         },
         "codeshareStatus": "Unknown",
         "departure": {
          "airport": {
           "iata": "LIN",
           "icao": "LIML",
           "name": "Milan"
          },
          "quality": [
           "Basic"
          ],
          "scheduledTimeLocal": "2022-04-06 06:55+02:00",
          "scheduledTimeUtc": "2022-04-06 04:55Z"
         },
         "isCargo": false,
         "number": "U2 5182",
         "status": "Unknown"
        },
        {
         "aircraft": {
          "modeS": "4B1699",
          "model": "Airbus A321-100/200",
          "reg": "HB-ION"
         },
         "airline": {
          "name": "SWISS"
         },
         "arrival": {
          "actualTimeLocal": "2022-04-06 08:46+02:00",
          "actualTimeUtc": "2022-04-06 06:46Z",
          "quality": [
           "Basic",
           "Live"
          ],
          "runway": "25L",
          "runwayTimeLocal": "2022-04-06 08:41+02:00",
          "runwayTimeUtc": "2022-04-06 06:41Z",
          "scheduledTimeLocal": "2022-04-06 08:45+02:00",
          "scheduledTimeUtc": "2022-04-06 06:45Z",
          "terminal": "1"
         },
         "callSign": "SWR97Y",
         "codeshareStatus": "IsOperator",
         "departure": {
          "actualTimeLocal": "2022-04-06 07:26+02:00",
          "actualTimeUtc": "2022-04-06 05:26Z",
          "airport": {
           "iata": "ZRH",
           "icao": "LSZH",
           "name": "Zurich"
          },
          "checkInDesk": "1",
          "gate": "A66",
          "quality": [
           "Basic",
           "Live"
          ],
          "runwayTimeLocal": "2022-04-06 07:37+02:00",
          "runwayTimeUtc": "2022-04-06 05:37Z",
          "scheduledTimeLocal": "2022-04-06 07:20+02:00",
          "scheduledTimeUtc": "2022-04-06 05:20Z"
         },
         "isCargo": false,
         "number": "LX 974",
         "status": "Arrived"
        },
        {
         "aircraft": {
          "modeS": "471EE2",
          "model": "Airbus A320-100/200",
          "reg": "HA-LSC"
         },
         "airline": {
          "name": "Wizz Air"
         },
         "arrival": {
          "actualTimeLocal": "2022-04-06 08:54+01:59",
          "actualTimeUtc": "2022-04-06 06:54Z",
          "quality": [
           "Basic",
           "Live"
          ],
          "runway": "25R",
          "runwayTimeLocal": "2022-04-06 08:44+02:00",
          "runwayTimeUtc": "2022-04-06 06:44Z",
          "scheduledTimeLocal": "2022-04-06 09:00+02:00",
          "scheduledTimeUtc": "2022-04-06 07:00Z",
          "terminal": "0"
         },
         "callSign": "WZZ8719",
         "codeshareStatus": "IsOperator",
         "departure": {
          "airport": {
           "iata": "IAS",
           "icao": "LRIA",
           "name": "Iaşi"
          },
          "quality": [
           "Basic"
          ],
          "scheduledTimeLocal": "2022-04-06 07:45+03:00",
          "scheduledTimeUtc": "2022-04-06 04:45Z"
         },
         "isCargo": false,
         "number": "W6 8719",
         "status": "Arrived"
        },
        {
         "aircraft": {
          "modeS": "39E4AC",
          "model": "Airbus A320-100/200",
          "reg": "F-HZFM"
         },
         "airline": {
          "name": "Air France"
         },
         "arrival": {
          "actualTimeLocal": "2022-04-06 09:00+02:00",
          "actualTimeUtc": "2022-04-06 07:00Z",
          "quality": [
           "Basic",
           "Live"
          ],
          "runway": "25L",
          "runwayTimeLocal": "2022-04-06 08:55+02:00",
          "runwayTimeUtc": "2022-04-06 06:55Z",
          "scheduledTimeLocal": "2022-04-06 09:05+02:00",
          "scheduledTimeUtc": "2022-04-06 07:05Z",
          "terminal": "1"
         },
         "callSign": "AFR12VH",
         "codeshareStatus": "IsOperator",
         "departure": {
          "actualTimeLocal": "2022-04-06 07:37+02:00",
          "actualTimeUtc": "2022-04-06 05:37Z",
          "airport": {
           "iata": "CDG",
           "icao": "LFPG",
           "name": "Paris"
          },
          "quality": [
           "Basic",
           "Live"
          ],
          "runway": "27L",
          "runwayTimeLocal": "2022-04-06 07:37+02:00",
          "runwayTimeUtc": "2022-04-06 05:37Z",
          "scheduledTimeLocal": "2022-04-06 07:20+02:00",
          "scheduledTimeUtc": "2022-04-06 05:20Z",
          "terminal": "2F"
         },
         "isCargo": false,
         "number": "AF 1434",
         "status": "Arrived"
        },
        {
         "aircraft": {
          "modeS": "4ACA50",
          "model": "Boeing 737",
          "reg": "SE-RRP"
         },
         "airline": {
          "name": "NOZ"
         },
         "arrival": {
          "actualTimeLocal": "2022-04-06 09:02+02:00",
          "actualTimeUtc": "2022-04-06 07:02Z",
          "quality": [
           "Basic",
           "Live"
          ],
          "runway": "25R",
          "runwayTimeLocal": "2022-04-06 08:58+02:00",
          "runwayTimeUtc": "2022-04-06 06:58Z",
          "scheduledTimeLocal": "2022-04-06 09:02+02:00",
          "scheduledTimeUtc": "2022-04-06 07:02Z"
         },
         "callSign": "NOZ2XM",
         "codeshareStatus": "IsOperator",
         "departure": {
          "actualTimeLocal": "2022-04-06 07:35+02:00",
          "actualTimeUtc": "2022-04-06 05:35Z",
          "airport": {
           "iata": "OSL",
           "icao": "ENGM",
           "name": "Oslo"
          },
          "quality": [
           "Basic",
           "Live"
          ],
          "runway": "01L",
          "runwayTimeLocal": "2022-04-06 07:35+02:00",
          "runwayTimeUtc": "2022-04-06 05:35Z",
          "scheduledTimeLocal": "2022-04-06 07:35+02:00",
          "scheduledTimeUtc": "2022-04-06 05:35Z"
         },
         "isCargo": false,
         "number": "NOZ 2XM",
         "status": "Arrived"
        },
        {
         "aircraft": {
          "model": "Boeing 737-800"
         },
         "airline": {
          "name": "Norwegian Air Shuttle"
         },
         "arrival": {
          "quality": [
           "Basic"
          ],
          "scheduledTimeLocal": "2022-04-06 09:05+02:00",
          "scheduledTimeUtc": "2022-04-06 07:05Z",
          "terminal": "1"
         },
         "codeshareStatus": "IsOperator",
         "departure": {
          "actualTimeLocal": "2022-04-06 07:23+02:00",
          "actualTimeUtc": "2022-04-06 05:23Z",
          "airport": {
           "iata": "OSL",
           "icao": "ENGM",
           "name": "Oslo"
          },
          "checkInDesk": "23",
          "gate": "D10",
          "quality": [
           "Basic",
           "Live"
          ],
          "scheduledTimeLocal": "2022-04-06 07:30+02:00",
          "scheduledTimeUtc": "2022-04-06 05:30Z"
         },
         "isCargo": false,
         "number": "DY 1102",
         "status": "Unknown"
        },
        {
         "aircraft": {
          "modeS": "4D2259",
          "model": "Boeing 737-800 (winglets)",
          "reg": "9H-QBB"
         },
         "airline": {
          "name": "Ryanair"
         },
         "arrival": {
          "actualTimeLocal": "2022-04-06 09:09+02:00",
          "actualTimeUtc": "2022-04-06 07:09Z",
          "quality": [
           "Basic",
           "Live"
          ],
          "runway": "25R",
          "runwayTimeLocal": "2022-04-06 09:09+02:00",
          "runwayTimeUtc": "2022-04-06 07:09Z",
          "scheduledTimeLocal": "2022-04-06 08:30+02:00",
          "scheduledTimeUtc": "2022-04-06 06:30Z"
         },
         "callSign": "RYR8FW",
         "codeshareStatus": "IsOperator",
         "departure": {
          "actualTimeLocal": "2022-04-06 06:53+02:00",
          "actualTimeUtc": "2022-04-06 04:53Z",
          "airport": {
           "iata": "BGY",
           "icao": "LIME",
           "name": "Bergamo"
          },
          "quality": [
           "Basic",
           "Live"
          ],
          "runwayTimeLocal": "2022-04-06 06:55+02:00",
          "runwayTimeUtc": "2022-04-06 04:55Z",
          "scheduledTimeLocal": "2022-04-06 06:50+02:00",
          "scheduledTimeUtc": "2022-04-06 04:50Z"
         },
         "isCargo": false,
         "number": "FR 4731",
         "status": "Arrived"
        },
        {
         "aircraft": {
          "modeS": "40756E",
          "model": "Airbus A320",
          "reg": "G-EZGX"
         },
         "airline": {
          "name": "easyJet"
         },
         "arrival": {
          "quality": [
           "Basic"
          ],
          "scheduledTimeLocal": "2022-04-06 09:10+02:00",
          "scheduledTimeUtc": "2022-04-06 07:10Z",
          "terminal": "1"
         },
         "callSign": "EZY46AQ",
         "codeshareStatus": "Unknown",
         "departure": {
          "actualTimeLocal": "2022-04-06 06:03+01:00",
          "actualTimeUtc": "2022-04-06 05:03Z",
          "airport": {
           "iata": "LTN",
           "icao": "EGGW",
           "name": "London"
          },
          "quality": [
           "Basic",
           "Live"
          ],
          "runway": "26",
          "runwayTimeLocal": "2022-04-06 06:03+01:00",
          "runwayTimeUtc": "2022-04-06 05:03Z",
          "scheduledTimeLocal": "2022-04-06 06:20+01:00",
          "scheduledTimeUtc": "2022-04-06 05:20Z"
         },
         "isCargo": false,
         "number": "U2 2101",
         "status": "Unknown"
        },
        {
         "aircraft": {
          "modeS": "3C49C9",
          "model": "Airbus A320-100/200",
          "reg": "D-ABNI"
         },
         "airline": {
          "name": "Germanwings"
         },
         "arrival": {
          "actualTimeLocal": "2022-04-06 09:10+02:00",
          "actualTimeUtc": "2022-04-06 07:10Z",
          "quality": [
           "Basic",
           "Live"
          ],
          "runway": "25L",
          "runwayTimeLocal": "2022-04-06 09:10+02:00",
          "runwayTimeUtc": "2022-04-06 07:10Z",
          "scheduledTimeLocal": "2022-04-06 07:24+02:00",
          "scheduledTimeUtc": "2022-04-06 05:24Z"
         },
         "callSign": "GWI9XL",
         "codeshareStatus": "IsOperator",
         "departure": {
          "actualTimeLocal": "2022-04-06 06:27+02:00",
          "actualTimeUtc": "2022-04-06 04:27Z",
          "airport": {
           "iata": "DUS",
           "icao": "EDDL",
           "name": "Duesseldorf"
          },
          "quality": [
           "Basic",
           "Live"
          ],
          "runway": "23L",
          "runwayTimeLocal": "2022-04-06 06:27+02:00",
          "runwayTimeUtc": "2022-04-06 04:27Z",
          "scheduledTimeLocal": "2022-04-06 06:27+02:00",
          "scheduledTimeUtc": "2022-04-06 04:27Z"
         },
         "isCargo": false,
         "number": "4U 52FP",
         "status": "Arrived"
        },
        {
         "aircraft": {
          "modeS": "3C6654",
          "model": "Airbus A321-100/200",
          "reg": "D-AIRT"
         },
         "airline": {
          "name": "Lufthansa"
         },
         "arrival": {
          "actualTimeLocal": "2022-04-06 09:11+02:00",
          "actualTimeUtc": "2022-04-06 07:11Z",
          "quality": [
           "Basic",
           "Live"
          ],
          "runway": "25L",
          "runwayTimeLocal": "2022-04-06 09:04+02:00",
          "runwayTimeUtc": "2022-04-06 07:04Z",
          "scheduledTimeLocal": "2022-04-06 08:55+02:00",
          "scheduledTimeUtc": "2022-04-06 06:55Z",
          "terminal": "1"
         },
         "callSign": "DLH4NX",
         "codeshareStatus": "IsOperator",
         "departure": {
          "actualTimeLocal": "2022-04-06 07:45+02:00",
          "actualTimeUtc": "2022-04-06 05:45Z",
          "airport": {
           "iata": "FRA",
           "icao": "EDDF",
           "name": "Frankfurt-am-Main"
          },
          "checkInDesk": "263-498",
          "gate": "A11",
          "quality": [
           "Basic",
           "Live"
          ],
          "runway": "25C",
          "runwayTimeLocal": "2022-04-06 07:59+02:00",
          "runwayTimeUtc": "2022-04-06 05:59Z",
          "scheduledTimeLocal": "2022-04-06 07:45+02:00",
          "scheduledTimeUtc": "2022-04-06 05:45Z",
          "terminal": "1"
         },
         "isCargo": false,
         "number": "LH 174",
         "status": "Arrived"
        },
        {
         "aircraft": {
          "modeS": "3C6581",
          "model": "Airbus A319",
          "reg": "D-AILA"
         },
         "airline": {
          "name": "Lufthansa"
         },
         "arrival": {
          "actualTimeLocal": "2022-04-06 09:14+02:00",
          "actualTimeUtc": "2022-04-06 07:14Z",
          "quality": [
           "Basic",
           "Live"
          ],
          "runway": "25L",
          "runwayTimeLocal": "2022-04-06 09:06+02:00",
          "runwayTimeUtc": "2022-04-06 07:06Z",
          "scheduledTimeLocal": "2022-04-06 09:05+02:00",
          "scheduledTimeUtc": "2022-04-06 07:05Z",
          "terminal": "1"
         },
         "callSign": "DLH5T",
         "codeshareStatus": "IsOperator",
         "departure": {
          "actualTimeLocal": "2022-04-06 08:10+02:00",
          "actualTimeUtc": "2022-04-06 06:10Z",
          "airport": {
           "iata": "MUC",
           "icao": "EDDM",
           "name": "Munich"
          },
          "quality": [
           "Basic",
           "Live"
          ],
          "runwayTimeLocal": "2022-04-06 08:11+02:00",
          "runwayTimeUtc": "2022-04-06 06:11Z",
          "scheduledTimeLocal": "2022-04-06 08:00+02:00",
          "scheduledTimeUtc": "2022-04-06 06:00Z",
          "terminal": "2"
         },
         "isCargo": false,
         "number": "LH 1930",
         "status": "Arrived"
        },
        {
         "aircraft": {
          "modeS": "4CA9CC",
          "model": "Boeing 737-800",
          "reg": "EI-EVE"
         },
         "airline": {
          "name": "Ryanair"
         },
         "arrival": {
          "actualTimeLocal": "2022-04-06 09:14+02:00",
          "actualTimeUtc": "2022-04-06 07:14Z",
          "quality": [
           "Basic",
           "Live"
          ],
          "runway": "25R",
          "runwayTimeLocal": "2022-04-06 09:08+02:00",
          "runwayTimeUtc": "2022-04-06 07:08Z",
          "scheduledTimeLocal": "2022-04-06 09:30+02:00",
          "scheduledTimeUtc": "2022-04-06 07:30Z"
         },
         "callSign": "RYR2376",
         "codeshareStatus": "IsOperator",
         "departure": {
          "actualTimeLocal": "2022-04-06 06:26+01:00",
          "actualTimeUtc": "2022-04-06 05:26Z",
          "airport": {
           "iata": "EDI",
           "icao": "EGPH",
           "name": "Edinburgh"
          },
          "quality": [
           "Basic",
           "Live"
          ],
          "runway": "06",
          "runwayTimeLocal": "2022-04-06 06:24+01:00",
          "runwayTimeUtc": "2022-04-06 05:24Z",
          "scheduledTimeLocal": "2022-04-06 06:25+01:00",
          "scheduledTimeUtc": "2022-04-06 05:25Z"
         },
         "isCargo": false,
         "number": "FR 2376",
         "status": "Arrived"
        },
        {
         "aircraft": {
          "modeS": "3C49C9",
          "model": "Airbus A320",
          "reg": "D-ABNI"
         },
         "airline": {
          "name": "Eurowings"
         },
         "arrival": {
          "quality": [
           "Basic"
          ],
          "scheduledTimeLocal": "2022-04-06 09:15+02:00",
          "scheduledTimeUtc": "2022-04-06 07:15Z",
          "terminal": "1"
         },
         "callSign": "GWI9XL",
         "codeshareStatus": "IsOperator",
         "departure": {
          "actualTimeLocal": "2022-04-06 08:02+02:00",
          "actualTimeUtc": "2022-04-06 06:02Z",
          "airport": {
           "iata": "DUS",
           "icao": "EDDL",
           "name": "Duesseldorf"
          },
          "checkInDesk": "153,170",
          "gate": "A37",
          "quality": [
           "Basic",
           "Live"
          ],
          "runwayTimeLocal": "2022-04-06 08:14+02:00",
          "runwayTimeUtc": "2022-04-06 06:14Z",
          "scheduledTimeLocal": "2022-04-06 08:00+02:00",
          "scheduledTimeUtc": "2022-04-06 06:00Z",
          "terminal": "B"
         },
         "isCargo": false,
         "number": "EW 8041",
         "status": "Unknown"
        },
        {
         "aircraft": {
          "model": "Airbus A319"
         },
         "airline": {
          "name": "easyJet"
         },
         "arrival": {
          "quality": [
           "Basic"
          ],
          "scheduledTimeLocal": "2022-04-06 09:20+02:00",
          "scheduledTimeUtc": "2022-04-06 07:20Z",
          "terminal": "1"
         },
         "codeshareStatus": "Unknown",
         "departure": {
          "airport": {
           "iata": "NAP",
           "icao": "LIRN",
           "name": "Nápoli"
          },
          "quality": [
           "Basic"
          ],
          "scheduledTimeLocal": "2022-04-06 07:00+02:00",
          "scheduledTimeUtc": "2022-04-06 05:00Z"
         },
         "isCargo": false,
         "number": "U2 4895",
         "status": "Unknown"
        },
        {
         "aircraft": {
          "modeS": "30067E",
          "model": "Cessna 525 Citation Jet",
          "reg": "I-FVAB"
         },
         "airline": {
          "name": "ITL"
         },
         "arrival": {
          "actualTimeLocal": "2022-04-06 09:23+02:00",
          "actualTimeUtc": "2022-04-06 07:23Z",
          "quality": [
           "Basic",
           "Live"
          ],
          "runway": "25R",
          "runwayTimeLocal": "2022-04-06 09:23+02:00",
          "runwayTimeUtc": "2022-04-06 07:23Z",
          "scheduledTimeLocal": "2022-04-06 09:23+02:00",
          "scheduledTimeUtc": "2022-04-06 07:23Z"
         },
         "callSign": "ITL603",
         "codeshareStatus": "IsOperator",
         "departure": {
          "actualTimeLocal": "2022-04-06 08:01+02:00",
          "actualTimeUtc": "2022-04-06 06:01Z",
          "airport": {
           "iata": "TSF",
           "icao": "LIPH",
           "name": "Treviso"
          },
          "quality": [
           "Basic",
           "Live"
          ],
          "runway": "25",
          "runwayTimeLocal": "2022-04-06 08:01+02:00",
          "runwayTimeUtc": "2022-04-06 06:01Z",
          "scheduledTimeLocal": "2022-04-06 08:01+02:00",
          "scheduledTimeUtc": "2022-04-06 06:01Z"
         },
         "isCargo": false,
         "number": "ITL 603",
         "status": "Arrived"
        },
        {
         "aircraft": {
          "modeS": "4D226F",
          "model": "Boeing 737-800",
          "reg": "9H-QBG"
         },
         "airline": {
          "name": "Ryanair"
         },
         "arrival": {
          "actualTimeLocal": "2022-04-06 09:25+02:00",
          "actualTimeUtc": "2022-04-06 07:25Z",
          "quality": [
           "Basic",
           "Live"
          ],
          "runway": "25R",
          "runwayTimeLocal": "2022-04-06 09:25+02:00",
          "runwayTimeUtc": "2022-04-06 07:25Z",
          "scheduledTimeLocal": "2022-04-06 09:45+02:00",
          "scheduledTimeUtc": "2022-04-06 07:45Z"
         },
         "callSign": "RYR163",
         "codeshareStatus": "IsOperator",
         "departure": {
          "actualTimeLocal": "2022-04-06 08:23+02:00",
          "actualTimeUtc": "2022-04-06 06:23Z",
          "airport": {
           "iata": "BRU",
           "icao": "EBBR",
           "name": "Brussels"
          },
          "checkInDesk": "08",
          "quality": [
           "Basic",
           "Live"
          ],
          "runway": "25R",
          "runwayTimeLocal": "2022-04-06 08:24+02:00",
          "runwayTimeUtc": "2022-04-06 06:24Z",
          "scheduledTimeLocal": "2022-04-06 08:15+02:00",
          "scheduledTimeUtc": "2022-04-06 06:15Z"
         },
         "isCargo": false,
         "number": "FR 163",
         "status": "Arrived"
        },
        {
         "aircraft": {
          "modeS": "440148",
          "model": "Airbus A320-100/200",
          "reg": "OE-ICZ"
         },
         "airline": {
          "name": "EasyJet Europe"
         },
         "arrival": {
          "actualTimeLocal": "2022-04-06 09:34+02:00",
          "actualTimeUtc": "2022-04-06 07:34Z",
          "quality": [
           "Basic",
           "Live"
          ],
          "runway": "25L",
          "runwayTimeLocal": "2022-04-06 09:34+02:00",
          "runwayTimeUtc": "2022-04-06 07:34Z",
          "scheduledTimeLocal": "2022-04-06 09:01+02:00",
          "scheduledTimeUtc": "2022-04-06 07:01Z"
         },
         "callSign": "EJU35MK",
         "codeshareStatus": "IsOperator",
         "departure": {
          "airport": {
           "name": "Unknown"
          },
          "quality": []
         },
         "isCargo": false,
         "number": "EC 72PN",
         "status": "Arrived"
        },
        {
         "aircraft": {
          "model": "Airbus A319"
         },
         "airline": {
          "name": "easyJet"
         },
         "arrival": {
          "quality": [
           "Basic"
          ],
          "scheduledTimeLocal": "2022-04-06 09:40+02:00",
          "scheduledTimeUtc": "2022-04-06 07:40Z",
          "terminal": "1"
         },
         "codeshareStatus": "IsOperator",
         "departure": {
          "actualTimeLocal": "2022-04-06 06:40+01:00",
          "actualTimeUtc": "2022-04-06 05:40Z",
          "airport": {
           "iata": "LGW",
           "icao": "EGKK",
           "name": "London"
          },
          "quality": [
           "Basic",
           "Live"
          ],
          "scheduledTimeLocal": "2022-04-06 06:40+01:00",
          "scheduledTimeUtc": "2022-04-06 05:40Z",
          "terminal": "N"
         },
         "isCargo": false,
         "number": "U2 8121",
         "status": "Canceled"
        },
        {
         "aircraft": {
          "model": "Airbus A320"
         },
         "airline": {
          "name": "easyJet"
         },
         "arrival": {
          "quality": [
           "Basic"
          ],
          "scheduledTimeLocal": "2022-04-06 09:45+02:00",
          "scheduledTimeUtc": "2022-04-06 07:45Z",
          "terminal": "1"
         },
         "codeshareStatus": "Unknown",
         "departure": {
          "airport": {
           "iata": "BSL",
           "icao": "LFSB",
           "name": "Bâle/Mulhouse"
          },
          "quality": [
           "Basic"
          ],
          "scheduledTimeLocal": "2022-04-06 08:10+02:00",
          "scheduledTimeUtc": "2022-04-06 06:10Z"
         },
         "isCargo": false,
         "number": "U2 5630",
         "status": "CanceledUncertain"
        },
        {
         "aircraft": {
          "model": "Airbus A320"
         },
         "airline": {
          "name": "easyJet"
         },
         "arrival": {
          "quality": [
           "Basic"
          ],
          "scheduledTimeLocal": "2022-04-06 09:45+02:00",
          "scheduledTimeUtc": "2022-04-06 07:45Z",
          "terminal": "1"
         },
         "codeshareStatus": "IsOperator",
         "departure": {
          "airport": {
           "iata": "CPH",
           "icao": "EKCH",
           "name": "Copenhagen"
          },
          "quality": [
           "Basic"
          ],
          "scheduledTimeLocal": "2022-04-06 08:40+02:00",
          "scheduledTimeUtc": "2022-04-06 06:40Z",
          "terminal": "2"
         },
         "isCargo": false,
         "number": "U2 5682",
         "status": "CanceledUncertain"
        },
        {
         "aircraft": {
          "modeS": "4BAA8A",
          "model": "Airbus A321-100/200",
          "reg": "TC-JTJ"
         },
         "airline": {
          "name": "Turkish"
         },
         "arrival": {
          "actualTimeLocal": "2022-04-06 09:57+02:00",
          "actualTimeUtc": "2022-04-06 07:57Z",
          "quality": [
           "Basic",
           "Live"
          ],
          "runway": "25L",
          "runwayTimeLocal": "2022-04-06 09:45+02:00",
          "runwayTimeUtc": "2022-04-06 07:45Z",
          "scheduledTimeLocal": "2022-04-06 09:45+02:00",
          "scheduledTimeUtc": "2022-04-06 07:45Z",
          "terminal": "1"
         },
         "callSign": "THY60YD",
         "codeshareStatus": "IsOperator",
         "departure": {
          "airport": {
           "iata": "IST",
           "icao": "LTFM",
           "name": "Istanbul"
          },
          "quality": [
           "Basic"
          ],
          "scheduledTimeLocal": "2022-04-06 07:55+03:00",
          "scheduledTimeUtc": "2022-04-06 04:55Z"
         },
         "isCargo": false,
         "number": "TK 1721",
         "status": "Arrived"
        },
        {
         "aircraft": {
          "modeS": "738050",
          "model": "Boeing 737-900",
          "reg": "4X-EHA"
         },
         "airline": {
          "name": "El Al"
         },
         "arrival": {
          "actualTimeLocal": "2022-04-06 09:58+02:00",
          "actualTimeUtc": "2022-04-06 07:58Z",
          "quality": [
           "Basic",
           "Live"
          ],
          "runway": "25L",
          "runwayTimeLocal": "2022-04-06 09:58+02:00",
          "runwayTimeUtc": "2022-04-06 07:58Z",
          "scheduledTimeLocal": "2022-04-06 09:40+02:00",
          "scheduledTimeUtc": "2022-04-06 07:40Z",
          "terminal": "1"
         },
         "callSign": "ELY2371",
         "codeshareStatus": "IsOperator",
         "departure": {
          "actualTimeLocal": "2022-04-06 07:00+03:00",
          "actualTimeUtc": "2022-04-06 04:00Z",
          "airport": {
           "iata": "TLV",
           "icao": "LLBG",
           "name": "Tel Aviv Yafo"
          },
          "quality": [
           "Basic",
           "Live"
          ],
          "runway": "26",
          "runwayTimeLocal": "2022-04-06 07:00+03:00",
          "runwayTimeUtc": "2022-04-06 04:00Z",
          "scheduledTimeLocal": "2022-04-06 06:20+03:00",
          "scheduledTimeUtc": "2022-04-06 03:20Z",
          "terminal": "3"
         },
         "isCargo": false,
         "number": "LY 2371",
         "status": "Arrived"
        },
        {
         "aircraft": {
          "modeS": "4CA280",
          "model": "Airbus A320-100/200",
          "reg": "EI-DEJ"
         },
         "airline": {
          "name": "Aer Lingus"
         },
         "arrival": {
          "actualTimeLocal": "2022-04-06 09:58+02:00",
          "actualTimeUtc": "2022-04-06 07:58Z",
          "quality": [
           "Basic",
           "Live"
          ],
          "runwayTimeLocal": "2022-04-06 09:58+02:00",
          "runwayTimeUtc": "2022-04-06 07:58Z",
          "scheduledTimeLocal": "2022-04-06 10:00+02:00",
          "scheduledTimeUtc": "2022-04-06 08:00Z",
          "terminal": "2"
         },
         "callSign": "EIN3JE",
         "codeshareStatus": "IsOperator",
         "departure": {
          "actualTimeLocal": "2022-04-06 06:40+01:00",
          "actualTimeUtc": "2022-04-06 05:40Z",
          "airport": {
           "iata": "DUB",
           "icao": "EIDW",
           "name": "Dublin"
          },
          "checkInDesk": "29-56",
          "gate": "335E",
          "quality": [
           "Basic",
           "Live"
          ],
          "runway": "28",
          "runwayTimeLocal": "2022-04-06 07:08+01:00",
          "runwayTimeUtc": "2022-04-06 06:08Z",
          "scheduledTimeLocal": "2022-04-06 06:40+01:00",
          "scheduledTimeUtc": "2022-04-06 05:40Z",
          "terminal": "2"
         },
         "isCargo": false,
         "number": "EI 332",
         "status": "Arrived"
        },
        {
         "aircraft": {
          "model": "Airbus A320"
         },
         "airline": {
          "name": "easyJet"
         },
         "arrival": {
          "quality": [
           "Basic"
          ],
          "scheduledTimeLocal": "2022-04-06 10:00+02:00",
          "scheduledTimeUtc": "2022-04-06 08:00Z",
          "terminal": "1"
         },
         "codeshareStatus": "Unknown",
         "departure": {
          "airport": {
           "iata": "CGN",
           "icao": "EDDK",
           "name": "Cologne"
          },
          "quality": [
           "Basic"
          ],
          "scheduledTimeLocal": "2022-04-06 08:45+02:00",
          "scheduledTimeUtc": "2022-04-06 06:45Z",
          "terminal": "1"
         },
         "isCargo": false,
         "number": "U2 5512",
         "status": "Unknown"
        },
        {
         "aircraft": {
          "modeS": "3C648F",
          "model": "Airbus A321-100/200",
          "reg": "D-AIDO"
         },
         "airline": {
          "name": "Lufthansa"
         },
         "arrival": {
          "actualTimeLocal": "2022-04-06 10:01+02:00",
          "actualTimeUtc": "2022-04-06 08:01Z",
          "quality": [
           "Basic",
           "Live"
          ],
          "runway": "25L",
          "runwayTimeLocal": "2022-04-06 09:56+02:00",
          "runwayTimeUtc": "2022-04-06 07:56Z",
          "scheduledTimeLocal": "2022-04-06 10:05+02:00",
          "scheduledTimeUtc": "2022-04-06 08:05Z",
          "terminal": "1"
         },
         "callSign": "DLH3N",
         "codeshareStatus": "IsOperator",
         "departure": {
          "airport": {
           "iata": "MUC",
           "icao": "EDDM",
           "name": "Munich"
          },
          "quality": [
           "Basic"
          ],
          "scheduledTimeLocal": "2022-04-06 09:00+02:00",
          "scheduledTimeUtc": "2022-04-06 07:00Z",
          "terminal": "2"
         },
         "isCargo": false,
         "number": "LH 1934",
         "status": "Arrived"
        },
        {
         "aircraft": {
          "model": "Airbus A319"
         },
         "airline": {
          "name": "British Airways"
         },
         "arrival": {
          "quality": [
           "Basic"
          ],
          "scheduledTimeLocal": "2022-04-06 10:05+02:00",
          "scheduledTimeUtc": "2022-04-06 08:05Z",
          "terminal": "1"
         },
         "codeshareStatus": "IsOperator",
         "departure": {
          "actualTimeLocal": "2022-04-06 07:15+01:00",
          "actualTimeUtc": "2022-04-06 06:15Z",
          "airport": {
           "iata": "LHR",
           "icao": "EGLL",
           "name": "London"
          },
          "checkInDesk": "C",
          "quality": [
           "Basic",
           "Live"
          ],
          "scheduledTimeLocal": "2022-04-06 07:15+01:00",
          "scheduledTimeUtc": "2022-04-06 06:15Z",
          "terminal": "5"
         },
         "isCargo": false,
         "number": "BA 990",
         "status": "Canceled"
        },
        {
         "aircraft": {
          "model": "Airbus A320"
         },
         "airline": {
          "name": "Eurowings"
         },
         "arrival": {
          "quality": [
           "Basic"
          ],
          "scheduledTimeLocal": "2022-04-06 10:10+02:00",
          "scheduledTimeUtc": "2022-04-06 08:10Z",
          "terminal": "1"
         },
         "codeshareStatus": "Unknown",
         "departure": {
          "airport": {
           "iata": "CGN",
           "icao": "EDDK",
           "name": "Cologne"
          },
          "quality": [
           "Basic"
          ],
          "scheduledTimeLocal": "2022-04-06 09:00+02:00",
          "scheduledTimeUtc": "2022-04-06 07:00Z",
          "terminal": "1"
         },
         "isCargo": false,
         "number": "EW 8059",
         "status": "Unknown"
        },
        {
         "aircraft": {
          "modeS": "4B1693",
          "model": "Airbus A321-100/200",
          "reg": "HB-IOH"
         },
         "airline": {
          "name": "SWISS"
         },
         "arrival": {
          "actualTimeLocal": "2022-04-06 10:13+01:59",
          "actualTimeUtc": "2022-04-06 08:13Z",
          "quality": [
           "Basic",
           "Live"
          ],
          "runway": "25L",
          "runwayTimeLocal": "2022-04-06 10:01+02:00",
          "runwayTimeUtc": "2022-04-06 08:01Z",
          "scheduledTimeLocal": "2022-04-06 10:05+02:00",
          "scheduledTimeUtc": "2022-04-06 08:05Z",
          "terminal": "1"
         },
         "callSign": "SWR92P",
         "codeshareStatus": "IsOperator",
         "departure": {
          "actualTimeLocal": "2022-04-06 08:45+02:00",
          "actualTimeUtc": "2022-04-06 06:45Z",
          "airport": {
           "iata": "ZRH",
           "icao": "LSZH",
           "name": "Zurich"
          },
          "checkInDesk": "1",
          "gate": "A75",
          "quality": [
           "Basic",
           "Live"
          ],
          "runwayTimeLocal": "2022-04-06 08:54+02:00",
          "runwayTimeUtc": "2022-04-06 06:54Z",
          "scheduledTimeLocal": "2022-04-06 08:45+02:00",
          "scheduledTimeUtc": "2022-04-06 06:45Z"
         },
         "isCargo": false,
         "number": "LX 976",
         "status": "Arrived"
        },
        {
         "aircraft": {
          "modeS": "3C56F7",
          "model": "Airbus A320-100/200",
          "reg": "D-AEWW"
         },
         "airline": {
          "name": "Germanwings"
         },
         "arrival": {
          "actualTimeLocal": "2022-04-06 10:17+01:59",
          "actualTimeUtc": "2022-04-06 08:17Z",
          "quality": [
           "Basic",
           "Live"
          ],
          "runway": "25L",
          "runwayTimeLocal": "2022-04-06 10:06+02:00",
          "runwayTimeUtc": "2022-04-06 08:06Z",
          "scheduledTimeLocal": "2022-04-06 10:06+02:00",
          "scheduledTimeUtc": "2022-04-06 08:06Z"
         },
         "callSign": "GWI8059",
         "codeshareStatus": "IsOperator",
         "departure": {
          "actualTimeLocal": "2022-04-06 09:18+02:00",
          "actualTimeUtc": "2022-04-06 07:18Z",
          "airport": {
           "iata": "CGN",
           "icao": "EDDK",
           "name": "Cologne"
          },
          "quality": [
           "Basic",
           "Live"
          ],
          "runwayTimeLocal": "2022-04-06 09:18+02:00",
          "runwayTimeUtc": "2022-04-06 07:18Z",
          "scheduledTimeLocal": "2022-04-06 09:18+02:00",
          "scheduledTimeUtc": "2022-04-06 07:18Z"
         },
         "isCargo": false,
         "number": "4U 8059",
         "status": "Arrived"
        },
        {
         "aircraft": {
          "modeS": "3C6648",
          "model": "Airbus A321-100/200",
          "reg": "D-AIRH"
         },
         "airline": {
          "name": "Lufthansa"
         },
         "arrival": {
          "actualTimeLocal": "2022-04-06 10:19+02:00",
          "actualTimeUtc": "2022-04-06 08:19Z",
          "quality": [
           "Basic",
           "Live"
          ],
          "runway": "25L",
          "runwayTimeLocal": "2022-04-06 10:14+02:00",
          "runwayTimeUtc": "2022-04-06 08:14Z",
          "scheduledTimeLocal": "2022-04-06 09:55+02:00",
          "scheduledTimeUtc": "2022-04-06 07:55Z",
          "terminal": "1"
         },
         "callSign": "DLH1UP",
         "codeshareStatus": "IsOperator",
         "departure": {
          "actualTimeLocal": "2022-04-06 09:05+02:00",
          "actualTimeUtc": "2022-04-06 07:05Z",
          "airport": {
           "iata": "FRA",
           "icao": "EDDF",
           "name": "Frankfurt-am-Main"
          },
          "checkInDesk": "263-498",
          "gate": "A30",
          "quality": [
           "Basic",
           "Live"
          ],
          "runway": "25C",
          "runwayTimeLocal": "2022-04-06 09:31+02:00",
          "runwayTimeUtc": "2022-04-06 07:31Z",
          "scheduledTimeLocal": "2022-04-06 08:45+02:00",
          "scheduledTimeUtc": "2022-04-06 06:45Z",
          "terminal": "1"
         },
         "isCargo": false,
         "number": "LH 176",
         "status": "Arrived"
        },
        {
         "aircraft": {
          "modeS": "440219",
          "model": "Airbus A320-100/200",
          "reg": "OE-IZJ"
         },
         "airline": {
          "name": "EasyJet Europe"
         },
         "arrival": {
          "actualTimeLocal": "2022-04-06 10:24+02:00",
          "actualTimeUtc": "2022-04-06 08:24Z",
          "quality": [
           "Basic",
           "Live"
          ],
          "runway": "25L",
          "runwayTimeLocal": "2022-04-06 10:24+02:00",
          "runwayTimeUtc": "2022-04-06 08:24Z",
          "scheduledTimeLocal": "2022-04-06 10:24+02:00",
          "scheduledTimeUtc": "2022-04-06 08:24Z"
         },
         "callSign": "EJU96TN",
         "codeshareStatus": "IsOperator",
         "departure": {
          "airport": {
           "iata": "AMS",
           "icao": "EHAM",
           "name": "Amsterdam"
          },
          "quality": []
         },
         "isCargo": false,
         "number": "EC 96TN",
         "status": "Arrived"
        },
        {
         "aircraft": {
          "modeS": "405B65",
          "model": "Airbus A319",
          "reg": "G-EZDL"
         },
         "airline": {
          "name": "easyJet"
         },
         "arrival": {
          "actualTimeLocal": "2022-04-06 10:29+02:00",
          "actualTimeUtc": "2022-04-06 08:29Z",
          "quality": [
           "Basic",
           "Live"
          ],
          "runway": "25L",
          "runwayTimeLocal": "2022-04-06 10:21+02:00",
          "runwayTimeUtc": "2022-04-06 08:21Z",
          "scheduledTimeLocal": "2022-04-06 10:20+02:00",
          "scheduledTimeUtc": "2022-04-06 08:20Z",
          "terminal": "1"
         },
         "callSign": "EZY76YX",
         "codeshareStatus": "IsOperator",
         "departure": {
          "actualTimeLocal": "2022-04-06 07:55+01:00",
          "actualTimeUtc": "2022-04-06 06:55Z",
          "airport": {
           "iata": "MAN",
           "icao": "EGCC",
           "name": "Manchester"
          },
          "quality": [
           "Basic",
           "Live"
          ],
          "runway": "23L",
          "runwayTimeLocal": "2022-04-06 07:56+01:00",
          "runwayTimeUtc": "2022-04-06 06:56Z",
          "scheduledTimeLocal": "2022-04-06 07:25+01:00",
          "scheduledTimeUtc": "2022-04-06 06:25Z",
          "terminal": "1"
         },
         "isCargo": false,
         "number": "U2 1897",
         "status": "Arrived"
        },
        {
         "aircraft": {
          "model": "Airbus A320"
         },
         "airline": {
          "name": "easyJet"
         },
         "arrival": {
          "quality": [
           "Basic"
          ],
          "scheduledTimeLocal": "2022-04-06 10:30+02:00",
          "scheduledTimeUtc": "2022-04-06 08:30Z",
          "terminal": "1"
         },
         "codeshareStatus": "Unknown",
         "departure": {
          "airport": {
           "iata": "AMS",
           "icao": "EHAM",
           "name": "Amsterdam"
          },
          "quality": [
           "Basic"
          ],
          "scheduledTimeLocal": "2022-04-06 09:05+02:00",
          "scheduledTimeUtc": "2022-04-06 07:05Z"
         },
         "isCargo": false,
         "number": "U2 4562",
         "status": "CanceledUncertain"
        },
        {
         "aircraft": {
          "modeS": "3C56F7",
          "model": "Airbus A320-100/200",
          "reg": "D-AEWW"
         },
         "airline": {
          "name": "Eurowings"
         },
         "arrival": {
          "actualTimeLocal": "2022-04-06 01:16+02:00",
          "actualTimeUtc": "2022-04-05 23:16Z",
          "quality": [
           "Basic",
           "Live"
          ],
          "runway": "07L",
          "runwayTimeLocal": "2022-04-06 01:12+02:00",
          "runwayTimeUtc": "2022-04-05 23:12Z",
          "scheduledTimeLocal": "2022-04-06 01:16+02:00",
          "scheduledTimeUtc": "2022-04-05 23:16Z"
         },
         "callSign": "EWG3002",
         "codeshareStatus": "IsOperator",
         "departure": {
          "actualTimeLocal": "2022-04-06 00:27+02:00",
          "actualTimeUtc": "2022-04-05 22:27Z",
          "airport": {
           "iata": "STR",
           "icao": "EDDS",
           "name": "Stuttgart"
          },
          "quality": [
           "Basic",
           "Live"
          ],
          "runwayTimeLocal": "2022-04-06 00:27+02:00",
          "runwayTimeUtc": "2022-04-05 22:27Z",
          "scheduledTimeLocal": "2022-04-06 00:27+02:00",
          "scheduledTimeUtc": "2022-04-05 22:27Z"
         },
         "isCargo": false,
         "number": "EW 3002",
         "status": "Arrived"
        },
        {
         "aircraft": {
          "modeS": "471F53",
          "model": "Airbus A320-100/200",
          "reg": "HA-LWL"
         },
         "airline": {
          "name": "Wizz Air"
         },
         "arrival": {
          "actualTimeLocal": "2022-04-06 08:26+02:00",
          "actualTimeUtc": "2022-04-06 06:26Z",
          "quality": [
           "Basic",
           "Live"
          ],
          "runway": "25R",
          "runwayTimeLocal": "2022-04-06 08:20+02:00",
          "runwayTimeUtc": "2022-04-06 06:20Z",
          "scheduledTimeLocal": "2022-04-06 08:20+02:00",
          "scheduledTimeUtc": "2022-04-06 06:20Z",
          "terminal": "0"
         },
         "callSign": "WZZ6407",
         "codeshareStatus": "IsOperator",
         "departure": {
          "airport": {
           "iata": "KUT",
           "icao": "UGKO",
           "name": "Kutaisi"
          },
          "quality": [
           "Basic"
          ],
          "scheduledTimeLocal": "2022-04-06 06:10+04:00",
          "scheduledTimeUtc": "2022-04-06 02:10Z"
         },
         "isCargo": false,
         "number": "W6 6407",
         "status": "Arrived"
        },
        {
         "aircraft": {
          "modeS": "44020A",
          "model": "Airbus A320-100/200",
          "reg": "OE-LXA"
         },
         "airline": {
          "name": "Austrian"
         },
         "arrival": {
          "actualTimeLocal": "2022-04-06 08:13+02:00",
          "actualTimeUtc": "2022-04-06 06:13Z",
          "quality": [
           "Basic",
           "Live"
          ],
          "runway": "25L",
          "runwayTimeLocal": "2022-04-06 08:06+02:00",
          "runwayTimeUtc": "2022-04-06 06:06Z",
          "scheduledTimeLocal": "2022-04-06 08:15+02:00",
          "scheduledTimeUtc": "2022-04-06 06:15Z",
          "terminal": "1"
         },
         "callSign": "AUA223",
         "codeshareStatus": "IsOperator",
         "departure": {
          "actualTimeLocal": "2022-04-06 07:11+02:00",
          "actualTimeUtc": "2022-04-06 05:11Z",
          "airport": {
           "iata": "VIE",
           "icao": "LOWW",
           "name": "Vienna"
          },
          "checkInDesk": "351-368",
          "gate": "F32",
          "quality": [
           "Basic",
           "Live"
          ],
          "scheduledTimeLocal": "2022-04-06 07:00+02:00",
          "scheduledTimeUtc": "2022-04-06 05:00Z",
          "terminal": "3"
         },
         "isCargo": false,
         "number": "OS 223",
         "status": "Arrived"
        },
        {
         "aircraft": {
          "modeS": "4690FA",
          "model": "Airbus A320-100/200",
          "reg": "SX-DGZ"
         },
         "airline": {
          "name": "Aegean"
         },
         "arrival": {
          "actualTimeLocal": "2022-04-06 10:30+02:00",
          "actualTimeUtc": "2022-04-06 08:30Z",
          "quality": [
           "Basic",
           "Live"
          ],
          "runway": "25L",
          "runwayTimeLocal": "2022-04-06 10:29+02:00",
          "runwayTimeUtc": "2022-04-06 08:29Z",
          "scheduledTimeLocal": "2022-04-06 10:25+02:00",
          "scheduledTimeUtc": "2022-04-06 08:25Z",
          "terminal": "1"
         },
         "callSign": "AEE8DD",
         "codeshareStatus": "IsOperator",
         "departure": {
          "actualTimeLocal": "2022-04-06 08:44+03:00",
          "actualTimeUtc": "2022-04-06 05:44Z",
          "airport": {
           "iata": "ATH",
           "icao": "LGAV",
           "name": "Athens"
          },
          "checkInDesk": "70---91",
          "gate": "B19",
          "quality": [
           "Basic",
           "Live"
          ],
          "runwayTimeLocal": "2022-04-06 08:46+03:00",
          "runwayTimeUtc": "2022-04-06 05:46Z",
          "scheduledTimeLocal": "2022-04-06 08:30+03:00",
          "scheduledTimeUtc": "2022-04-06 05:30Z",
          "terminal": "D"
         },
         "isCargo": false,
         "number": "A3 820",
         "status": "Arrived"
        },
        {
         "airline": {
          "name": "BN"
         },
         "arrival": {
          "actualTimeLocal": "2022-04-06 10:34+02:00",
          "actualTimeUtc": "2022-04-06 08:34Z",
          "quality": [
           "Basic",
           "Live"
          ],
          "runway": "25R",
          "runwayTimeLocal": "2022-04-06 10:31+02:00",
          "runwayTimeUtc": "2022-04-06 08:31Z",
          "scheduledTimeLocal": "2022-04-06 10:34+02:00",
          "scheduledTimeUtc": "2022-04-06 08:34Z"
         },
         "callSign": "BN1950",
         "codeshareStatus": "IsOperator",
         "departure": {
          "airport": {
           "name": "Unknown"
          },
          "quality": []
         },
         "isCargo": false,
         "number": "BN 1950",
         "status": "Arrived"
        },
        {
         "aircraft": {
          "modeS": "4CAD12",
          "model": "Boeing 737-800"
         },
         "airline": {
          "name": "Ryanair"
         },
         "arrival": {
          "actualTimeLocal": "2022-04-06 10:34+01:59",
          "actualTimeUtc": "2022-04-06 08:34Z",
          "quality": [
           "Basic",
           "Live"
          ],
          "runway": "25R",
          "runwayTimeLocal": "2022-04-06 10:26+02:00",
          "runwayTimeUtc": "2022-04-06 08:26Z",
          "scheduledTimeLocal": "2022-04-06 10:35+02:00",
          "scheduledTimeUtc": "2022-04-06 08:35Z"
         },
         "callSign": "RYR8556",
         "codeshareStatus": "IsOperator",
         "departure": {
          "actualTimeLocal": "2022-04-06 07:15+01:00",
          "actualTimeUtc": "2022-04-06 06:15Z",
          "airport": {
           "iata": "DUB",
           "icao": "EIDW",
           "name": "Dublin"
          },
          "checkInDesk": "1204-1319",
          "gate": "102",
          "quality": [
           "Basic",
           "Live"
          ],
          "runway": "28",
          "runwayTimeLocal": "2022-04-06 07:42+01:00",
          "runwayTimeUtc": "2022-04-06 06:42Z",
          "scheduledTimeLocal": "2022-04-06 07:15+01:00",
          "scheduledTimeUtc": "2022-04-06 06:15Z",
          "terminal": "1"
         },
         "isCargo": false,
         "number": "FR 8556",
         "status": "Arrived"
        },
        {
         "aircraft": {
          "model": "Airbus A319"
         },
         "airline": {
          "name": "easyJet"
         },
         "arrival": {
          "quality": [
           "Basic"
          ],
          "scheduledTimeLocal": "2022-04-06 10:35+02:00",
          "scheduledTimeUtc": "2022-04-06 08:35Z",
          "terminal": "1"
         },
         "codeshareStatus": "Unknown",
         "departure": {
          "airport": {
           "iata": "AMS",
           "icao": "EHAM",
           "name": "Amsterdam"
          },
          "quality": [
           "Basic"
          ],
          "scheduledTimeLocal": "2022-04-06 09:10+02:00",
          "scheduledTimeUtc": "2022-04-06 07:10Z"
         },
         "isCargo": false,
         "number": "U2 5102",
         "status": "CanceledUncertain"
        },
        {
         "aircraft": {
          "modeS": "4CA56C",
          "model": "Boeing 737-800",
          "reg": "EI-DWG"
         },
         "airline": {
          "name": "Ryanair"
         },
         "arrival": {
          "actualTimeLocal": "2022-04-06 10:40+02:00",
          "actualTimeUtc": "2022-04-06 08:40Z",
          "quality": [
           "Basic",
           "Live"
          ],
          "runway": "25R",
          "runwayTimeLocal": "2022-04-06 10:40+02:00",
          "runwayTimeUtc": "2022-04-06 08:40Z",
          "scheduledTimeLocal": "2022-04-06 10:35+02:00",
          "scheduledTimeUtc": "2022-04-06 08:35Z"
         },
         "callSign": "RYR9CZ",
         "codeshareStatus": "IsOperator",
         "departure": {
          "actualTimeLocal": "2022-04-06 07:34+02:00",
          "actualTimeUtc": "2022-04-06 05:34Z",
          "airport": {
           "iata": "ALC",
           "icao": "LEAL",
           "name": "Alicante"
          },
          "checkInDesk": "50-57",
          "gate": "C42",
          "quality": [
           "Basic",
           "Live"
          ],
          "scheduledTimeLocal": "2022-04-06 07:30+02:00",
          "scheduledTimeUtc": "2022-04-06 05:30Z",
          "terminal": "N"
         },
         "isCargo": false,
         "number": "FR 258",
         "status": "Arrived"
        },
        {
         "aircraft": {
          "modeS": "4D02AD",
          "model": "Pilatus PC-12",
          "reg": "LX-JFX"
         },
         "airline": {
          "name": "JFA"
         },
         "arrival": {
          "actualTimeLocal": "2022-04-06 10:40+02:00",
          "actualTimeUtc": "2022-04-06 08:40Z",
          "quality": [
           "Basic",
           "Live"
          ],
          "runwayTimeLocal": "2022-04-06 10:34+02:00",
          "runwayTimeUtc": "2022-04-06 08:34Z",
          "scheduledTimeLocal": "2022-04-06 10:40+02:00",
          "scheduledTimeUtc": "2022-04-06 08:40Z"
         },
         "callSign": "JFA56S",
         "codeshareStatus": "IsOperator",
         "departure": {
          "actualTimeLocal": "2022-04-06 09:29+02:00",
          "actualTimeUtc": "2022-04-06 07:29Z",
          "airport": {
           "iata": "DTM",
           "icao": "EDLW",
           "name": "Dortmund"
          },
          "quality": [
           "Basic",
           "Live"
          ],
          "runway": "24",
          "runwayTimeLocal": "2022-04-06 09:29+02:00",
          "runwayTimeUtc": "2022-04-06 07:29Z",
          "scheduledTimeLocal": "2022-04-06 09:29+02:00",
          "scheduledTimeUtc": "2022-04-06 07:29Z"
         },
         "isCargo": false,
         "number": "JFA 56S",
         "status": "Arrived"
        },
        {
         "aircraft": {
          "modeS": "344694",
          "model": "Airbus A320-100/200",
          "reg": "EC-MFK"
         },
         "airline": {
          "name": "Vueling"
         },
         "arrival": {
          "actualTimeLocal": "2022-04-06 10:40+02:00",
          "actualTimeUtc": "2022-04-06 08:40Z",
          "quality": [
           "Basic",
           "Live"
          ],
          "runway": "25R",
          "runwayTimeLocal": "2022-04-06 10:35+02:00",
          "runwayTimeUtc": "2022-04-06 08:35Z",
          "scheduledTimeLocal": "2022-04-06 10:40+02:00",
          "scheduledTimeUtc": "2022-04-06 08:40Z",
          "terminal": "1"
         },
         "callSign": "VLG4GG",
         "codeshareStatus": "IsOperator",
         "departure": {
          "actualTimeLocal": "2022-04-06 07:59+02:00",
          "actualTimeUtc": "2022-04-06 05:59Z",
          "airport": {
           "iata": "BCN",
           "icao": "LEBL",
           "name": "Barcelona"
          },
          "checkInDesk": "451-512",
          "gate": "B42",
          "quality": [
           "Basic",
           "Live"
          ],
          "runwayTimeLocal": "2022-04-06 08:11+02:00",
          "runwayTimeUtc": "2022-04-06 06:11Z",
          "scheduledTimeLocal": "2022-04-06 07:55+02:00",
          "scheduledTimeUtc": "2022-04-06 05:55Z",
          "terminal": "1"
         },
         "isCargo": false,
         "number": "VY 1882",
         "status": "Arrived"
        },
        {
         "aircraft": {
          "model": "Boeing 737-800"
         },
         "airline": {
          "name": "Ryanair"
         },
         "arrival": {
          "quality": [
           "Basic"
          ],
          "scheduledTimeLocal": "2022-04-06 10:45+02:00",
          "scheduledTimeUtc": "2022-04-06 08:45Z"
         },
         "codeshareStatus": "IsOperator",
         "departure": {
          "actualTimeLocal": "2022-04-06 08:03+02:00",
          "actualTimeUtc": "2022-04-06 06:03Z",
          "airport": {
           "iata": "PMI",
           "icao": "LEPA",
           "name": "Palma De Mallorca"
          },
          "checkInDesk": "002-017",
          "gate": "C66",
          "quality": [
           "Basic",
           "Live"
          ],
          "scheduledTimeLocal": "2022-04-06 08:00+02:00",
          "scheduledTimeUtc": "2022-04-06 06:00Z",
          "terminal": "N"
         },
         "isCargo": false,
         "number": "FR 263",
         "status": "Unknown"
        },
        {
         "aircraft": {
          "modeS": "44CE73",
          "model": "Airbus A319",
          "reg": "OO-SSS"
         },
         "airline": {
          "name": "Brussels"
         },
         "arrival": {
          "actualTimeLocal": "2022-04-06 10:46+02:00",
          "actualTimeUtc": "2022-04-06 08:46Z",
          "quality": [
           "Basic",
           "Live"
          ],
          "runway": "25L",
          "runwayTimeLocal": "2022-04-06 10:43+02:00",
          "runwayTimeUtc": "2022-04-06 08:43Z",
          "scheduledTimeLocal": "2022-04-06 10:50+02:00",
          "scheduledTimeUtc": "2022-04-06 08:50Z",
          "terminal": "1"
         },
         "callSign": "BEL81D",
         "codeshareStatus": "IsOperator",
         "departure": {
          "actualTimeLocal": "2022-04-06 09:37+02:00",
          "actualTimeUtc": "2022-04-06 07:37Z",
          "airport": {
           "iata": "BRU",
           "icao": "EBBR",
           "name": "Brussels"
          },
          "checkInDesk": "04",
          "quality": [
           "Basic",
           "Live"
          ],
          "scheduledTimeLocal": "2022-04-06 09:25+02:00",
          "scheduledTimeUtc": "2022-04-06 07:25Z"
         },
         "isCargo": false,
         "number": "SN 2581",
         "status": "Arrived"
        },
        {
         "aircraft": {
          "modeS": "440097",
          "model": "Airbus A320-100/200",
          "reg": "OE-IVM"
         },
         "airline": {
          "name": "EasyJet Europe"
         },
         "arrival": {
          "actualTimeLocal": "2022-04-06 10:46+01:59",
          "actualTimeUtc": "2022-04-06 08:46Z",
          "quality": [
           "Basic",
           "Live"
          ],
          "runway": "25L",
          "runwayTimeLocal": "2022-04-06 10:38+02:00",
          "runwayTimeUtc": "2022-04-06 08:38Z",
          "scheduledTimeLocal": "2022-04-06 10:38+02:00",
          "scheduledTimeUtc": "2022-04-06 08:38Z"
         },
         "callSign": "EJU72FX",
         "codeshareStatus": "IsOperator",
         "departure": {
          "airport": {
           "iata": "LIS",
           "icao": "LPPT",
           "name": "Lisbon"
          },
          "quality": []
         },
         "isCargo": false,
         "number": "EC 72FX",
         "status": "Arrived"
        },
        {
         "aircraft": {
          "modeS": "4D2244",
          "model": "Boeing 737-800",
          "reg": "9H-QCV"
         },
         "airline": {
          "name": "Ryanair"
         },
         "arrival": {
          "actualTimeLocal": "2022-04-06 10:50+02:00",
          "actualTimeUtc": "2022-04-06 08:50Z",
          "quality": [
           "Basic",
           "Live"
          ],
          "runway": "25R",
          "runwayTimeLocal": "2022-04-06 10:45+02:00",
          "runwayTimeUtc": "2022-04-06 08:45Z",
          "scheduledTimeLocal": "2022-04-06 10:40+02:00",
          "scheduledTimeUtc": "2022-04-06 08:40Z"
         },
         "callSign": "RYR144L",
         "codeshareStatus": "IsOperator",
         "departure": {
          "actualTimeLocal": "2022-04-06 08:29+01:00",
          "actualTimeUtc": "2022-04-06 07:29Z",
          "airport": {
           "iata": "STN",
           "icao": "EGSS",
           "name": "London"
          },
          "quality": [
           "Basic",
           "Live"
          ],
          "runway": "22",
          "runwayTimeLocal": "2022-04-06 08:30+01:00",
          "runwayTimeUtc": "2022-04-06 07:30Z",
          "scheduledTimeLocal": "2022-04-06 07:55+01:00",
          "scheduledTimeUtc": "2022-04-06 06:55Z",
          "terminal": "1"
         },
         "isCargo": false,
         "number": "FR 145",
         "status": "Arrived"
        },
        {
         "aircraft": {
          "modeS": "3415CE",
          "model": "Airbus A320-100/200",
          "reg": "EC-IEF"
         },
         "airline": {
          "name": "Iberia"
         },
         "arrival": {
          "actualTimeLocal": "2022-04-06 10:53+02:00",
          "actualTimeUtc": "2022-04-06 08:53Z",
          "quality": [
           "Basic",
           "Live"
          ],
          "runway": "25L",
          "runwayTimeLocal": "2022-04-06 10:48+02:00",
          "runwayTimeUtc": "2022-04-06 08:48Z",
          "scheduledTimeLocal": "2022-04-06 10:55+02:00",
          "scheduledTimeUtc": "2022-04-06 08:55Z",
          "terminal": "1"
         },
         "callSign": "IBE3066",
         "codeshareStatus": "IsOperator",
         "departure": {
          "airport": {
           "iata": "MAD",
           "icao": "LEMD",
           "name": "Madrid"
          },
          "checkInDesk": "850-859",
          "gate": "J48",
          "quality": [
           "Basic"
          ],
          "runwayTimeLocal": "2022-04-06 08:14+02:00",
          "runwayTimeUtc": "2022-04-06 06:14Z",
          "scheduledTimeLocal": "2022-04-06 07:50+02:00",
          "scheduledTimeUtc": "2022-04-06 05:50Z",
          "terminal": "4"
         },
         "isCargo": false,
         "number": "IB 3066",
         "status": "Arrived"
        },
        {
         "aircraft": {
          "modeS": "4D21FD",
          "model": "Boeing 737",
          "reg": "9H-QAM"
         },
         "airline": {
          "name": "Ryanair"
         },
         "arrival": {
          "actualTimeLocal": "2022-04-06 10:54+02:00",
          "actualTimeUtc": "2022-04-06 08:54Z",
          "quality": [
           "Basic",
           "Live"
          ],
          "runway": "25R",
          "runwayTimeLocal": "2022-04-06 10:51+02:00",
          "runwayTimeUtc": "2022-04-06 08:51Z",
          "scheduledTimeLocal": "2022-04-06 10:50+02:00",
          "scheduledTimeUtc": "2022-04-06 08:50Z"
         },
         "callSign": "RYR1155",
         "codeshareStatus": "IsOperator",
         "departure": {
          "actualTimeLocal": "2022-04-06 08:23+01:00",
          "actualTimeUtc": "2022-04-06 07:23Z",
          "airport": {
           "iata": "MAN",
           "icao": "EGCC",
           "name": "Manchester"
          },
          "gate": "49",
          "quality": [
           "Basic",
           "Live"
          ],
          "runway": "23L",
          "runwayTimeLocal": "2022-04-06 08:24+01:00",
          "runwayTimeUtc": "2022-04-06 07:24Z",
          "scheduledTimeLocal": "2022-04-06 07:55+01:00",
          "scheduledTimeUtc": "2022-04-06 06:55Z",
          "terminal": "1"
         },
         "isCargo": false,
         "number": "FR 1155",
         "status": "Arrived"
        },
        {
         "aircraft": {
          "model": "Airbus A320"
         },
         "airline": {
          "name": "easyJet"
         },
         "arrival": {
          "quality": [
           "Basic"
          ],
          "scheduledTimeLocal": "2022-04-06 10:55+02:00",
          "scheduledTimeUtc": "2022-04-06 08:55Z",
          "terminal": "1"
         },
         "codeshareStatus": "Unknown",
         "departure": {
          "airport": {
           "iata": "LIS",
           "icao": "LPPT",
           "name": "Lisbon"
          },
          "quality": [
           "Basic"
          ],
          "scheduledTimeLocal": "2022-04-06 06:15+01:00",
          "scheduledTimeUtc": "2022-04-06 05:15Z",
          "terminal": "2"
         },
         "isCargo": false,
         "number": "U2 7651",
         "status": "CanceledUncertain"
        },
        {
         "aircraft": {
          "modeS": "440080",
          "model": "Airbus A320-100/200",
          "reg": "OE-IVI"
         },
         "airline": {
          "name": "EasyJet Europe"
         },
         "arrival": {
          "actualTimeLocal": "2022-04-06 11:03+02:00",
          "actualTimeUtc": "2022-04-06 09:03Z",
          "quality": [
           "Basic",
           "Live"
          ],
          "runway": "25L",
          "runwayTimeLocal": "2022-04-06 10:58+02:00",
          "runwayTimeUtc": "2022-04-06 08:58Z",
          "scheduledTimeLocal": "2022-04-06 10:58+02:00",
          "scheduledTimeUtc": "2022-04-06 08:58Z"
         },
         "callSign": "EJU19UK",
         "codeshareStatus": "IsOperator",
         "departure": {
          "airport": {
           "iata": "GVA",
           "icao": "LSGG",
           "name": "Geneva"
          },
          "quality": []
         },
         "isCargo": false,
         "number": "EC 19UK",
         "status": "Arrived"
        },
        {
         "aircraft": {
          "modeS": "49D266",
          "model": "Boeing 737",
          "reg": "OK-TVX"
         },
         "airline": {
          "name": "SmartWings"
         },
         "arrival": {
          "actualTimeLocal": "2022-04-06 11:06+02:00",
          "actualTimeUtc": "2022-04-06 09:06Z",
          "quality": [
           "Basic",
           "Live"
          ],
          "runway": "25L",
          "runwayTimeLocal": "2022-04-06 11:01+02:00",
          "runwayTimeUtc": "2022-04-06 09:01Z",
          "scheduledTimeLocal": "2022-04-06 11:01+02:00",
          "scheduledTimeUtc": "2022-04-06 09:01Z"
         },
         "callSign": "TVS4342",
         "codeshareStatus": "IsOperator",
         "departure": {
          "airport": {
           "name": "Unknown"
          },
          "quality": []
         },
         "isCargo": false,
         "number": "QS 4342",
         "status": "Arrived"
        },
        {
         "airline": {
          "name": "HBVPX"
         },
         "arrival": {
          "actualTimeLocal": "2022-04-06 11:09+02:00",
          "actualTimeUtc": "2022-04-06 09:09Z",
          "quality": [
           "Basic",
           "Live"
          ],
          "runwayTimeLocal": "2022-04-06 11:09+02:00",
          "runwayTimeUtc": "2022-04-06 09:09Z",
          "scheduledTimeLocal": "2022-04-06 11:09+02:00",
          "scheduledTimeUtc": "2022-04-06 09:09Z"
         },
         "callSign": "HBVPX",
         "codeshareStatus": "IsOperator",
         "departure": {
          "actualTimeLocal": "2022-04-06 10:00+02:00",
          "actualTimeUtc": "2022-04-06 08:00Z",
          "airport": {
           "iata": "ZRH",
           "icao": "LSZH",
           "name": "Zurich"
          },
          "quality": [
           "Basic",
           "Live"
          ],
          "runway": "28",
          "runwayTimeLocal": "2022-04-06 10:02+02:00",
          "runwayTimeUtc": "2022-04-06 08:02Z",
          "scheduledTimeLocal": "2022-04-06 10:00+02:00",
          "scheduledTimeUtc": "2022-04-06 08:00Z"
         },
         "isCargo": false,
         "number": "HBVPX",
         "status": "Arrived"
        },
        {
         "aircraft": {
          "model": "Embraer 190"
         },
         "airline": {
          "name": "British Airways"
         },
         "arrival": {
          "quality": [
           "Basic"
          ],
          "scheduledTimeLocal": "2022-04-06 11:10+02:00",
          "scheduledTimeUtc": "2022-04-06 09:10Z",
          "terminal": "1"
         },
         "codeshareStatus": "IsCodeshared",
         "departure": {
          "actualTimeLocal": "2022-04-06 08:26+01:00",
          "actualTimeUtc": "2022-04-06 07:26Z",
          "airport": {
           "iata": "LCY",
           "icao": "EGLC",
           "name": "London"
          },
          "gate": "7",
          "quality": [
           "Basic",
           "Live"
          ],
          "scheduledTimeLocal": "2022-04-06 07:25+01:00",
          "scheduledTimeUtc": "2022-04-06 06:25Z"
         },
         "isCargo": false,
         "number": "BA 8491",
         "status": "Unknown"
        },
        {
         "aircraft": {
          "model": "Airbus A320"
         },
         "airline": {
          "name": "easyJet"
         },
         "arrival": {
          "quality": [
           "Basic"
          ],
          "scheduledTimeLocal": "2022-04-06 11:15+02:00",
          "scheduledTimeUtc": "2022-04-06 09:15Z",
          "terminal": "1"
         },
         "codeshareStatus": "IsOperator",
         "departure": {
          "airport": {
           "iata": "GVA",
           "icao": "LSGG",
           "name": "Geneva"
          },
          "quality": [
           "Basic"
          ],
          "scheduledTimeLocal": "2022-04-06 09:30+02:00",
          "scheduledTimeUtc": "2022-04-06 07:30Z",
          "terminal": "1"
         },
         "isCargo": false,
         "number": "U2 1591",
         "status": "CanceledUncertain"
        },
        {
         "aircraft": {
          "modeS": "48AD0C",
          "model": "Embraer EMB 175",
          "reg": "SP-LIM"
         },
         "airline": {
          "name": "LOT - Polish"
         },
         "arrival": {
          "actualTimeLocal": "2022-04-06 11:20+02:00",
          "actualTimeUtc": "2022-04-06 09:20Z",
          "quality": [
           "Basic",
           "Live"
          ],
          "runway": "25R",
          "runwayTimeLocal": "2022-04-06 11:11+02:00",
          "runwayTimeUtc": "2022-04-06 09:11Z",
          "scheduledTimeLocal": "2022-04-06 11:15+02:00",
          "scheduledTimeUtc": "2022-04-06 09:15Z",
          "terminal": "1"
         },
         "callSign": "LOT387",
         "codeshareStatus": "IsOperator",
         "departure": {
          "airport": {
           "iata": "WAW",
           "icao": "EPWA",
           "name": "Warsaw"
          },
          "checkInDesk": "241-280",
          "gate": "28",
          "quality": [
           "Basic"
          ],
          "runwayTimeLocal": "2022-04-06 10:10+02:00",
          "runwayTimeUtc": "2022-04-06 08:10Z",
          "scheduledTimeLocal": "2022-04-06 09:50+02:00",
          "scheduledTimeUtc": "2022-04-06 07:50Z",
          "terminal": "E-D"
         },
         "isCargo": false,
         "number": "LO 387",
         "status": "Arrived"
        },
        {
         "aircraft": {
          "modeS": "5110CA",
          "model": "Bombardier CRJ900",
          "reg": "ES-ACG"
         },
         "airline": {
          "name": "SAS"
         },
         "arrival": {
          "quality": [
           "Basic"
          ],
          "scheduledTimeLocal": "2022-04-06 11:25+02:00",
          "scheduledTimeUtc": "2022-04-06 09:25Z",
          "terminal": "1"
         },
         "callSign": "SAS2677",
         "codeshareStatus": "Unknown",
         "departure": {
          "actualTimeLocal": "2022-04-06 10:02+02:00",
          "actualTimeUtc": "2022-04-06 08:02Z",
          "airport": {
           "iata": "ARN",
           "icao": "ESSA",
           "name": "Stockholm"
          },
          "checkInDesk": "52-55",
          "gate": "F26",
          "quality": [
           "Basic",
           "Live"
          ],
          "scheduledTimeLocal": "2022-04-06 09:55+02:00",
          "scheduledTimeUtc": "2022-04-06 07:55Z",
          "terminal": "5"
         },
         "isCargo": false,
         "number": "SK 2677",
         "status": "Unknown"
        },
        {
         "aircraft": {
          "model": "Airbus A320"
         },
         "airline": {
          "name": "easyJet"
         },
         "arrival": {
          "quality": [
           "Basic"
          ],
          "scheduledTimeLocal": "2022-04-06 11:25+02:00",
          "scheduledTimeUtc": "2022-04-06 09:25Z",
          "terminal": "1"
         },
         "codeshareStatus": "Unknown",
         "departure": {
          "airport": {
           "iata": "MXP",
           "icao": "LIMC",
           "name": "Milan"
          },
          "quality": [
           "Basic"
          ],
          "scheduledTimeLocal": "2022-04-06 09:35+02:00",
          "scheduledTimeUtc": "2022-04-06 07:35Z",
          "terminal": "1"
         },
         "isCargo": false,
         "number": "U2 4672",
         "status": "Unknown"
        },
        {
         "aircraft": {
          "modeS": "39E684",
          "model": "Airbus A220-300"
         },
         "airline": {
          "name": "Air France"
         },
         "arrival": {
          "actualTimeLocal": "2022-04-06 11:26+02:00",
          "actualTimeUtc": "2022-04-06 09:26Z",
          "quality": [
           "Basic",
           "Live"
          ],
          "runway": "25L",
          "runwayTimeLocal": "2022-04-06 11:18+02:00",
          "runwayTimeUtc": "2022-04-06 09:18Z",
          "scheduledTimeLocal": "2022-04-06 11:20+02:00",
          "scheduledTimeUtc": "2022-04-06 09:20Z",
          "terminal": "1"
         },
         "callSign": "AFR34UK",
         "codeshareStatus": "IsOperator",
         "departure": {
          "actualTimeLocal": "2022-04-06 10:03+02:00",
          "actualTimeUtc": "2022-04-06 08:03Z",
          "airport": {
           "iata": "CDG",
           "icao": "LFPG",
           "name": "Paris"
          },
          "quality": [
           "Basic",
           "Live"
          ],
          "runway": "27L",
          "runwayTimeLocal": "2022-04-06 10:03+02:00",
          "runwayTimeUtc": "2022-04-06 08:03Z",
          "scheduledTimeLocal": "2022-04-06 09:35+02:00",
          "scheduledTimeUtc": "2022-04-06 07:35Z",
          "terminal": "2F"
         },
         "isCargo": false,
         "number": "AF 1734",
         "status": "Arrived"
        },
        {
         "aircraft": {
          "modeS": "484133",
          "model": "Boeing 737",
          "reg": "PH-BXD"
         },
         "airline": {
          "name": "KLM"
         },
         "arrival": {
          "actualTimeLocal": "2022-04-06 11:31+02:00",
          "actualTimeUtc": "2022-04-06 09:31Z",
          "quality": [
           "Basic",
           "Live"
          ],
          "runway": "25L",
          "runwayTimeLocal": "2022-04-06 11:23+02:00",
          "runwayTimeUtc": "2022-04-06 09:23Z",
          "scheduledTimeLocal": "2022-04-06 11:30+02:00",
          "scheduledTimeUtc": "2022-04-06 09:30Z",
          "terminal": "1"
         },
         "callSign": "KLM95E",
         "codeshareStatus": "IsOperator",
         "departure": {
          "actualTimeLocal": "2022-04-06 10:18+02:00",
          "actualTimeUtc": "2022-04-06 08:18Z",
          "airport": {
           "iata": "AMS",
           "icao": "EHAM",
           "name": "Amsterdam"
          },
          "checkInDesk": "5-8",
          "gate": "D86",
          "quality": [
           "Basic",
           "Live"
          ],
          "runway": "24",
          "runwayTimeLocal": "2022-04-06 10:27+02:00",
          "runwayTimeUtc": "2022-04-06 08:27Z",
          "scheduledTimeLocal": "2022-04-06 10:15+02:00",
          "scheduledTimeUtc": "2022-04-06 08:15Z",
          "terminal": "1"
         },
         "isCargo": false,
         "number": "KL 1823",
         "status": "Arrived"
        },
        {
         "aircraft": {
          "modeS": "4D2235",
          "model": "Boeing 737-800",
          "reg": "9H-QDC"
         },
         "airline": {
          "name": "Ryanair"
         },
         "arrival": {
          "actualTimeLocal": "2022-04-06 11:32+01:59",
          "actualTimeUtc": "2022-04-06 09:32Z",
          "quality": [
           "Basic",
           "Live"
          ],
          "runway": "25R",
          "runwayTimeLocal": "2022-04-06 11:25+02:00",
          "runwayTimeUtc": "2022-04-06 09:25Z",
          "scheduledTimeLocal": "2022-04-06 11:10+02:00",
          "scheduledTimeUtc": "2022-04-06 09:10Z"
         },
         "callSign": "RYR53MG",
         "codeshareStatus": "IsOperator",
         "departure": {
          "actualTimeLocal": "2022-04-06 09:42+02:00",
          "actualTimeUtc": "2022-04-06 07:42Z",
          "airport": {
           "iata": "FCO",
           "icao": "LIRF",
           "name": "Rome"
          },
          "quality": [
           "Basic",
           "Live"
          ],
          "runway": "25",
          "runwayTimeLocal": "2022-04-06 09:42+02:00",
          "runwayTimeUtc": "2022-04-06 07:42Z",
          "scheduledTimeLocal": "2022-04-06 09:05+02:00",
          "scheduledTimeUtc": "2022-04-06 07:05Z",
          "terminal": "3"
         },
         "isCargo": false,
         "number": "FR 135",
         "status": "Arrived"
        },
        {
         "aircraft": {
          "modeS": "5110CA",
          "model": "Canadair CRJ 700",
          "reg": "ES-ACG"
         },
         "airline": {
          "name": "SAS Ireland"
         },
         "arrival": {
          "actualTimeLocal": "2022-04-06 11:32+02:00",
          "actualTimeUtc": "2022-04-06 09:32Z",
          "quality": [
           "Basic",
           "Live"
          ],
          "runwayTimeLocal": "2022-04-06 11:30+02:00",
          "runwayTimeUtc": "2022-04-06 09:30Z",
          "scheduledTimeLocal": "2022-04-06 11:30+02:00",
          "scheduledTimeUtc": "2022-04-06 09:30Z"
         },
         "callSign": "SZS758",
         "codeshareStatus": "IsOperator",
         "departure": {
          "airport": {
           "name": "Unknown"
          },
          "quality": []
         },
         "isCargo": false,
         "number": "SL 758",
         "status": "Arrived"
        },
        {
         "aircraft": {
          "modeS": "4BCDEA",
          "model": "Boeing 737 MAX 8",
          "reg": "TC-SOJ"
         },
         "airline": {
          "name": "SunExpress"
         },
         "arrival": {
          "actualTimeLocal": "2022-04-06 11:34+02:00",
          "actualTimeUtc": "2022-04-06 09:34Z",
          "quality": [
           "Basic",
           "Live"
          ],
          "runway": "25L",
          "runwayTimeLocal": "2022-04-06 11:27+02:00",
          "runwayTimeUtc": "2022-04-06 09:27Z",
          "scheduledTimeLocal": "2022-04-06 11:27+02:00",
          "scheduledTimeUtc": "2022-04-06 09:27Z"
         },
         "callSign": "SXS11E",
         "codeshareStatus": "IsOperator",
         "departure": {
          "airport": {
           "iata": "AYT",
           "icao": "LTAI",
           "name": "Antalya"
          },
          "quality": []
         },
         "isCargo": false,
         "number": "XQ 11E",
         "status": "Arrived"
        },
        {
         "aircraft": {
          "model": "Airbus A320"
         },
         "airline": {
          "name": "easyJet"
         },
         "arrival": {
          "quality": [
           "Basic"
          ],
          "scheduledTimeLocal": "2022-04-06 11:35+02:00",
          "scheduledTimeUtc": "2022-04-06 09:35Z",
          "terminal": "1"
         },
         "codeshareStatus": "Unknown",
         "departure": {
          "airport": {
           "iata": "CDG",
           "icao": "LFPG",
           "name": "Paris"
          },
          "quality": [
           "Basic"
          ],
          "scheduledTimeLocal": "2022-04-06 09:45+02:00",
          "scheduledTimeUtc": "2022-04-06 07:45Z",
          "terminal": "2D"
         },
         "isCargo": false,
         "number": "U2 5652",
         "status": "Unknown"
        },
        {
         "aircraft": {
          "modeS": "4008AE",
          "model": "Airbus A319",
          "reg": "G-EUPO"
         },
         "airline": {
          "name": "British Airways"
         },
         "arrival": {
          "actualTimeLocal": "2022-04-06 11:37+02:00",
          "actualTimeUtc": "2022-04-06 09:37Z",
          "quality": [
           "Basic",
           "Live"
          ],
          "runway": "25R",
          "runwayTimeLocal": "2022-04-06 11:34+02:00",
          "runwayTimeUtc": "2022-04-06 09:34Z",
          "scheduledTimeLocal": "2022-04-06 11:40+02:00",
          "scheduledTimeUtc": "2022-04-06 09:40Z",
          "terminal": "1"
         },
         "callSign": "BAW982",
         "codeshareStatus": "IsOperator",
         "departure": {
          "actualTimeLocal": "2022-04-06 09:10+01:00",
          "actualTimeUtc": "2022-04-06 08:10Z",
          "airport": {
           "iata": "LHR",
           "icao": "EGLL",
           "name": "London"
          },
          "checkInDesk": "D",
          "quality": [
           "Basic",
           "Live"
          ],
          "runway": "27R",
          "runwayTimeLocal": "2022-04-06 09:12+01:00",
          "runwayTimeUtc": "2022-04-06 08:12Z",
          "scheduledTimeLocal": "2022-04-06 08:45+01:00",
          "scheduledTimeUtc": "2022-04-06 07:45Z",
          "terminal": "5"
         },
         "isCargo": false,
         "number": "BA 982",
         "status": "Arrived"
        },
        {
         "aircraft": {
          "modeS": "44058F",
          "model": "Cessna 510 Citation Mustang",
          "reg": "OE-FZA"
         },
         "airline": {
          "name": "GlobalAir"
         },
         "arrival": {
          "actualTimeLocal": "2022-04-06 11:38+02:00",
          "actualTimeUtc": "2022-04-06 09:38Z",
          "quality": [
           "Basic",
           "Live"
          ],
          "runway": "25R",
          "runwayTimeLocal": "2022-04-06 11:38+02:00",
          "runwayTimeUtc": "2022-04-06 09:38Z",
          "scheduledTimeLocal": "2022-04-06 11:21+02:00",
          "scheduledTimeUtc": "2022-04-06 09:21Z"
         },
         "callSign": "GAC955H",
         "codeshareStatus": "IsOperator",
         "departure": {
          "actualTimeLocal": "2022-04-06 10:17+02:00",
          "actualTimeUtc": "2022-04-06 08:17Z",
          "airport": {
           "iata": "AMS",
           "icao": "EHAM",
           "name": "Amsterdam"
          },
          "quality": [
           "Basic",
           "Live"
          ],
          "runway": "24",
          "runwayTimeLocal": "2022-04-06 10:17+02:00",
          "runwayTimeUtc": "2022-04-06 08:17Z",
          "scheduledTimeLocal": "2022-04-06 10:17+02:00",
          "scheduledTimeUtc": "2022-04-06 08:17Z"
         },
         "isCargo": false,
         "number": "GAC 488K",
         "status": "Arrived"
        },
        {
         "aircraft": {
          "modeS": "451D85",
          "model": "Embraer EMB 190",
          "reg": "LZ-SOF"
         },
         "airline": {
          "name": "Bulgaria Air"
         },
         "arrival": {
          "actualTimeLocal": "2022-04-06 11:38+02:00",
          "actualTimeUtc": "2022-04-06 09:38Z",
          "quality": [
           "Basic",
           "Live"
          ],
          "runway": "25L",
          "runwayTimeLocal": "2022-04-06 11:32+02:00",
          "runwayTimeUtc": "2022-04-06 09:32Z",
          "scheduledTimeLocal": "2022-04-06 11:25+02:00",
          "scheduledTimeUtc": "2022-04-06 09:25Z",
          "terminal": "1"
         },
         "callSign": "LZB319",
         "codeshareStatus": "IsOperator",
         "departure": {
          "actualTimeLocal": "2022-04-06 10:34+03:00",
          "actualTimeUtc": "2022-04-06 07:34Z",
          "airport": {
           "iata": "SOF",
           "icao": "LBSF",
           "name": "Sofia"
          },
          "quality": [
           "Basic",
           "Live"
          ],
          "runwayTimeLocal": "2022-04-06 10:36+03:00",
          "runwayTimeUtc": "2022-04-06 07:36Z",
          "scheduledTimeLocal": "2022-04-06 10:10+03:00",
          "scheduledTimeUtc": "2022-04-06 07:10Z",
          "terminal": "2"
         },
         "isCargo": false,
         "number": "FB 319",
         "status": "Arrived"
        },
        {
         "aircraft": {
          "model": "Airbus A319"
         },
         "airline": {
          "name": "easyJet"
         },
         "arrival": {
          "quality": [
           "Basic"
          ],
          "scheduledTimeLocal": "2022-04-06 11:45+02:00",
          "scheduledTimeUtc": "2022-04-06 09:45Z",
          "terminal": "1"
         },
         "codeshareStatus": "Unknown",
         "departure": {
          "airport": {
           "iata": "ARN",
           "icao": "ESSA",
           "name": "Stockholm"
          },
          "quality": [
           "Basic"
          ],
          "scheduledTimeLocal": "2022-04-06 10:00+02:00",
          "scheduledTimeUtc": "2022-04-06 08:00Z",
          "terminal": "2"
         },
         "isCargo": false,
         "number": "U2 5882",
         "status": "CanceledUncertain"
        },
        {
         "aircraft": {
          "modeS": "406B6C",
          "model": "Embraer EMB 190",
          "reg": "G-LCYS"
         },
         "airline": {
          "name": "BA Cityflyer"
         },
         "arrival": {
          "actualTimeLocal": "2022-04-06 11:48+02:00",
          "actualTimeUtc": "2022-04-06 09:48Z",
          "quality": [
           "Basic",
           "Live"
          ],
          "runway": "25L",
          "runwayTimeLocal": "2022-04-06 11:46+02:00",
          "runwayTimeUtc": "2022-04-06 09:46Z",
          "scheduledTimeLocal": "2022-04-06 11:46+02:00",
          "scheduledTimeUtc": "2022-04-06 09:46Z"
         },
         "callSign": "CFE76JZ",
         "codeshareStatus": "IsOperator",
         "departure": {
          "actualTimeLocal": "2022-04-06 09:26+01:00",
          "actualTimeUtc": "2022-04-06 08:26Z",
          "airport": {
           "iata": "LCY",
           "icao": "EGLC",
           "name": "London"
          },
          "quality": [
           "Basic",
           "Live"
          ],
          "runway": "27",
          "runwayTimeLocal": "2022-04-06 09:26+01:00",
          "runwayTimeUtc": "2022-04-06 08:26Z",
          "scheduledTimeLocal": "2022-04-06 09:26+01:00",
          "scheduledTimeUtc": "2022-04-06 08:26Z"
         },
         "isCargo": false,
         "number": "CJ 76JZ",
         "status": "Arrived"
        },
        {
         "aircraft": {
          "modeS": "4BAB56",
          "model": "Boeing 737-800",
          "reg": "TC-JZV"
         },
         "airline": {
          "name": "Turkish"
         },
         "arrival": {
          "actualTimeLocal": "2022-04-06 11:51+02:00",
          "actualTimeUtc": "2022-04-06 09:51Z",
          "quality": [
           "Basic",
           "Live"
          ],
          "runway": "25L",
          "runwayTimeLocal": "2022-04-06 11:40+02:00",
          "runwayTimeUtc": "2022-04-06 09:40Z",
          "scheduledTimeLocal": "2022-04-06 11:20+02:00",
          "scheduledTimeUtc": "2022-04-06 09:20Z",
          "terminal": "1"
         },
         "callSign": "THY7EZ",
         "codeshareStatus": "IsOperator",
         "departure": {
          "airport": {
           "iata": "SAW",
           "icao": "LTFJ",
           "name": "Istanbul"
          },
          "quality": [
           "Basic"
          ],
          "runway": "06",
          "runwayTimeLocal": "2022-04-06 09:53+03:00",
          "runwayTimeUtc": "2022-04-06 06:53Z",
          "scheduledTimeLocal": "2022-04-06 09:25+03:00",
          "scheduledTimeUtc": "2022-04-06 06:25Z"
         },
         "isCargo": false,
         "number": "TK 7728",
         "status": "Arrived"
        },
        {
         "aircraft": {
          "modeS": "440181",
          "model": "Airbus A319",
          "reg": "OE-LQG"
         },
         "airline": {
          "name": "EasyJet Europe"
         },
         "arrival": {
          "actualTimeLocal": "2022-04-06 11:51+02:00",
          "actualTimeUtc": "2022-04-06 09:51Z",
          "quality": [
           "Basic",
           "Live"
          ],
          "runway": "25L",
          "runwayTimeLocal": "2022-04-06 11:42+02:00",
          "runwayTimeUtc": "2022-04-06 09:42Z",
          "scheduledTimeLocal": "2022-04-06 11:42+02:00",
          "scheduledTimeUtc": "2022-04-06 09:42Z"
         },
         "callSign": "EJU81TH",
         "codeshareStatus": "IsOperator",
         "departure": {
          "airport": {
           "name": "Unknown"
          },
          "quality": []
         },
         "isCargo": false,
         "number": "EC 81TH",
         "status": "Arrived"
        },
        {
         "aircraft": {
          "modeS": "440667",
          "model": "Airbus A320-100/200",
          "reg": "OE-LBK"
         },
         "airline": {
          "name": "Austrian"
         },
         "arrival": {
          "actualTimeLocal": "2022-04-06 11:51+02:00",
          "actualTimeUtc": "2022-04-06 09:51Z",
          "quality": [
           "Basic",
           "Live"
          ],
          "runway": "25L",
          "runwayTimeLocal": "2022-04-06 11:36+02:00",
          "runwayTimeUtc": "2022-04-06 09:36Z",
          "scheduledTimeLocal": "2022-04-06 11:36+02:00",
          "scheduledTimeUtc": "2022-04-06 09:36Z"
         },
         "callSign": "AUA2653",
         "codeshareStatus": "IsOperator",
         "departure": {
          "actualTimeLocal": "2022-04-06 10:40+02:00",
          "actualTimeUtc": "2022-04-06 08:40Z",
          "airport": {
           "iata": "VIE",
           "icao": "LOWW",
           "name": "Vienna"
          },
          "checkInDesk": "351-368",
          "gate": "F05",
          "quality": [
           "Basic",
           "Live"
          ],
          "runway": "29",
          "runwayTimeLocal": "2022-04-06 10:41+02:00",
          "runwayTimeUtc": "2022-04-06 08:41Z",
          "scheduledTimeLocal": "2022-04-06 10:30+02:00",
          "scheduledTimeUtc": "2022-04-06 08:30Z",
          "terminal": "3"
         },
         "isCargo": false,
         "number": "OS 2653",
         "status": "Arrived"
        },
        {
         "aircraft": {
          "model": "Airbus A320"
         },
         "airline": {
          "name": "easyJet"
         },
         "arrival": {
          "quality": [
           "Basic"
          ],
          "scheduledTimeLocal": "2022-04-06 11:55+02:00",
          "scheduledTimeUtc": "2022-04-06 09:55Z",
          "terminal": "1"
         },
         "codeshareStatus": "Unknown",
         "departure": {
          "airport": {
           "iata": "LGW",
           "icao": "EGKK",
           "name": "London"
          },
          "quality": [
           "Basic"
          ],
          "scheduledTimeLocal": "2022-04-06 08:55+01:00",
          "scheduledTimeUtc": "2022-04-06 07:55Z",
          "terminal": "N"
         },
         "isCargo": false,
         "number": "U2 8209",
         "status": "CanceledUncertain"
        }
       ],
       "departures": [
        {
         "aircraft": {
          "model": "Airbus A320"
         },
         "airline": {
          "name": "easyJet"
         },
         "arrival": {
          "airport": {
           "iata": "PMI",
           "icao": "LEPA",
           "name": "Palma De Mallorca"
          },
          "quality": [
           "Basic"
          ],
          "scheduledTimeLocal": "2022-04-06 08:45+02:00",
          "scheduledTimeUtc": "2022-04-06 06:45Z"
         },
         "codeshareStatus": "Unknown",
         "departure": {
          "quality": [
           "Basic"
          ],
          "scheduledTimeLocal": "2022-04-06 06:00+02:00",
          "scheduledTimeUtc": "2022-04-06 04:00Z",
          "terminal": "1"
         },
         "isCargo": false,
         "number": "U2 5801",
         "status": "CanceledUncertain"
        },
        {
         "aircraft": {
          "modeS": "4D2269",
          "model": "Boeing 737-800",
          "reg": "9H-QAU"
         },
         "airline": {
          "name": "Ryanair"
         },
         "arrival": {
          "actualTimeLocal": "2022-04-06 10:13+01:00",
          "actualTimeUtc": "2022-04-06 09:13Z",
          "airport": {
           "iata": "TFS",
           "icao": "GCTS",
           "name": "Tenerife Island"
          },
          "quality": [
           "Basic",
           "Live"
          ],
          "scheduledTimeLocal": "2022-04-06 10:20+01:00",
          "scheduledTimeUtc": "2022-04-06 09:20Z",
          "terminal": "1"
         },
         "callSign": "RYR4068",
         "codeshareStatus": "IsOperator",
         "departure": {
          "actualTimeLocal": "2022-04-06 06:03+02:00",
          "actualTimeUtc": "2022-04-06 04:03Z",
          "quality": [
           "Basic",
           "Live"
          ],
          "runway": "25R",
          "runwayTimeLocal": "2022-04-06 06:08+02:00",
          "runwayTimeUtc": "2022-04-06 04:08Z",
          "scheduledTimeLocal": "2022-04-06 06:00+02:00",
          "scheduledTimeUtc": "2022-04-06 04:00Z"
         },
         "isCargo": false,
         "number": "FR 4068",
         "status": "Departed"
        },
        {
         "aircraft": {
          "modeS": "4D2215",
          "model": "Boeing 737",
          "reg": "9H-QBS"
         },
         "airline": {
          "name": "Ryanair"
         },
         "arrival": {
          "actualTimeLocal": "2022-04-06 09:33+02:00",
          "actualTimeUtc": "2022-04-06 07:33Z",
          "airport": {
           "iata": "AGP",
           "icao": "LEMG",
           "name": "Málaga"
          },
          "quality": [
           "Basic",
           "Live"
          ],
          "scheduledTimeLocal": "2022-04-06 09:30+02:00",
          "scheduledTimeUtc": "2022-04-06 07:30Z",
          "terminal": "PAX"
         },
         "callSign": "RYR4SM",
         "codeshareStatus": "IsOperator",
         "departure": {
          "actualTimeLocal": "2022-04-06 06:05+02:00",
          "actualTimeUtc": "2022-04-06 04:05Z",
          "quality": [
           "Basic",
           "Live"
          ],
          "runway": "25R",
          "runwayTimeLocal": "2022-04-06 06:14+02:00",
          "runwayTimeUtc": "2022-04-06 04:14Z",
          "scheduledTimeLocal": "2022-04-06 06:00+02:00",
          "scheduledTimeUtc": "2022-04-06 04:00Z"
         },
         "isCargo": false,
         "number": "FR 234",
         "status": "Departed"
        },
        {
         "aircraft": {
          "model": "Airbus A320"
         },
         "airline": {
          "name": "easyJet"
         },
         "arrival": {
          "airport": {
           "iata": "OPO",
           "icao": "LPPR",
           "name": "Porto"
          },
          "quality": [
           "Basic"
          ],
          "scheduledTimeLocal": "2022-04-06 08:35+01:00",
          "scheduledTimeUtc": "2022-04-06 07:35Z"
         },
         "codeshareStatus": "Unknown",
         "departure": {
          "quality": [
           "Basic"
          ],
          "scheduledTimeLocal": "2022-04-06 06:10+02:00",
          "scheduledTimeUtc": "2022-04-06 04:10Z",
          "terminal": "1"
         },
         "isCargo": false,
         "number": "U2 4535",
         "status": "CanceledUncertain"
        },
        {
         "aircraft": {
          "modeS": "440380",
          "model": "Airbus A320-100/200",
          "reg": "OE-IZP"
         },
         "airline": {
          "name": "EasyJet Europe"
         },
         "arrival": {
          "airport": {
           "iata": "OPO",
           "icao": "LPPR",
           "name": "Porto"
          },
          "quality": []
         },
         "callSign": "EJU46FY",
         "codeshareStatus": "IsOperator",
         "departure": {
          "actualTimeLocal": "2022-04-06 06:13+02:00",
          "actualTimeUtc": "2022-04-06 04:13Z",
          "quality": [
           "Basic",
           "Live"
          ],
          "runway": "25L",
          "runwayTimeLocal": "2022-04-06 06:25+02:00",
          "runwayTimeUtc": "2022-04-06 04:25Z",
          "scheduledTimeLocal": "2022-04-06 06:13+02:00",
          "scheduledTimeUtc": "2022-04-06 04:13Z"
         },
         "isCargo": false,
         "number": "EC 46FY",
         "status": "Departed"
        },
        {
         "aircraft": {
          "modeS": "39E686",
          "model": "Airbus A220-300"
         },
         "airline": {
          "name": "Air France"
         },
         "arrival": {
          "actualTimeLocal": "2022-04-06 07:52+02:00",
          "actualTimeUtc": "2022-04-06 05:52Z",
          "airport": {
           "iata": "CDG",
           "icao": "LFPG",
           "name": "Paris"
          },
          "quality": [
           "Basic",
           "Live"
          ],
          "runway": "27L",
          "runwayTimeLocal": "2022-04-06 07:52+02:00",
          "runwayTimeUtc": "2022-04-06 05:52Z",
          "scheduledTimeLocal": "2022-04-06 08:05+02:00",
          "scheduledTimeUtc": "2022-04-06 06:05Z",
          "terminal": "2F"
         },
         "callSign": "AFR88DR",
         "codeshareStatus": "IsOperator",
         "departure": {
          "actualTimeLocal": "2022-04-06 06:15+02:00",
          "actualTimeUtc": "2022-04-06 04:15Z",
          "quality": [
           "Basic",
           "Live"
          ],
          "runway": "25L",
          "runwayTimeLocal": "2022-04-06 06:27+02:00",
          "runwayTimeUtc": "2022-04-06 04:27Z",
          "scheduledTimeLocal": "2022-04-06 06:15+02:00",
          "scheduledTimeUtc": "2022-04-06 04:15Z",
          "terminal": "1"
         },
         "isCargo": false,
         "number": "AF 1135",
         "status": "Departed"
        },
        {
         "aircraft": {
          "modeS": "4D226F",
          "model": "Boeing 737-800",
          "reg": "9H-QBG"
         },
         "airline": {
          "name": "Ryanair"
         },
         "arrival": {
          "actualTimeLocal": "2022-04-06 07:32+02:00",
          "actualTimeUtc": "2022-04-06 05:32Z",
          "airport": {
           "iata": "BRU",
           "icao": "EBBR",
           "name": "Brussels"
          },
          "quality": [
           "Basic",
           "Live"
          ],
          "runway": "25R",
          "runwayTimeLocal": "2022-04-06 07:29+02:00",
          "runwayTimeUtc": "2022-04-06 05:29Z",
          "scheduledTimeLocal": "2022-04-06 07:50+02:00",
          "scheduledTimeUtc": "2022-04-06 05:50Z"
         },
         "callSign": "RYR3SG",
         "codeshareStatus": "IsOperator",
         "departure": {
          "actualTimeLocal": "2022-04-06 06:16+02:00",
          "actualTimeUtc": "2022-04-06 04:16Z",
          "quality": [
           "Basic",
           "Live"
          ],
          "runway": "25R",
          "runwayTimeLocal": "2022-04-06 06:25+02:00",
          "runwayTimeUtc": "2022-04-06 04:25Z",
          "scheduledTimeLocal": "2022-04-06 06:20+02:00",
          "scheduledTimeUtc": "2022-04-06 04:20Z"
         },
         "isCargo": false,
         "number": "FR 162",
         "status": "Departed"
        },
        {
         "aircraft": {
          "modeS": "4D227B",
          "model": "Boeing 737-800 (winglets)",
          "reg": "9H-QDV"
         },
         "airline": {
          "name": "Ryanair"
         },
         "arrival": {
          "actualTimeLocal": "2022-04-06 08:37+02:00",
          "actualTimeUtc": "2022-04-06 06:37Z",
          "airport": {
           "iata": "BCN",
           "icao": "LEBL",
           "name": "Barcelona"
          },
          "quality": [
           "Basic",
           "Live"
          ],
          "scheduledTimeLocal": "2022-04-06 09:00+02:00",
          "scheduledTimeUtc": "2022-04-06 07:00Z",
          "terminal": "2"
         },
         "callSign": "RYR62MF",
         "codeshareStatus": "IsOperator",
         "departure": {
          "actualTimeLocal": "2022-04-06 06:19+02:00",
          "actualTimeUtc": "2022-04-06 04:19Z",
          "quality": [
           "Basic",
           "Live"
          ],
          "runway": "25R",
          "runwayTimeLocal": "2022-04-06 06:23+02:00",
          "runwayTimeUtc": "2022-04-06 04:23Z",
          "scheduledTimeLocal": "2022-04-06 06:20+02:00",
          "scheduledTimeUtc": "2022-04-06 04:20Z"
         },
         "isCargo": false,
         "number": "FR 132",
         "status": "Departed"
        },
        {
         "aircraft": {
          "modeS": "4D21FD",
          "model": "Boeing 737",
          "reg": "9H-QAM"
         },
         "airline": {
          "name": "Ryanair"
         },
         "arrival": {
          "actualTimeLocal": "2022-04-06 07:16+01:00",
          "actualTimeUtc": "2022-04-06 06:16Z",
          "airport": {
           "iata": "MAN",
           "icao": "EGCC",
           "name": "Manchester"
          },
          "quality": [
           "Basic",
           "Live"
          ],
          "runway": "23R",
          "runwayTimeLocal": "2022-04-06 07:10+01:00",
          "runwayTimeUtc": "2022-04-06 06:10Z",
          "scheduledTimeLocal": "2022-04-06 07:30+01:00",
          "scheduledTimeUtc": "2022-04-06 06:30Z",
          "terminal": "3"
         },
         "callSign": "RYR1154",
         "codeshareStatus": "IsOperator",
         "departure": {
          "actualTimeLocal": "2022-04-06 06:25+02:00",
          "actualTimeUtc": "2022-04-06 04:25Z",
          "quality": [
           "Basic",
           "Live"
          ],
          "runway": "25R",
          "runwayTimeLocal": "2022-04-06 06:27+02:00",
          "runwayTimeUtc": "2022-04-06 04:27Z",
          "scheduledTimeLocal": "2022-04-06 06:25+02:00",
          "scheduledTimeUtc": "2022-04-06 04:25Z"
         },
         "isCargo": false,
         "number": "FR 1154",
         "status": "Departed"
        },
        {
         "aircraft": {
          "model": "Boeing 737-800"
         },
         "airline": {
          "name": "Ryanair"
         },
         "arrival": {
          "actualTimeLocal": "2022-04-06 07:11+01:00",
          "actualTimeUtc": "2022-04-06 06:11Z",
          "airport": {
           "iata": "STN",
           "icao": "EGSS",
           "name": "London"
          },
          "quality": [
           "Basic",
           "Live"
          ],
          "scheduledTimeLocal": "2022-04-06 07:20+01:00",
          "scheduledTimeUtc": "2022-04-06 06:20Z",
          "terminal": "1"
         },
         "codeshareStatus": "IsOperator",
         "departure": {
          "quality": [
           "Basic"
          ],
          "scheduledTimeLocal": "2022-04-06 06:30+02:00",
          "scheduledTimeUtc": "2022-04-06 04:30Z"
         },
         "isCargo": false,
         "number": "FR 144",
         "status": "Departed"
        },
        {
         "aircraft": {
          "modeS": "4D2244",
          "model": "Boeing 737-800",
          "reg": "9H-QCV"
         },
         "airline": {
          "name": "Ryanair"
         },
         "arrival": {
          "airport": {
           "iata": "FCO",
           "icao": "LIRF",
           "name": "Rome"
          },
          "quality": [
           "Basic"
          ],
          "scheduledTimeLocal": "2022-04-06 08:30+02:00",
          "scheduledTimeUtc": "2022-04-06 06:30Z"
         },
         "callSign": "RYR86LV",
         "codeshareStatus": "IsOperator",
         "departure": {
          "actualTimeLocal": "2022-04-06 06:30+02:00",
          "actualTimeUtc": "2022-04-06 04:30Z",
          "quality": [
           "Basic",
           "Live"
          ],
          "runwayTimeLocal": "2022-04-06 06:38+02:00",
          "runwayTimeUtc": "2022-04-06 04:38Z",
          "scheduledTimeLocal": "2022-04-06 06:30+02:00",
          "scheduledTimeUtc": "2022-04-06 04:30Z"
         },
         "isCargo": false,
         "number": "FR 134",
         "status": "Departed"
        },
        {
         "aircraft": {
          "model": "Airbus A320"
         },
         "airline": {
          "name": "easyJet"
         },
         "arrival": {
          "airport": {
           "iata": "AGP",
           "icao": "LEMG",
           "name": "Málaga"
          },
          "quality": [
           "Basic"
          ],
          "scheduledTimeLocal": "2022-04-06 10:10+02:00",
          "scheduledTimeUtc": "2022-04-06 08:10Z"
         },
         "codeshareStatus": "Unknown",
         "departure": {
          "quality": [
           "Basic"
          ],
          "scheduledTimeLocal": "2022-04-06 06:35+02:00",
          "scheduledTimeUtc": "2022-04-06 04:35Z",
          "terminal": "1"
         },
         "isCargo": false,
         "number": "U2 4521",
         "status": "CanceledUncertain"
        },
        {
         "aircraft": {
          "modeS": "440191",
          "model": "Airbus A320-100/200",
          "reg": "OE-INB"
         },
         "airline": {
          "name": "EasyJet Europe"
         },
         "arrival": {
          "airport": {
           "iata": "AGP",
           "icao": "LEMG",
           "name": "Málaga"
          },
          "quality": []
         },
         "callSign": "EJU92KU",
         "codeshareStatus": "IsOperator",
         "departure": {
          "actualTimeLocal": "2022-04-06 06:35+02:00",
          "actualTimeUtc": "2022-04-06 04:35Z",
          "quality": [
           "Basic",
           "Live"
          ],
          "runway": "25L",
          "runwayTimeLocal": "2022-04-06 06:45+02:00",
          "runwayTimeUtc": "2022-04-06 04:45Z",
          "scheduledTimeLocal": "2022-04-06 06:35+02:00",
          "scheduledTimeUtc": "2022-04-06 04:35Z"
         },
         "isCargo": false,
         "number": "EC 92KU",
         "status": "Departed"
        },
        {
         "aircraft": {
          "modeS": "3C66AB",
          "model": "Airbus A320",
          "reg": "D-AIUK"
         },
         "airline": {
          "name": "Lufthansa"
         },
         "arrival": {
          "actualTimeLocal": "2022-04-06 07:55+02:00",
          "actualTimeUtc": "2022-04-06 05:55Z",
          "airport": {
           "iata": "FRA",
           "icao": "EDDF",
           "name": "Frankfurt-am-Main"
          },
          "gate": "A2",
          "quality": [
           "Basic",
           "Live"
          ],
          "runway": "25R",
          "runwayTimeLocal": "2022-04-06 07:47+02:00",
          "runwayTimeUtc": "2022-04-06 05:47Z",
          "scheduledTimeLocal": "2022-04-06 07:55+02:00",
          "scheduledTimeUtc": "2022-04-06 05:55Z",
          "terminal": "1"
         },
         "callSign": "DLH173",
         "codeshareStatus": "IsOperator",
         "departure": {
          "quality": [
           "Basic"
          ],
          "scheduledTimeLocal": "2022-04-06 06:45+02:00",
          "scheduledTimeUtc": "2022-04-06 04:45Z",
          "terminal": "1"
         },
         "isCargo": false,
         "number": "LH 173",
         "status": "Departed"
        },
        {
         "aircraft": {
          "modeS": "440148",
          "model": "Airbus A320-100/200",
          "reg": "OE-ICZ"
         },
         "airline": {
          "name": "EasyJet Europe"
         },
         "arrival": {
          "actualTimeLocal": "2022-04-06 07:40+02:00",
          "actualTimeUtc": "2022-04-06 05:40Z",
          "airport": {
           "iata": "CPH",
           "icao": "EKCH",
           "name": "Copenhagen"
          },
          "quality": [
           "Basic",
           "Live"
          ],
          "runway": "22L",
          "runwayTimeLocal": "2022-04-06 07:40+02:00",
          "runwayTimeUtc": "2022-04-06 05:40Z",
          "scheduledTimeLocal": "2022-04-06 07:40+02:00",
          "scheduledTimeUtc": "2022-04-06 05:40Z"
         },
         "callSign": "EJU36RC",
         "codeshareStatus": "IsOperator",
         "departure": {
          "actualTimeLocal": "2022-04-06 06:47+02:00",
          "actualTimeUtc": "2022-04-06 04:47Z",
          "quality": [
           "Basic",
           "Live"
          ],
          "runway": "25L",
          "runwayTimeLocal": "2022-04-06 06:55+02:00",
          "runwayTimeUtc": "2022-04-06 04:55Z",
          "scheduledTimeLocal": "2022-04-06 06:47+02:00",
          "scheduledTimeUtc": "2022-04-06 04:47Z"
         },
         "isCargo": false,
         "number": "EC 36RC",
         "status": "Departed"
        },
        {
         "aircraft": {
          "model": "Embraer 190"
         },
         "airline": {
          "name": "British Airways"
         },
         "arrival": {
          "actualTimeLocal": "2022-04-06 07:14+01:00",
          "actualTimeUtc": "2022-04-06 06:14Z",
          "airport": {
           "iata": "LCY",
           "icao": "EGLC",
           "name": "London"
          },
          "quality": [
           "Basic",
           "Live"
          ],
          "scheduledTimeLocal": "2022-04-06 06:50+01:00",
          "scheduledTimeUtc": "2022-04-06 05:50Z"
         },
         "codeshareStatus": "IsCodeshared",
         "departure": {
          "quality": [
           "Basic"
          ],
          "scheduledTimeLocal": "2022-04-06 06:55+02:00",
          "scheduledTimeUtc": "2022-04-06 04:55Z",
          "terminal": "1"
         },
         "isCargo": false,
         "number": "BA 8490",
         "status": "Departed"
        },
        {
         "aircraft": {
          "model": "Airbus A320"
         },
         "airline": {
          "name": "easyJet"
         },
         "arrival": {
          "airport": {
           "iata": "CGN",
           "icao": "EDDK",
           "name": "Cologne"
          },
          "quality": [
           "Basic"
          ],
          "scheduledTimeLocal": "2022-04-06 08:15+02:00",
          "scheduledTimeUtc": "2022-04-06 06:15Z",
          "terminal": "1"
         },
         "codeshareStatus": "Unknown",
         "departure": {
          "quality": [
           "Basic"
          ],
          "scheduledTimeLocal": "2022-04-06 07:00+02:00",
          "scheduledTimeUtc": "2022-04-06 05:00Z",
          "terminal": "1"
         },
         "isCargo": false,
         "number": "U2 5511",
         "status": "Unknown"
        },
        {
         "aircraft": {
          "model": "Airbus A320"
         },
         "airline": {
          "name": "easyJet"
         },
         "arrival": {
          "airport": {
           "iata": "CPH",
           "icao": "EKCH",
           "name": "Copenhagen"
          },
          "quality": [
           "Basic"
          ],
          "scheduledTimeLocal": "2022-04-06 08:10+02:00",
          "scheduledTimeUtc": "2022-04-06 06:10Z",
          "terminal": "2"
         },
         "codeshareStatus": "IsOperator",
         "departure": {
          "quality": [
           "Basic"
          ],
          "scheduledTimeLocal": "2022-04-06 07:00+02:00",
          "scheduledTimeUtc": "2022-04-06 05:00Z",
          "terminal": "1"
         },
         "isCargo": false,
         "number": "U2 5681",
         "status": "CanceledUncertain"
        },
        {
         "aircraft": {
          "model": "Airbus A320"
         },
         "airline": {
          "name": "easyJet"
         },
         "arrival": {
          "airport": {
           "iata": "LGW",
           "icao": "EGKK",
           "name": "London"
          },
          "quality": [
           "Basic"
          ],
          "scheduledTimeLocal": "2022-04-06 08:10+01:00",
          "scheduledTimeUtc": "2022-04-06 07:10Z",
          "terminal": "N"
         },
         "codeshareStatus": "Unknown",
         "departure": {
          "quality": [
           "Basic"
          ],
          "scheduledTimeLocal": "2022-04-06 07:05+02:00",
          "scheduledTimeUtc": "2022-04-06 05:05Z",
          "terminal": "1"
         },
         "isCargo": false,
         "number": "U2 8208",
         "status": "CanceledUncertain"
        },
        {
         "aircraft": {
          "model": "Airbus A320"
         },
         "airline": {
          "name": "easyJet"
         },
         "arrival": {
          "airport": {
           "iata": "GVA",
           "icao": "LSGG",
           "name": "Geneva"
          },
          "quality": [
           "Basic"
          ],
          "scheduledTimeLocal": "2022-04-06 08:50+02:00",
          "scheduledTimeUtc": "2022-04-06 06:50Z",
          "terminal": "1"
         },
         "codeshareStatus": "IsOperator",
         "departure": {
          "quality": [
           "Basic"
          ],
          "scheduledTimeLocal": "2022-04-06 07:05+02:00",
          "scheduledTimeUtc": "2022-04-06 05:05Z",
          "terminal": "1"
         },
         "isCargo": false,
         "number": "U2 1590",
         "status": "CanceledUncertain"
        },
        {
         "aircraft": {
          "modeS": "44CDC2",
          "model": "Airbus A320-100/200",
          "reg": "OO-SNB"
         },
         "airline": {
          "name": "Brussels"
         },
         "arrival": {
          "actualTimeLocal": "2022-04-06 08:20+02:00",
          "actualTimeUtc": "2022-04-06 06:20Z",
          "airport": {
           "iata": "BRU",
           "icao": "EBBR",
           "name": "Brussels"
          },
          "quality": [
           "Basic",
           "Live"
          ],
          "runway": "25R",
          "runwayTimeLocal": "2022-04-06 08:16+02:00",
          "runwayTimeUtc": "2022-04-06 06:16Z",
          "scheduledTimeLocal": "2022-04-06 08:15+02:00",
          "scheduledTimeUtc": "2022-04-06 06:15Z"
         },
         "callSign": "BEL92B",
         "codeshareStatus": "IsOperator",
         "departure": {
          "actualTimeLocal": "2022-04-06 07:06+02:00",
          "actualTimeUtc": "2022-04-06 05:06Z",
          "quality": [
           "Basic",
           "Live"
          ],
          "runway": "25L",
          "runwayTimeLocal": "2022-04-06 07:11+02:00",
          "runwayTimeUtc": "2022-04-06 05:11Z",
          "scheduledTimeLocal": "2022-04-06 06:55+02:00",
          "scheduledTimeUtc": "2022-04-06 04:55Z",
          "terminal": "1"
         },
         "isCargo": false,
         "number": "SN 2592",
         "status": "Departed"
        },
        {
         "aircraft": {
          "modeS": "4B1814",
          "model": "Airbus A320 NEO",
          "reg": "HB-JDC"
         },
         "airline": {
          "name": "SWISS"
         },
         "arrival": {
          "actualTimeLocal": "2022-04-06 08:29+02:00",
          "actualTimeUtc": "2022-04-06 06:29Z",
          "airport": {
           "iata": "ZRH",
           "icao": "LSZH",
           "name": "Zurich"
          },
          "baggageBelt": "11",
          "quality": [
           "Basic",
           "Live"
          ],
          "runwayTimeLocal": "2022-04-06 08:22+02:00",
          "runwayTimeUtc": "2022-04-06 06:22Z",
          "scheduledTimeLocal": "2022-04-06 08:30+02:00",
          "scheduledTimeUtc": "2022-04-06 06:30Z",
          "terminal": "1"
         },
         "callSign": "SWR96K",
         "codeshareStatus": "IsOperator",
         "departure": {
          "actualTimeLocal": "2022-04-06 07:06+02:00",
          "actualTimeUtc": "2022-04-06 05:06Z",
          "quality": [
           "Basic",
           "Live"
          ],
          "runway": "25L",
          "runwayTimeLocal": "2022-04-06 07:17+02:00",
          "runwayTimeUtc": "2022-04-06 05:17Z",
          "scheduledTimeLocal": "2022-04-06 07:00+02:00",
          "scheduledTimeUtc": "2022-04-06 05:00Z",
          "terminal": "1"
         },
         "isCargo": false,
         "number": "LX 963",
         "status": "Departed"
        },
        {
         "aircraft": {
          "modeS": "440219",
          "model": "Airbus A320-100/200",
          "reg": "OE-IZJ"
         },
         "airline": {
          "name": "EasyJet Europe"
         },
         "arrival": {
          "airport": {
           "name": "Unknown"
          },
          "quality": []
         },
         "callSign": "EJU62ZT",
         "codeshareStatus": "IsOperator",
         "departure": {
          "actualTimeLocal": "2022-04-06 07:06+02:00",
          "actualTimeUtc": "2022-04-06 05:06Z",
          "quality": [
           "Basic",
           "Live"
          ],
          "runway": "25L",
          "runwayTimeLocal": "2022-04-06 07:12+02:00",
          "runwayTimeUtc": "2022-04-06 05:12Z",
          "scheduledTimeLocal": "2022-04-06 07:06+02:00",
          "scheduledTimeUtc": "2022-04-06 05:06Z"
         },
         "isCargo": false,
         "number": "EC 62ZT",
         "status": "Departed"
        },
        {
         "aircraft": {
          "modeS": "440145",
          "model": "Airbus A320-100/200",
          "reg": "OE-IZS"
         },
         "airline": {
          "name": "EasyJet Europe"
         },
         "arrival": {
          "airport": {
           "iata": "LGW",
           "icao": "EGKK",
           "name": "London"
          },
          "quality": []
         },
         "callSign": "EJU45NQ",
         "codeshareStatus": "IsOperator",
         "departure": {
          "actualTimeLocal": "2022-04-06 07:07+02:00",
          "actualTimeUtc": "2022-04-06 05:07Z",
          "quality": [
           "Basic",
           "Live"
          ],
          "runway": "25L",
          "runwayTimeLocal": "2022-04-06 07:07+02:00",
          "runwayTimeUtc": "2022-04-06 05:07Z",
          "scheduledTimeLocal": "2022-04-06 07:07+02:00",
          "scheduledTimeUtc": "2022-04-06 05:07Z"
         },
         "isCargo": false,
         "number": "EC 45NQ",
         "status": "Departed"
        },
        {
         "aircraft": {
          "modeS": "344417",
          "model": "Airbus A320-200 (Sharklets)",
          "reg": "EC-LUL"
         },
         "airline": {
          "name": "Iberia"
         },
         "arrival": {
          "airport": {
           "iata": "MAD",
           "icao": "LEMD",
           "name": "Madrid"
          },
          "quality": [
           "Basic"
          ],
          "scheduledTimeLocal": "2022-04-06 10:10+02:00",
          "scheduledTimeUtc": "2022-04-06 08:10Z",
          "terminal": "4"
         },
         "callSign": "IBE3057",
         "codeshareStatus": "IsOperator",
         "departure": {
          "actualTimeLocal": "2022-04-06 07:07+02:00",
          "actualTimeUtc": "2022-04-06 05:07Z",
          "quality": [
           "Basic",
           "Live"
          ],
          "runway": "25L",
          "runwayTimeLocal": "2022-04-06 07:22+02:00",
          "runwayTimeUtc": "2022-04-06 05:22Z",
          "scheduledTimeLocal": "2022-04-06 07:00+02:00",
          "scheduledTimeUtc": "2022-04-06 05:00Z",
          "terminal": "1"
         },
         "isCargo": false,
         "number": "IB 3057",
         "status": "Departed"
        },
        {
         "aircraft": {
          "model": "Airbus A320"
         },
         "airline": {
          "name": "easyJet"
         },
         "arrival": {
          "airport": {
           "iata": "AMS",
           "icao": "EHAM",
           "name": "Amsterdam"
          },
          "quality": [
           "Basic"
          ],
          "scheduledTimeLocal": "2022-04-06 08:35+02:00",
          "scheduledTimeUtc": "2022-04-06 06:35Z"
         },
         "codeshareStatus": "Unknown",
         "departure": {
          "quality": [
           "Basic"
          ],
          "scheduledTimeLocal": "2022-04-06 07:05+02:00",
          "scheduledTimeUtc": "2022-04-06 05:05Z",
          "terminal": "1"
         },
         "isCargo": false,
         "number": "U2 4561",
         "status": "CanceledUncertain"
        },
        {
         "aircraft": {
          "model": "Airbus A320"
         },
         "airline": {
          "name": "Eurowings"
         },
         "arrival": {
          "airport": {
           "iata": "CGN",
           "icao": "EDDK",
           "name": "Cologne"
          },
          "quality": [
           "Basic"
          ],
          "scheduledTimeLocal": "2022-04-06 08:20+02:00",
          "scheduledTimeUtc": "2022-04-06 06:20Z",
          "terminal": "1"
         },
         "codeshareStatus": "Unknown",
         "departure": {
          "quality": [
           "Basic"
          ],
          "scheduledTimeLocal": "2022-04-06 07:10+02:00",
          "scheduledTimeUtc": "2022-04-06 05:10Z",
          "terminal": "1"
         },
         "isCargo": false,
         "number": "EW 8058",
         "status": "Unknown"
        },
        {
         "aircraft": {
          "model": "Airbus A319"
         },
         "airline": {
          "name": "easyJet"
         },
         "arrival": {
          "airport": {
           "iata": "AMS",
           "icao": "EHAM",
           "name": "Amsterdam"
          },
          "quality": [
           "Basic"
          ],
          "scheduledTimeLocal": "2022-04-06 08:40+02:00",
          "scheduledTimeUtc": "2022-04-06 06:40Z"
         },
         "codeshareStatus": "Unknown",
         "departure": {
          "quality": [
           "Basic"
          ],
          "scheduledTimeLocal": "2022-04-06 07:10+02:00",
          "scheduledTimeUtc": "2022-04-06 05:10Z",
          "terminal": "1"
         },
         "isCargo": false,
         "number": "U2 5101",
         "status": "CanceledUncertain"
        },
        {
         "aircraft": {
          "model": "Airbus A320"
         },
         "airline": {
          "name": "easyJet"
         },
         "arrival": {
          "airport": {
           "iata": "MXP",
           "icao": "LIMC",
           "name": "Milan"
          },
          "quality": [
           "Basic"
          ],
          "scheduledTimeLocal": "2022-04-06 09:05+02:00",
          "scheduledTimeUtc": "2022-04-06 07:05Z",
          "terminal": "1"
         },
         "codeshareStatus": "Unknown",
         "departure": {
          "quality": [
           "Basic"
          ],
          "scheduledTimeLocal": "2022-04-06 07:15+02:00",
          "scheduledTimeUtc": "2022-04-06 05:15Z",
          "terminal": "1"
         },
         "isCargo": false,
         "number": "U2 4673",
         "status": "Unknown"
        },
        {
         "aircraft": {
          "modeS": "440A8F",
          "model": "Airbus A320-100/200",
          "reg": "OE-IZB"
         },
         "airline": {
          "name": "EasyJet Europe"
         },
         "arrival": {
          "airport": {
           "iata": "PMI",
           "icao": "LEPA",
           "name": "Palma De Mallorca"
          },
          "quality": []
         },
         "callSign": "EJU84UF",
         "codeshareStatus": "IsOperator",
         "departure": {
          "actualTimeLocal": "2022-04-06 05:56+02:00",
          "actualTimeUtc": "2022-04-06 03:56Z",
          "quality": [
           "Basic",
           "Live"
          ],
          "runway": "25L",
          "runwayTimeLocal": "2022-04-06 06:03+02:00",
          "runwayTimeUtc": "2022-04-06 04:03Z",
          "scheduledTimeLocal": "2022-04-06 05:56+02:00",
          "scheduledTimeUtc": "2022-04-06 03:56Z"
         },
         "isCargo": false,
         "number": "EC 84UF",
         "status": "Departed"
        },
        {
         "aircraft": {
          "modeS": "484EE5",
          "model": "Boeing 737",
          "reg": "PH-HSE"
         },
         "airline": {
          "name": "KLM"
         },
         "arrival": {
          "actualTimeLocal": "2022-04-06 07:05+02:00",
          "actualTimeUtc": "2022-04-06 05:05Z",
          "airport": {
           "iata": "AMS",
           "icao": "EHAM",
           "name": "Amsterdam"
          },
          "baggageBelt": "11",
          "quality": [
           "Basic",
           "Live"
          ],
          "runway": "18R",
          "runwayTimeLocal": "2022-04-06 07:05+02:00",
          "runwayTimeUtc": "2022-04-06 05:05Z",
          "scheduledTimeLocal": "2022-04-06 07:20+02:00",
          "scheduledTimeUtc": "2022-04-06 05:20Z",
          "terminal": "2"
         },
         "callSign": "KLM44R",
         "codeshareStatus": "IsOperator",
         "departure": {
          "actualTimeLocal": "2022-04-06 05:53+02:00",
          "actualTimeUtc": "2022-04-06 03:53Z",
          "quality": [
           "Basic",
           "Live"
          ],
          "runway": "25L",
          "runwayTimeLocal": "2022-04-06 06:01+02:00",
          "runwayTimeUtc": "2022-04-06 04:01Z",
          "scheduledTimeLocal": "2022-04-06 06:00+02:00",
          "scheduledTimeUtc": "2022-04-06 04:00Z",
          "terminal": "1"
         },
         "isCargo": false,
         "number": "KL 1818",
         "status": "Departed"
        },
        {
         "aircraft": {
          "modeS": "3C56EA",
          "model": "Airbus A320-100/200",
          "reg": "D-AEWJ"
         },
         "airline": {
          "name": "Eurowings"
         },
         "arrival": {
          "airport": {
           "iata": "STR",
           "icao": "EDDS",
           "name": "Stuttgart"
          },
          "quality": []
         },
         "callSign": "EWG3001",
         "codeshareStatus": "IsOperator",
         "departure": {
          "actualTimeLocal": "2022-04-06 00:16+02:00",
          "actualTimeUtc": "2022-04-05 22:16Z",
          "quality": [
           "Basic",
           "Live"
          ],
          "runway": "25R",
          "runwayTimeLocal": "2022-04-06 00:28+02:00",
          "runwayTimeUtc": "2022-04-05 22:28Z",
          "scheduledTimeLocal": "2022-04-06 00:16+02:00",
          "scheduledTimeUtc": "2022-04-05 22:16Z"
         },
         "isCargo": false,
         "number": "EW 3001",
         "status": "Departed"
        },
        {
         "aircraft": {
          "modeS": "40780E",
          "model": "Airbus A320",
          "reg": "G-NEOY"
         },
         "airline": {
          "name": "British Airways"
         },
         "arrival": {
          "actualTimeLocal": "2022-04-06 08:23+01:00",
          "actualTimeUtc": "2022-04-06 07:23Z",
          "airport": {
           "iata": "LHR",
           "icao": "EGLL",
           "name": "London"
          },
          "baggageBelt": "4",
          "quality": [
           "Basic",
           "Live"
          ],
          "runway": "27L",
          "runwayTimeLocal": "2022-04-06 08:23+01:00",
          "runwayTimeUtc": "2022-04-06 07:23Z",
          "scheduledTimeLocal": "2022-04-06 08:20+01:00",
          "scheduledTimeUtc": "2022-04-06 07:20Z",
          "terminal": "5"
         },
         "callSign": "BAW4AB",
         "codeshareStatus": "IsOperator",
         "departure": {
          "quality": [
           "Basic"
          ],
          "scheduledTimeLocal": "2022-04-06 07:15+02:00",
          "scheduledTimeUtc": "2022-04-06 05:15Z",
          "terminal": "1"
         },
         "isCargo": false,
         "number": "BA 981",
         "status": "Departed"
        },
        {
         "aircraft": {
          "modeS": "3C56F7",
          "model": "Airbus A320-100/200",
          "reg": "D-AEWW"
         },
         "airline": {
          "name": "Germanwings"
         },
         "arrival": {
          "airport": {
           "iata": "CGN",
           "icao": "EDDK",
           "name": "Cologne"
          },
          "quality": []
         },
         "callSign": "GWI8058",
         "codeshareStatus": "IsOperator",
         "departure": {
          "actualTimeLocal": "2022-04-06 07:17+02:00",
          "actualTimeUtc": "2022-04-06 05:17Z",
          "quality": [
           "Basic",
           "Live"
          ],
          "runway": "25R",
          "runwayTimeLocal": "2022-04-06 07:25+02:00",
          "runwayTimeUtc": "2022-04-06 05:25Z",
          "scheduledTimeLocal": "2022-04-06 07:17+02:00",
          "scheduledTimeUtc": "2022-04-06 05:17Z"
         },
         "isCargo": false,
         "number": "4U 8058",
         "status": "Departed"
        },
        {
         "aircraft": {
          "modeS": "406D90",
          "model": "Airbus A320",
          "reg": "G-EZOK"
         },
         "airline": {
          "name": "easyJet"
         },
         "arrival": {
          "actualTimeLocal": "2022-04-06 09:20+02:00",
          "actualTimeUtc": "2022-04-06 07:20Z",
          "airport": {
           "iata": "CDG",
           "icao": "LFPG",
           "name": "Paris"
          },
          "quality": [
           "Basic",
           "Live"
          ],
          "runway": "27L",
          "runwayTimeLocal": "2022-04-06 09:19+02:00",
          "runwayTimeUtc": "2022-04-06 07:19Z",
          "scheduledTimeLocal": "2022-04-06 09:15+02:00",
          "scheduledTimeUtc": "2022-04-06 07:15Z",
          "terminal": "2D"
         },
         "callSign": "EZY84RU",
         "codeshareStatus": "Unknown",
         "departure": {
          "quality": [
           "Basic"
          ],
          "scheduledTimeLocal": "2022-04-06 07:20+02:00",
          "scheduledTimeUtc": "2022-04-06 05:20Z",
          "terminal": "1"
         },
         "isCargo": false,
         "number": "U2 5651",
         "status": "Departed"
        },
        {
         "aircraft": {
          "modeS": "3C66E5",
          "model": "Airbus A320-100/200",
          "reg": "D-AIWE"
         },
         "airline": {
          "name": "Lufthansa"
         },
         "arrival": {
          "actualTimeLocal": "2022-04-06 08:15+02:00",
          "actualTimeUtc": "2022-04-06 06:15Z",
          "airport": {
           "iata": "MUC",
           "icao": "EDDM",
           "name": "Munich"
          },
          "quality": [
           "Basic",
           "Live"
          ],
          "runwayTimeLocal": "2022-04-06 08:11+02:00",
          "runwayTimeUtc": "2022-04-06 06:11Z",
          "scheduledTimeLocal": "2022-04-06 08:30+02:00",
          "scheduledTimeUtc": "2022-04-06 06:30Z",
          "terminal": "2"
         },
         "callSign": "DLH7CL",
         "codeshareStatus": "IsOperator",
         "departure": {
          "actualTimeLocal": "2022-04-06 07:20+02:00",
          "actualTimeUtc": "2022-04-06 05:20Z",
          "quality": [
           "Basic",
           "Live"
          ],
          "runway": "25L",
          "runwayTimeLocal": "2022-04-06 07:27+02:00",
          "runwayTimeUtc": "2022-04-06 05:27Z",
          "scheduledTimeLocal": "2022-04-06 07:20+02:00",
          "scheduledTimeUtc": "2022-04-06 05:20Z",
          "terminal": "1"
         },
         "isCargo": false,
         "number": "LH 1963",
         "status": "Departed"
        },
        {
         "aircraft": {
          "modeS": "4406F0",
          "model": "Airbus A319",
          "reg": "OE-LQU"
         },
         "airline": {
          "name": "EasyJet Europe"
         },
         "arrival": {
          "actualTimeLocal": "2022-04-06 09:13+02:00",
          "actualTimeUtc": "2022-04-06 07:13Z",
          "airport": {
           "iata": "FCO",
           "icao": "LIRF",
           "name": "Rome"
          },
          "quality": [
           "Basic",
           "Live"
          ],
          "runwayTimeLocal": "2022-04-06 09:13+02:00",
          "runwayTimeUtc": "2022-04-06 07:13Z",
          "scheduledTimeLocal": "2022-04-06 09:13+02:00",
          "scheduledTimeUtc": "2022-04-06 07:13Z"
         },
         "callSign": "EJU56KB",
         "codeshareStatus": "IsOperator",
         "departure": {
          "actualTimeLocal": "2022-04-06 07:20+02:00",
          "actualTimeUtc": "2022-04-06 05:20Z",
          "quality": [
           "Basic",
           "Live"
          ],
          "runway": "25L",
          "runwayTimeLocal": "2022-04-06 07:32+02:00",
          "runwayTimeUtc": "2022-04-06 05:32Z",
          "scheduledTimeLocal": "2022-04-06 07:20+02:00",
          "scheduledTimeUtc": "2022-04-06 05:20Z"
         },
         "isCargo": false,
         "number": "EC 56KB",
         "status": "Departed"
        },
        {
         "aircraft": {
          "modeS": "440175",
          "model": "Airbus A320-100/200",
          "reg": "OE-IJO"
         },
         "airline": {
          "name": "EasyJet Europe"
         },
         "arrival": {
          "airport": {
           "name": "Unknown"
          },
          "quality": []
         },
         "callSign": "EJU52KQ",
         "codeshareStatus": "IsOperator",
         "departure": {
          "actualTimeLocal": "2022-04-06 07:24+02:00",
          "actualTimeUtc": "2022-04-06 05:24Z",
          "quality": [
           "Basic",
           "Live"
          ],
          "runway": "25L",
          "runwayTimeLocal": "2022-04-06 07:35+02:00",
          "runwayTimeUtc": "2022-04-06 05:35Z",
          "scheduledTimeLocal": "2022-04-06 07:24+02:00",
          "scheduledTimeUtc": "2022-04-06 05:24Z"
         },
         "isCargo": false,
         "number": "EC 86UD",
         "status": "Departed"
        },
        {
         "aircraft": {
          "modeS": "4010EE",
          "model": "Airbus A319",
          "reg": "G-EZBZ"
         },
         "airline": {
          "name": "easyJet"
         },
         "arrival": {
          "actualTimeLocal": "2022-04-06 09:36+02:00",
          "actualTimeUtc": "2022-04-06 07:36Z",
          "airport": {
           "iata": "FCO",
           "icao": "LIRF",
           "name": "Rome"
          },
          "quality": [
           "Basic",
           "Live"
          ],
          "runwayTimeLocal": "2022-04-06 09:36+02:00",
          "runwayTimeUtc": "2022-04-06 07:36Z",
          "scheduledTimeLocal": "2022-04-06 09:40+02:00",
          "scheduledTimeUtc": "2022-04-06 07:40Z",
          "terminal": "3"
         },
         "callSign": "EZY42KR",
         "codeshareStatus": "Unknown",
         "departure": {
          "quality": [
           "Basic"
          ],
          "scheduledTimeLocal": "2022-04-06 07:25+02:00",
          "scheduledTimeUtc": "2022-04-06 05:25Z",
          "terminal": "1"
         },
         "isCargo": false,
         "number": "U2 5701",
         "status": "Departed"
        },
        {
         "aircraft": {
          "modeS": "4D2273",
          "model": "Boeing 737-800",
          "reg": "9H-QDQ"
         },
         "airline": {
          "name": "Ryanair"
         },
         "arrival": {
          "actualTimeLocal": "2022-04-06 10:01+02:00",
          "actualTimeUtc": "2022-04-06 08:01Z",
          "airport": {
           "iata": "PMI",
           "icao": "LEPA",
           "name": "Palma De Mallorca"
          },
          "quality": [
           "Basic",
           "Live"
          ],
          "scheduledTimeLocal": "2022-04-06 10:05+02:00",
          "scheduledTimeUtc": "2022-04-06 08:05Z",
          "terminal": "N"
         },
         "callSign": "RYR4QY",
         "codeshareStatus": "IsOperator",
         "departure": {
          "actualTimeLocal": "2022-04-06 07:28+02:00",
          "actualTimeUtc": "2022-04-06 05:28Z",
          "quality": [
           "Basic",
           "Live"
          ],
          "runway": "25R",
          "runwayTimeLocal": "2022-04-06 07:31+02:00",
          "runwayTimeUtc": "2022-04-06 05:31Z",
          "scheduledTimeLocal": "2022-04-06 07:20+02:00",
          "scheduledTimeUtc": "2022-04-06 05:20Z"
         },
         "isCargo": false,
         "number": "FR 110",
         "status": "Departed"
        },
        {
         "aircraft": {
          "model": "Airbus A319"
         },
         "airline": {
          "name": "easyJet"
         },
         "arrival": {
          "airport": {
           "iata": "ARN",
           "icao": "ESSA",
           "name": "Stockholm"
          },
          "quality": [
           "Basic"
          ],
          "scheduledTimeLocal": "2022-04-06 09:20+02:00",
          "scheduledTimeUtc": "2022-04-06 07:20Z",
          "terminal": "2"
         },
         "codeshareStatus": "Unknown",
         "departure": {
          "quality": [
           "Basic"
          ],
          "scheduledTimeLocal": "2022-04-06 07:30+02:00",
          "scheduledTimeUtc": "2022-04-06 05:30Z",
          "terminal": "1"
         },
         "isCargo": false,
         "number": "U2 5881",
         "status": "CanceledUncertain"
        },
        {
         "aircraft": {
          "model": "Airbus A320"
         },
         "airline": {
          "name": "easyJet"
         },
         "arrival": {
          "airport": {
           "iata": "CHQ",
           "icao": "LGSA",
           "name": "Souda"
          },
          "quality": [
           "Basic"
          ],
          "scheduledTimeLocal": "2022-04-06 11:50+03:00",
          "scheduledTimeUtc": "2022-04-06 08:50Z"
         },
         "codeshareStatus": "Unknown",
         "departure": {
          "quality": [
           "Basic"
          ],
          "scheduledTimeLocal": "2022-04-06 07:40+02:00",
          "scheduledTimeUtc": "2022-04-06 05:40Z",
          "terminal": "1"
         },
         "isCargo": false,
         "number": "U2 5005",
         "status": "Unknown"
        },
        {
         "aircraft": {
          "model": "Boeing 737-800"
         },
         "airline": {
          "name": "Ryanair"
         },
         "arrival": {
          "airport": {
           "iata": "HER",
           "icao": "LGIR",
           "name": "Heraklion"
          },
          "quality": [
           "Basic"
          ],
          "scheduledTimeLocal": "2022-04-06 11:50+03:00",
          "scheduledTimeUtc": "2022-04-06 08:50Z"
         },
         "codeshareStatus": "IsOperator",
         "departure": {
          "quality": [
           "Basic"
          ],
          "scheduledTimeLocal": "2022-04-06 07:40+02:00",
          "scheduledTimeUtc": "2022-04-06 05:40Z",
          "terminal": "0"
         },
         "isCargo": false,
         "number": "FR 30",
         "status": "Unknown"
        },
        {
         "aircraft": {
          "modeS": "3C6643",
          "model": "Airbus A321",
          "reg": "D-AIRC"
         },
         "airline": {
          "name": "Lufthansa"
         },
         "arrival": {
          "actualTimeLocal": "2022-04-06 08:52+02:00",
          "actualTimeUtc": "2022-04-06 06:52Z",
          "airport": {
           "iata": "FRA",
           "icao": "EDDF",
           "name": "Frankfurt-am-Main"
          },
          "gate": "B2",
          "quality": [
           "Basic",
           "Live"
          ],
          "runway": "25C",
          "runwayTimeLocal": "2022-04-06 08:46+02:00",
          "runwayTimeUtc": "2022-04-06 06:46Z",
          "scheduledTimeLocal": "2022-04-06 08:55+02:00",
          "scheduledTimeUtc": "2022-04-06 06:55Z",
          "terminal": "1"
         },
         "callSign": "DLH175",
         "codeshareStatus": "IsOperator",
         "departure": {
          "quality": [
           "Basic"
          ],
          "scheduledTimeLocal": "2022-04-06 07:45+02:00",
          "scheduledTimeUtc": "2022-04-06 05:45Z",
          "terminal": "1"
         },
         "isCargo": false,
         "number": "LH 175",
         "status": "Departed"
        },
        {
         "aircraft": {
          "modeS": "3C4894",
          "model": "Airbus A320-100/200",
          "reg": "D-ABDT"
         },
         "airline": {
          "name": "Eurowings"
         },
         "arrival": {
          "actualTimeLocal": "2022-04-06 11:44+01:00",
          "actualTimeUtc": "2022-04-06 10:44Z",
          "airport": {
           "iata": "LPA",
           "icao": "GCLP",
           "name": "Gran Canaria Island"
          },
          "quality": [
           "Basic",
           "Live"
          ],
          "scheduledTimeLocal": "2022-04-06 11:35+01:00",
          "scheduledTimeUtc": "2022-04-06 10:35Z",
          "terminal": "1"
         },
         "callSign": "EWG8186",
         "codeshareStatus": "IsOperator",
         "departure": {
          "actualTimeLocal": "2022-04-06 07:52+02:00",
          "actualTimeUtc": "2022-04-06 05:52Z",
          "quality": [
           "Basic",
           "Live"
          ],
          "runway": "25R",
          "runwayTimeLocal": "2022-04-06 07:56+02:00",
          "runwayTimeUtc": "2022-04-06 05:56Z",
          "scheduledTimeLocal": "2022-04-06 07:25+02:00",
          "scheduledTimeUtc": "2022-04-06 05:25Z",
          "terminal": "1"
         },
         "isCargo": false,
         "number": "EW 8186",
         "status": "Departed"
        },
        {
         "aircraft": {
          "modeS": "3C496A",
          "model": "Boeing 737",
          "reg": "D-ABKJ"
         },
         "airline": {
          "name": "Eurowings"
         },
         "arrival": {
          "actualTimeLocal": "2022-04-06 08:59+02:00",
          "actualTimeUtc": "2022-04-06 06:59Z",
          "airport": {
           "iata": "CGN",
           "icao": "EDDK",
           "name": "Cologne"
          },
          "quality": [
           "Basic",
           "Live"
          ],
          "scheduledTimeLocal": "2022-04-06 09:10+02:00",
          "scheduledTimeUtc": "2022-04-06 07:10Z",
          "terminal": "1"
         },
         "callSign": "EWG53G",
         "codeshareStatus": "IsOperator",
         "departure": {
          "actualTimeLocal": "2022-04-06 07:55+02:00",
          "actualTimeUtc": "2022-04-06 05:55Z",
          "quality": [
           "Basic",
           "Live"
          ],
          "runway": "25L",
          "runwayTimeLocal": "2022-04-06 08:05+02:00",
          "runwayTimeUtc": "2022-04-06 06:05Z",
          "scheduledTimeLocal": "2022-04-06 08:00+02:00",
          "scheduledTimeUtc": "2022-04-06 06:00Z",
          "terminal": "1"
         },
         "isCargo": false,
         "number": "EW 13",
         "status": "Departed"
        },
        {
         "aircraft": {
          "modeS": "440484",
          "model": "Airbus A319",
          "reg": "OE-LKC"
         },
         "airline": {
          "name": "EasyJet Europe"
         },
         "arrival": {
          "actualTimeLocal": "2022-04-06 09:50+02:00",
          "actualTimeUtc": "2022-04-06 07:50Z",
          "airport": {
           "iata": "NCE",
           "icao": "LFMN",
           "name": "Nice"
          },
          "quality": [
           "Basic",
           "Live"
          ],
          "scheduledTimeLocal": "2022-04-06 09:50+02:00",
          "scheduledTimeUtc": "2022-04-06 07:50Z"
         },
         "callSign": "EJU4543",
         "codeshareStatus": "IsOperator",
         "departure": {
          "actualTimeLocal": "2022-04-06 08:01+02:00",
          "actualTimeUtc": "2022-04-06 06:01Z",
          "quality": [
           "Basic",
           "Live"
          ],
          "runway": "25L",
          "runwayTimeLocal": "2022-04-06 08:09+02:00",
          "runwayTimeUtc": "2022-04-06 06:09Z",
          "scheduledTimeLocal": "2022-04-06 08:01+02:00",
          "scheduledTimeUtc": "2022-04-06 06:01Z"
         },
         "isCargo": false,
         "number": "EC 4543",
         "status": "Departed"
        },
        {
         "aircraft": {
          "model": "Airbus A319"
         },
         "airline": {
          "name": "easyJet"
         },
         "arrival": {
          "airport": {
           "iata": "NCE",
           "icao": "LFMN",
           "name": "Nice"
          },
          "quality": [
           "Basic"
          ],
          "scheduledTimeLocal": "2022-04-06 10:15+02:00",
          "scheduledTimeUtc": "2022-04-06 08:15Z",
          "terminal": "2"
         },
         "codeshareStatus": "Unknown",
         "departure": {
          "quality": [
           "Basic"
          ],
          "scheduledTimeLocal": "2022-04-06 08:05+02:00",
          "scheduledTimeUtc": "2022-04-06 06:05Z",
          "terminal": "1"
         },
         "isCargo": false,
         "number": "U2 4543",
         "status": "Unknown"
        },
        {
         "aircraft": {
          "modeS": "3C5EE6",
          "model": "Airbus A319",
          "reg": "D-AGWF"
         },
         "airline": {
          "name": "Eurowings"
         },
         "arrival": {
          "actualTimeLocal": "2022-04-06 09:23+02:00",
          "actualTimeUtc": "2022-04-06 07:23Z",
          "airport": {
           "iata": "DUS",
           "icao": "EDDL",
           "name": "Duesseldorf"
          },
          "baggageBelt": "05",
          "gate": "A40",
          "quality": [
           "Basic",
           "Live"
          ],
          "runwayTimeLocal": "2022-04-06 09:20+02:00",
          "runwayTimeUtc": "2022-04-06 07:20Z",
          "scheduledTimeLocal": "2022-04-06 09:25+02:00",
          "scheduledTimeUtc": "2022-04-06 07:25Z",
          "terminal": "A(1)"
         },
         "callSign": "GWI9UW",
         "codeshareStatus": "IsOperator",
         "departure": {
          "quality": [
           "Basic"
          ],
          "scheduledTimeLocal": "2022-04-06 08:10+02:00",
          "scheduledTimeUtc": "2022-04-06 06:10Z",
          "terminal": "1"
         },
         "isCargo": false,
         "number": "EW 9049",
         "status": "Departed"
        },
        {
         "aircraft": {
          "modeS": "3C5EE6",
          "model": "Airbus A319",
          "reg": "D-AGWF"
         },
         "airline": {
          "name": "Germanwings"
         },
         "arrival": {
          "actualTimeLocal": "2022-04-06 09:19+02:00",
          "actualTimeUtc": "2022-04-06 07:19Z",
          "airport": {
           "iata": "DUS",
           "icao": "EDDL",
           "name": "Duesseldorf"
          },
          "quality": [
           "Basic",
           "Live"
          ],
          "runway": "23L",
          "runwayTimeLocal": "2022-04-06 09:19+02:00",
          "runwayTimeUtc": "2022-04-06 07:19Z",
          "scheduledTimeLocal": "2022-04-06 09:19+02:00",
          "scheduledTimeUtc": "2022-04-06 07:19Z"
         },
         "callSign": "GWI9UW",
         "codeshareStatus": "IsOperator",
         "departure": {
          "actualTimeLocal": "2022-04-06 08:17+02:00",
          "actualTimeUtc": "2022-04-06 06:17Z",
          "quality": [
           "Basic",
           "Live"
          ],
          "runway": "25L",
          "runwayTimeLocal": "2022-04-06 08:26+02:00",
          "runwayTimeUtc": "2022-04-06 06:26Z",
          "scheduledTimeLocal": "2022-04-06 08:17+02:00",
          "scheduledTimeUtc": "2022-04-06 06:17Z"
         },
         "isCargo": false,
         "number": "4U 9UW",
         "status": "Departed"
        },
        {
         "aircraft": {
          "model": "Airbus A319"
         },
         "airline": {
          "name": "Eurowings"
         },
         "arrival": {
          "actualTimeLocal": "2022-04-06 09:32+02:00",
          "actualTimeUtc": "2022-04-06 07:32Z",
          "airport": {
           "iata": "STR",
           "icao": "EDDS",
           "name": "Stuttgart"
          },
          "quality": [
           "Basic",
           "Live"
          ],
          "scheduledTimeLocal": "2022-04-06 09:35+02:00",
          "scheduledTimeUtc": "2022-04-06 07:35Z",
          "terminal": "3"
         },
         "codeshareStatus": "IsOperator",
         "departure": {
          "quality": [
           "Basic"
          ],
          "scheduledTimeLocal": "2022-04-06 08:20+02:00",
          "scheduledTimeUtc": "2022-04-06 06:20Z",
          "terminal": "1"
         },
         "isCargo": false,
         "number": "EW 2003",
         "status": "Departed"
        },
        {
         "aircraft": {
          "modeS": "440080",
          "model": "Airbus A320-100/200",
          "reg": "OE-IVI"
         },
         "airline": {
          "name": "EasyJet Europe"
         },
         "arrival": {
          "actualTimeLocal": "2022-04-06 08:40+02:00",
          "actualTimeUtc": "2022-04-06 06:40Z",
          "airport": {
           "iata": "GVA",
           "icao": "LSGG",
           "name": "Geneva"
          },
          "baggageBelt": "4",
          "quality": [
           "Basic",
           "Live"
          ],
          "runwayTimeLocal": "2022-04-06 08:33+02:00",
          "runwayTimeUtc": "2022-04-06 06:33Z",
          "scheduledTimeLocal": "2022-04-06 08:50+02:00",
          "scheduledTimeUtc": "2022-04-06 06:50Z"
         },
         "callSign": "EJU1590",
         "codeshareStatus": "IsOperator",
         "departure": {
          "actualTimeLocal": "2022-04-06 07:08+02:00",
          "actualTimeUtc": "2022-04-06 05:08Z",
          "quality": [
           "Basic",
           "Live"
          ],
          "runway": "25L",
          "runwayTimeLocal": "2022-04-06 07:14+02:00",
          "runwayTimeUtc": "2022-04-06 05:14Z",
          "scheduledTimeLocal": "2022-04-06 07:08+02:00",
          "scheduledTimeUtc": "2022-04-06 05:08Z"
         },
         "isCargo": false,
         "number": "EC 1590",
         "status": "Departed"
        },
        {
         "aircraft": {
          "modeS": "3C6597",
          "model": "Airbus A319",
          "reg": "D-AILW"
         },
         "airline": {
          "name": "Lufthansa"
         },
         "arrival": {
          "actualTimeLocal": "2022-04-06 09:15+02:00",
          "actualTimeUtc": "2022-04-06 07:15Z",
          "airport": {
           "iata": "MUC",
           "icao": "EDDM",
           "name": "Munich"
          },
          "quality": [
           "Basic",
           "Live"
          ],
          "runwayTimeLocal": "2022-04-06 09:14+02:00",
          "runwayTimeUtc": "2022-04-06 07:14Z",
          "scheduledTimeLocal": "2022-04-06 09:30+02:00",
          "scheduledTimeUtc": "2022-04-06 07:30Z",
          "terminal": "2"
         },
         "callSign": "DLH8XU",
         "codeshareStatus": "IsOperator",
         "departure": {
          "actualTimeLocal": "2022-04-06 08:23+02:00",
          "actualTimeUtc": "2022-04-06 06:23Z",
          "quality": [
           "Basic",
           "Live"
          ],
          "runway": "25L",
          "runwayTimeLocal": "2022-04-06 08:30+02:00",
          "runwayTimeUtc": "2022-04-06 06:30Z",
          "scheduledTimeLocal": "2022-04-06 08:20+02:00",
          "scheduledTimeUtc": "2022-04-06 06:20Z",
          "terminal": "1"
         },
         "isCargo": false,
         "number": "LH 1927",
         "status": "Departed"
        },
        {
         "aircraft": {
          "modeS": "3C5EE7",
          "model": "Airbus A319",
          "reg": "D-AGWG"
         },
         "airline": {
          "name": "Germanwings"
         },
         "arrival": {
          "airport": {
           "iata": "STR",
           "icao": "EDDS",
           "name": "Stuttgart"
          },
          "quality": []
         },
         "callSign": "GWI2003",
         "codeshareStatus": "IsOperator",
         "departure": {
          "actualTimeLocal": "2022-04-06 08:26+02:00",
          "actualTimeUtc": "2022-04-06 06:26Z",
          "quality": [
           "Basic",
           "Live"
          ],
          "runway": "25L",
          "runwayTimeLocal": "2022-04-06 08:36+02:00",
          "runwayTimeUtc": "2022-04-06 06:36Z",
          "scheduledTimeLocal": "2022-04-06 08:26+02:00",
          "scheduledTimeUtc": "2022-04-06 06:26Z"
         },
         "isCargo": false,
         "number": "4U 2003",
         "status": "Departed"
        },
        {
         "aircraft": {
          "model": "Airbus A319"
         },
         "airline": {
          "name": "easyJet"
         },
         "arrival": {
          "airport": {
           "iata": "BSL",
           "icao": "LFSB",
           "name": "Bâle/Mulhouse"
          },
          "quality": [
           "Basic"
          ],
          "scheduledTimeLocal": "2022-04-06 10:00+02:00",
          "scheduledTimeUtc": "2022-04-06 08:00Z"
         },
         "codeshareStatus": "Unknown",
         "departure": {
          "quality": [
           "Basic"
          ],
          "scheduledTimeLocal": "2022-04-06 08:30+02:00",
          "scheduledTimeUtc": "2022-04-06 06:30Z",
          "terminal": "1"
         },
         "isCargo": false,
         "number": "U2 5631",
         "status": "CanceledUncertain"
        },
        {
         "aircraft": {
          "model": "Airbus A320"
         },
         "airline": {
          "name": "easyJet"
         },
         "arrival": {
          "airport": {
           "iata": "BSL",
           "icao": "LFSB",
           "name": "Bâle/Mulhouse"
          },
          "quality": [
           "Basic"
          ],
          "scheduledTimeLocal": "2022-04-06 07:40+02:00",
          "scheduledTimeUtc": "2022-04-06 05:40Z"
         },
         "codeshareStatus": "Unknown",
         "departure": {
          "quality": [
           "Basic"
          ],
          "scheduledTimeLocal": "2022-04-06 06:10+02:00",
          "scheduledTimeUtc": "2022-04-06 04:10Z",
          "terminal": "1"
         },
         "isCargo": false,
         "number": "U2 5629",
         "status": "CanceledUncertain"
        },
        {
         "aircraft": {
          "model": "ATR 42-300"
         },
         "airline": {
          "name": "Danish Air"
         },
         "arrival": {
          "airport": {
           "iata": "SCN",
           "icao": "EDDR",
           "name": "Saarbrücken"
          },
          "quality": [
           "Basic"
          ],
          "scheduledTimeLocal": "2022-04-06 10:20+02:00",
          "scheduledTimeUtc": "2022-04-06 08:20Z"
         },
         "codeshareStatus": "IsOperator",
         "departure": {
          "quality": [
           "Basic"
          ],
          "scheduledTimeLocal": "2022-04-06 08:40+02:00",
          "scheduledTimeUtc": "2022-04-06 06:40Z",
          "terminal": "0"
         },
         "isCargo": false,
         "number": "DX 122",
         "status": "Unknown"
        },
        {
         "aircraft": {
          "modeS": "4D00D5",
          "model": "De Havilland Canada DHC-8-400 Dash 8Q",
          "reg": "LX-LQA"
         },
         "airline": {
          "name": "Luxair"
         },
         "arrival": {
          "actualTimeLocal": "2022-04-06 10:15+02:00",
          "actualTimeUtc": "2022-04-06 08:15Z",
          "airport": {
           "iata": "LUX",
           "icao": "ELLX",
           "name": "Luxembourg"
          },
          "quality": [
           "Basic",
           "Live"
          ],
          "scheduledTimeLocal": "2022-04-06 10:15+02:00",
          "scheduledTimeUtc": "2022-04-06 08:15Z"
         },
         "callSign": "LGL72B",
         "codeshareStatus": "IsOperator",
         "departure": {
          "actualTimeLocal": "2022-04-06 08:41+02:00",
          "actualTimeUtc": "2022-04-06 06:41Z",
          "quality": [
           "Basic",
           "Live"
          ],
          "runway": "25R",
          "runwayTimeLocal": "2022-04-06 08:55+02:00",
          "runwayTimeUtc": "2022-04-06 06:55Z",
          "scheduledTimeLocal": "2022-04-06 08:45+02:00",
          "scheduledTimeUtc": "2022-04-06 06:45Z",
          "terminal": "1"
         },
         "isCargo": false,
         "number": "LG 9472",
         "status": "Departed"
        },
        {
         "aircraft": {
          "modeS": "440BD0",
          "model": "Airbus A320-100/200",
          "reg": "OE-IZC"
         },
         "airline": {
          "name": "EasyJet Europe"
         },
         "arrival": {
          "actualTimeLocal": "2022-04-06 07:20+02:00",
          "actualTimeUtc": "2022-04-06 05:20Z",
          "airport": {
           "iata": "BSL",
           "icao": "LFSB",
           "name": "Bâle/Mulhouse"
          },
          "baggageBelt": "7",
          "quality": [
           "Basic",
           "Live"
          ],
          "runwayTimeLocal": "2022-04-06 07:18+02:00",
          "runwayTimeUtc": "2022-04-06 05:18Z",
          "scheduledTimeLocal": "2022-04-06 07:40+02:00",
          "scheduledTimeUtc": "2022-04-06 05:40Z"
         },
         "callSign": "EJU5629",
         "codeshareStatus": "IsOperator",
         "departure": {
          "actualTimeLocal": "2022-04-06 06:01+02:00",
          "actualTimeUtc": "2022-04-06 04:01Z",
          "quality": [
           "Basic",
           "Live"
          ],
          "runway": "25L",
          "runwayTimeLocal": "2022-04-06 06:11+02:00",
          "runwayTimeUtc": "2022-04-06 04:11Z",
          "scheduledTimeLocal": "2022-04-06 06:01+02:00",
          "scheduledTimeUtc": "2022-04-06 04:01Z"
         },
         "isCargo": false,
         "number": "EC 5629",
         "status": "Departed"
        },
        {
         "aircraft": {
          "modeS": "3C65CC",
          "model": "Airbus A321",
          "reg": "D-AINL"
         },
         "airline": {
          "name": "Lufthansa"
         },
         "arrival": {
          "actualTimeLocal": "2022-04-06 09:48+02:00",
          "actualTimeUtc": "2022-04-06 07:48Z",
          "airport": {
           "iata": "FRA",
           "icao": "EDDF",
           "name": "Frankfurt-am-Main"
          },
          "gate": "A2",
          "quality": [
           "Basic",
           "Live"
          ],
          "runway": "25C",
          "runwayTimeLocal": "2022-04-06 09:44+02:00",
          "runwayTimeUtc": "2022-04-06 07:44Z",
          "scheduledTimeLocal": "2022-04-06 09:55+02:00",
          "scheduledTimeUtc": "2022-04-06 07:55Z",
          "terminal": "1"
         },
         "callSign": "DLH5PN",
         "codeshareStatus": "IsOperator",
         "departure": {
          "actualTimeLocal": "2022-04-06 08:48+02:00",
          "actualTimeUtc": "2022-04-06 06:48Z",
          "quality": [
           "Basic",
           "Live"
          ],
          "runway": "25L",
          "runwayTimeLocal": "2022-04-06 08:48+02:00",
          "runwayTimeUtc": "2022-04-06 06:48Z",
          "scheduledTimeLocal": "2022-04-06 08:45+02:00",
          "scheduledTimeUtc": "2022-04-06 06:45Z",
          "terminal": "1"
         },
         "isCargo": false,
         "number": "LH 177",
         "status": "Departed"
        },
        {
         "aircraft": {
          "model": "Airbus A320"
         },
         "airline": {
          "name": "easyJet"
         },
         "arrival": {
          "airport": {
           "iata": "CDG",
           "icao": "LFPG",
           "name": "Paris"
          },
          "quality": [
           "Basic"
          ],
          "scheduledTimeLocal": "2022-04-06 10:25+02:00",
          "scheduledTimeUtc": "2022-04-06 08:25Z",
          "terminal": "2D"
         },
         "codeshareStatus": "Unknown",
         "departure": {
          "quality": [
           "Basic"
          ],
          "scheduledTimeLocal": "2022-04-06 08:30+02:00",
          "scheduledTimeUtc": "2022-04-06 06:30Z",
          "terminal": "1"
         },
         "isCargo": false,
         "number": "U2 5673",
         "status": "Unknown"
        },
        {
         "airline": {
          "name": "SundAir"
         },
         "arrival": {
          "airport": {
           "iata": "TFS",
           "icao": "GCTS",
           "name": "Tenerife Island"
          },
          "quality": []
         },
         "callSign": "SDR33WX",
         "codeshareStatus": "IsOperator",
         "departure": {
          "actualTimeLocal": "2022-04-06 08:52+02:00",
          "actualTimeUtc": "2022-04-06 06:52Z",
          "quality": [
           "Basic",
           "Live"
          ],
          "runway": "25L",
          "runwayTimeLocal": "2022-04-06 09:06+02:00",
          "runwayTimeUtc": "2022-04-06 07:06Z",
          "scheduledTimeLocal": "2022-04-06 08:52+02:00",
          "scheduledTimeUtc": "2022-04-06 06:52Z"
         },
         "isCargo": false,
         "number": "SR 33WX",
         "status": "Departed"
        },
        {
         "aircraft": {
          "modeS": "484F7C",
          "model": "Embraer EMB 190",
          "reg": "PH-EZT"
         },
         "airline": {
          "name": "KLM"
         },
         "arrival": {
          "actualTimeLocal": "2022-04-06 10:23+02:00",
          "actualTimeUtc": "2022-04-06 08:23Z",
          "airport": {
           "iata": "AMS",
           "icao": "EHAM",
           "name": "Amsterdam"
          },
          "baggageBelt": "10",
          "quality": [
           "Basic",
           "Live"
          ],
          "runway": "22",
          "runwayTimeLocal": "2022-04-06 10:23+02:00",
          "runwayTimeUtc": "2022-04-06 08:23Z",
          "scheduledTimeLocal": "2022-04-06 10:40+02:00",
          "scheduledTimeUtc": "2022-04-06 08:40Z",
          "terminal": "2"
         },
         "callSign": "KLM68Y",
         "codeshareStatus": "IsOperator",
         "departure": {
          "actualTimeLocal": "2022-04-06 09:02+02:00",
          "actualTimeUtc": "2022-04-06 07:02Z",
          "quality": [
           "Basic",
           "Live"
          ],
          "runway": "25L",
          "runwayTimeLocal": "2022-04-06 09:10+02:00",
          "runwayTimeUtc": "2022-04-06 07:10Z",
          "scheduledTimeLocal": "2022-04-06 09:05+02:00",
          "scheduledTimeUtc": "2022-04-06 07:05Z",
          "terminal": "1"
         },
         "isCargo": false,
         "number": "KL 1822",
         "status": "Departed"
        },
        {
         "aircraft": {
          "modeS": "44020A",
          "model": "Airbus A320-100/200",
          "reg": "OE-LXA"
         },
         "airline": {
          "name": "Austrian"
         },
         "arrival": {
          "actualTimeLocal": "2022-04-06 10:06+02:00",
          "actualTimeUtc": "2022-04-06 08:06Z",
          "airport": {
           "iata": "VIE",
           "icao": "LOWW",
           "name": "Vienna"
          },
          "baggageBelt": "03",
          "quality": [
           "Basic",
           "Live"
          ],
          "runway": "16",
          "runwayTimeLocal": "2022-04-06 09:59+02:00",
          "runwayTimeUtc": "2022-04-06 07:59Z",
          "scheduledTimeLocal": "2022-04-06 10:15+02:00",
          "scheduledTimeUtc": "2022-04-06 08:15Z",
          "terminal": "3"
         },
         "callSign": "AUA22M",
         "codeshareStatus": "IsOperator",
         "departure": {
          "actualTimeLocal": "2022-04-06 09:04+02:00",
          "actualTimeUtc": "2022-04-06 07:04Z",
          "quality": [
           "Basic",
           "Live"
          ],
          "runway": "25L",
          "runwayTimeLocal": "2022-04-06 09:14+02:00",
          "runwayTimeUtc": "2022-04-06 07:14Z",
          "scheduledTimeLocal": "2022-04-06 09:00+02:00",
          "scheduledTimeUtc": "2022-04-06 07:00Z",
          "terminal": "1"
         },
         "isCargo": false,
         "number": "OS 224",
         "status": "Departed"
        },
        {
         "aircraft": {
          "modeS": "4D2259",
          "model": "Boeing 737-800 (winglets)",
          "reg": "9H-QBB"
         },
         "airline": {
          "name": "Ryanair"
         },
         "arrival": {
          "actualTimeLocal": "2022-04-06 10:42+01:59",
          "actualTimeUtc": "2022-04-06 08:42Z",
          "airport": {
           "iata": "BGY",
           "icao": "LIME",
           "name": "Bergamo"
          },
          "quality": [
           "Basic",
           "Live"
          ],
          "runwayTimeLocal": "2022-04-06 10:35+02:00",
          "runwayTimeUtc": "2022-04-06 08:35Z",
          "scheduledTimeLocal": "2022-04-06 10:45+02:00",
          "scheduledTimeUtc": "2022-04-06 08:45Z"
         },
         "callSign": "RYR8FW",
         "codeshareStatus": "IsOperator",
         "departure": {
          "actualTimeLocal": "2022-04-06 09:04+02:00",
          "actualTimeUtc": "2022-04-06 07:04Z",
          "quality": [
           "Basic",
           "Live"
          ],
          "runway": "25R",
          "runwayTimeLocal": "2022-04-06 09:12+02:00",
          "runwayTimeUtc": "2022-04-06 07:12Z",
          "scheduledTimeLocal": "2022-04-06 09:05+02:00",
          "scheduledTimeUtc": "2022-04-06 07:05Z"
         },
         "isCargo": false,
         "number": "FR 4732",
         "status": "Departed"
        },
        {
         "aircraft": {
          "modeS": "461F62",
          "model": "Airbus A320-100/200",
          "reg": "OH-LXA"
         },
         "airline": {
          "name": "Finnair"
         },
         "arrival": {
          "actualTimeLocal": "2022-04-06 12:09+03:00",
          "actualTimeUtc": "2022-04-06 09:09Z",
          "airport": {
           "iata": "HEL",
           "icao": "EFHK",
           "name": "Helsinki"
          },
          "baggageBelt": "22",
          "quality": [
           "Basic",
           "Live"
          ],
          "runwayTimeLocal": "2022-04-06 12:06+03:00",
          "runwayTimeUtc": "2022-04-06 09:06Z",
          "scheduledTimeLocal": "2022-04-06 12:05+03:00",
          "scheduledTimeUtc": "2022-04-06 09:05Z",
          "terminal": "2"
         },
         "callSign": "FIN29Y",
         "codeshareStatus": "IsOperator",
         "departure": {
          "actualTimeLocal": "2022-04-06 09:26+02:00",
          "actualTimeUtc": "2022-04-06 07:26Z",
          "quality": [
           "Basic",
           "Live"
          ],
          "runway": "25L",
          "runwayTimeLocal": "2022-04-06 09:36+02:00",
          "runwayTimeUtc": "2022-04-06 07:36Z",
          "scheduledTimeLocal": "2022-04-06 09:15+02:00",
          "scheduledTimeUtc": "2022-04-06 07:15Z",
          "terminal": "1"
         },
         "isCargo": false,
         "number": "AY 1432",
         "status": "Departed"
        },
        {
         "aircraft": {
          "model": "Airbus A320"
         },
         "airline": {
          "name": "easyJet"
         },
         "arrival": {
          "airport": {
           "iata": "RHO",
           "icao": "LGRP",
           "name": "Rodes Island"
          },
          "quality": [
           "Basic"
          ],
          "scheduledTimeLocal": "2022-04-06 13:40+03:00",
          "scheduledTimeUtc": "2022-04-06 10:40Z"
         },
         "codeshareStatus": "IsOperator",
         "departure": {
          "quality": [
           "Basic"
          ],
          "scheduledTimeLocal": "2022-04-06 09:30+02:00",
          "scheduledTimeUtc": "2022-04-06 07:30Z",
          "terminal": "1"
         },
         "isCargo": false,
         "number": "U2 5689",
         "status": "Unknown"
        },
        {
         "aircraft": {
          "modeS": "4B1699",
          "model": "Airbus A321-100/200",
          "reg": "HB-ION"
         },
         "airline": {
          "name": "SWISS"
         },
         "arrival": {
          "actualTimeLocal": "2022-04-06 10:54+02:00",
          "actualTimeUtc": "2022-04-06 08:54Z",
          "airport": {
           "iata": "ZRH",
           "icao": "LSZH",
           "name": "Zurich"
          },
          "baggageBelt": "11",
          "quality": [
           "Basic",
           "Live"
          ],
          "runwayTimeLocal": "2022-04-06 10:46+02:00",
          "runwayTimeUtc": "2022-04-06 08:46Z",
          "scheduledTimeLocal": "2022-04-06 11:00+02:00",
          "scheduledTimeUtc": "2022-04-06 09:00Z",
          "terminal": "1"
         },
         "callSign": "SWR97G",
         "codeshareStatus": "IsOperator",
         "departure": {
          "actualTimeLocal": "2022-04-06 09:34+02:00",
          "actualTimeUtc": "2022-04-06 07:34Z",
          "quality": [
           "Basic",
           "Live"
          ],
          "runway": "25L",
          "runwayTimeLocal": "2022-04-06 09:41+02:00",
          "runwayTimeUtc": "2022-04-06 07:41Z",
          "scheduledTimeLocal": "2022-04-06 09:30+02:00",
          "scheduledTimeUtc": "2022-04-06 07:30Z",
          "terminal": "1"
         },
         "isCargo": false,
         "number": "LX 975",
         "status": "Departed"
        },
        {
         "aircraft": {
          "modeS": "3E5241",
          "model": "Cessna 525A",
          "reg": "D-IWIR"
         },
         "airline": {
          "name": "Excellent Air"
         },
         "arrival": {
          "actualTimeLocal": "2022-04-06 10:51+02:00",
          "actualTimeUtc": "2022-04-06 08:51Z",
          "airport": {
           "iata": "ZRH",
           "icao": "LSZH",
           "name": "Zurich"
          },
          "quality": [
           "Basic",
           "Live"
          ],
          "runwayTimeLocal": "2022-04-06 10:51+02:00",
          "runwayTimeUtc": "2022-04-06 08:51Z",
          "scheduledTimeLocal": "2022-04-06 10:51+02:00",
          "scheduledTimeUtc": "2022-04-06 08:51Z"
         },
         "callSign": "ECA2WR",
         "codeshareStatus": "IsOperator",
         "departure": {
          "actualTimeLocal": "2022-04-06 09:38+02:00",
          "actualTimeUtc": "2022-04-06 07:38Z",
          "quality": [
           "Basic",
           "Live"
          ],
          "runway": "25R",
          "runwayTimeLocal": "2022-04-06 09:38+02:00",
          "runwayTimeUtc": "2022-04-06 07:38Z",
          "scheduledTimeLocal": "2022-04-06 09:38+02:00",
          "scheduledTimeUtc": "2022-04-06 07:38Z"
         },
         "isCargo": false,
         "number": "ECA 2WR",
         "status": "Departed"
        },
        {
         "aircraft": {
          "modeS": "440148",
          "model": "Airbus A320-100/200",
          "reg": "OE-ICZ"
         },
         "airline": {
          "name": "EasyJet Europe"
         },
         "arrival": {
          "airport": {
           "name": "Unknown"
          },
          "quality": []
         },
         "callSign": "EJU4765",
         "codeshareStatus": "IsOperator",
         "departure": {
          "actualTimeLocal": "2022-04-06 09:43+02:00",
          "actualTimeUtc": "2022-04-06 07:43Z",
          "quality": [
           "Basic",
           "Live"
          ],
          "runway": "25L",
          "runwayTimeLocal": "2022-04-06 09:51+02:00",
          "runwayTimeUtc": "2022-04-06 07:51Z",
          "scheduledTimeLocal": "2022-04-06 09:43+02:00",
          "scheduledTimeUtc": "2022-04-06 07:43Z"
         },
         "isCargo": false,
         "number": "EC 4765",
         "status": "Departed"
        },
        {
         "aircraft": {
          "model": "Airbus A320"
         },
         "airline": {
          "name": "easyJet"
         },
         "arrival": {
          "airport": {
           "iata": "LTN",
           "icao": "EGGW",
           "name": "London"
          },
          "quality": [
           "Basic"
          ],
          "scheduledTimeLocal": "2022-04-06 10:40+01:00",
          "scheduledTimeUtc": "2022-04-06 09:40Z"
         },
         "codeshareStatus": "Unknown",
         "departure": {
          "quality": [
           "Basic"
          ],
          "scheduledTimeLocal": "2022-04-06 09:45+02:00",
          "scheduledTimeUtc": "2022-04-06 07:45Z",
          "terminal": "1"
         },
         "isCargo": false,
         "number": "U2 2102",
         "status": "CanceledUncertain"
        },
        {
         "aircraft": {
          "model": "Boeing 737-800"
         },
         "airline": {
          "name": "Norwegian Air Shuttle"
         },
         "arrival": {
          "actualTimeLocal": "2022-04-06 11:27+02:00",
          "actualTimeUtc": "2022-04-06 09:27Z",
          "airport": {
           "iata": "OSL",
           "icao": "ENGM",
           "name": "Oslo"
          },
          "baggageBelt": "3",
          "quality": [
           "Basic",
           "Live"
          ],
          "scheduledTimeLocal": "2022-04-06 11:25+02:00",
          "scheduledTimeUtc": "2022-04-06 09:25Z"
         },
         "codeshareStatus": "IsOperator",
         "departure": {
          "quality": [
           "Basic"
          ],
          "scheduledTimeLocal": "2022-04-06 09:45+02:00",
          "scheduledTimeUtc": "2022-04-06 07:45Z",
          "terminal": "1"
         },
         "isCargo": false,
         "number": "DY 1103",
         "status": "Departed"
        },
        {
         "aircraft": {
          "model": "Airbus A319"
         },
         "airline": {
          "name": "easyJet"
         },
         "arrival": {
          "airport": {
           "iata": "DBV",
           "icao": "LDDU",
           "name": "Dubrovnik"
          },
          "quality": [
           "Basic"
          ],
          "scheduledTimeLocal": "2022-04-06 11:55+02:00",
          "scheduledTimeUtc": "2022-04-06 09:55Z"
         },
         "codeshareStatus": "Unknown",
         "departure": {
          "quality": [
           "Basic"
          ],
          "scheduledTimeLocal": "2022-04-06 09:50+02:00",
          "scheduledTimeUtc": "2022-04-06 07:50Z",
          "terminal": "1"
         },
         "isCargo": false,
         "number": "U2 4765",
         "status": "Unknown"
        },
        {
         "aircraft": {
          "modeS": "471EE2",
          "model": "Airbus A320-100/200",
          "reg": "HA-LSC"
         },
         "airline": {
          "name": "Wizz Air"
         },
         "arrival": {
          "airport": {
           "iata": "IAS",
           "icao": "LRIA",
           "name": "Iaşi"
          },
          "quality": [
           "Basic"
          ],
          "scheduledTimeLocal": "2022-04-06 12:45+03:00",
          "scheduledTimeUtc": "2022-04-06 09:45Z"
         },
         "callSign": "WZZ8720",
         "codeshareStatus": "IsOperator",
         "departure": {
          "actualTimeLocal": "2022-04-06 09:52+02:00",
          "actualTimeUtc": "2022-04-06 07:52Z",
          "quality": [
           "Basic",
           "Live"
          ],
          "runway": "25R",
          "runwayTimeLocal": "2022-04-06 09:59+02:00",
          "runwayTimeUtc": "2022-04-06 07:59Z",
          "scheduledTimeLocal": "2022-04-06 09:35+02:00",
          "scheduledTimeUtc": "2022-04-06 07:35Z",
          "terminal": "0"
         },
         "isCargo": false,
         "number": "W6 8720",
         "status": "Departed"
        },
        {
         "aircraft": {
          "modeS": "3C6581",
          "model": "Airbus A319",
          "reg": "D-AILA"
         },
         "airline": {
          "name": "Lufthansa"
         },
         "arrival": {
          "actualTimeLocal": "2022-04-06 10:51+02:00",
          "actualTimeUtc": "2022-04-06 08:51Z",
          "airport": {
           "iata": "MUC",
           "icao": "EDDM",
           "name": "Munich"
          },
          "quality": [
           "Basic",
           "Live"
          ],
          "scheduledTimeLocal": "2022-04-06 11:00+02:00",
          "scheduledTimeUtc": "2022-04-06 09:00Z",
          "terminal": "2"
         },
         "callSign": "DLH9CK",
         "codeshareStatus": "IsOperator",
         "departure": {
          "actualTimeLocal": "2022-04-06 09:53+02:00",
          "actualTimeUtc": "2022-04-06 07:53Z",
          "quality": [
           "Basic",
           "Live"
          ],
          "runway": "25L",
          "runwayTimeLocal": "2022-04-06 10:03+02:00",
          "runwayTimeUtc": "2022-04-06 08:03Z",
          "scheduledTimeLocal": "2022-04-06 09:50+02:00",
          "scheduledTimeUtc": "2022-04-06 07:50Z",
          "terminal": "1"
         },
         "isCargo": false,
         "number": "LH 1931",
         "status": "Departed"
        },
        {
         "aircraft": {
          "modeS": "4ACA50",
          "model": "Boeing 737",
          "reg": "SE-RRP"
         },
         "airline": {
          "name": "NOZ"
         },
         "arrival": {
          "actualTimeLocal": "2022-04-06 11:27+02:00",
          "actualTimeUtc": "2022-04-06 09:27Z",
          "airport": {
           "iata": "OSL",
           "icao": "ENGM",
           "name": "Oslo"
          },
          "quality": [
           "Basic",
           "Live"
          ],
          "runway": "01R",
          "runwayTimeLocal": "2022-04-06 11:26+02:00",
          "runwayTimeUtc": "2022-04-06 09:26Z",
          "scheduledTimeLocal": "2022-04-06 11:27+02:00",
          "scheduledTimeUtc": "2022-04-06 09:27Z"
         },
         "callSign": "NOZ3QJ",
         "codeshareStatus": "IsOperator",
         "departure": {
          "actualTimeLocal": "2022-04-06 09:54+02:00",
          "actualTimeUtc": "2022-04-06 07:54Z",
          "quality": [
           "Basic",
           "Live"
          ],
          "runway": "25R",
          "runwayTimeLocal": "2022-04-06 10:07+02:00",
          "runwayTimeUtc": "2022-04-06 08:07Z",
          "scheduledTimeLocal": "2022-04-06 09:54+02:00",
          "scheduledTimeUtc": "2022-04-06 07:54Z"
         },
         "isCargo": false,
         "number": "NOZ 3QJ",
         "status": "Departed"
        },
        {
         "aircraft": {
          "modeS": "3C49C9",
          "model": "Airbus A320",
          "reg": "D-ABNI"
         },
         "airline": {
          "name": "Eurowings"
         },
         "arrival": {
          "actualTimeLocal": "2022-04-06 11:14+02:00",
          "actualTimeUtc": "2022-04-06 09:14Z",
          "airport": {
           "iata": "DUS",
           "icao": "EDDL",
           "name": "Duesseldorf"
          },
          "baggageBelt": "06",
          "gate": "A65",
          "quality": [
           "Basic",
           "Live"
          ],
          "runwayTimeLocal": "2022-04-06 11:11+02:00",
          "runwayTimeUtc": "2022-04-06 09:11Z",
          "scheduledTimeLocal": "2022-04-06 11:10+02:00",
          "scheduledTimeUtc": "2022-04-06 09:10Z",
          "terminal": "A(1)"
         },
         "callSign": "GWI8040",
         "codeshareStatus": "IsOperator",
         "departure": {
          "quality": [
           "Basic"
          ],
          "scheduledTimeLocal": "2022-04-06 09:55+02:00",
          "scheduledTimeUtc": "2022-04-06 07:55Z",
          "terminal": "1"
         },
         "isCargo": false,
         "number": "EW 8040",
         "status": "Departed"
        },
        {
         "aircraft": {
          "model": "Airbus A319"
         },
         "airline": {
          "name": "easyJet"
         },
         "arrival": {
          "airport": {
           "iata": "NAP",
           "icao": "LIRN",
           "name": "Nápoli"
          },
          "quality": [
           "Basic"
          ],
          "scheduledTimeLocal": "2022-04-06 12:20+02:00",
          "scheduledTimeUtc": "2022-04-06 10:20Z"
         },
         "codeshareStatus": "Unknown",
         "departure": {
          "quality": [
           "Basic"
          ],
          "scheduledTimeLocal": "2022-04-06 10:00+02:00",
          "scheduledTimeUtc": "2022-04-06 08:00Z",
          "terminal": "1"
         },
         "isCargo": false,
         "number": "U2 4896",
         "status": "Unknown"
        },
        {
         "aircraft": {
          "modeS": "76BCCA",
          "model": "Boeing 787-8 Dreamliner",
          "reg": "9V-OFJ"
         },
         "airline": {
          "name": "Scoot"
         },
         "arrival": {
          "actualTimeLocal": "2022-04-07 05:13+08:00",
          "actualTimeUtc": "2022-04-06 21:13Z",
          "airport": {
           "iata": "SIN",
           "icao": "WSSS",
           "name": "Singapore"
          },
          "baggageBelt": "18",
          "quality": [
           "Basic",
           "Live"
          ],
          "runway": "02L",
          "runwayTimeLocal": "2022-04-07 05:12+08:00",
          "runwayTimeUtc": "2022-04-06 21:12Z",
          "scheduledTimeLocal": "2022-04-07 04:40+08:00",
          "scheduledTimeUtc": "2022-04-06 20:40Z",
          "terminal": "1"
         },
         "callSign": "TGW735",
         "codeshareStatus": "IsOperator",
         "departure": {
          "actualTimeLocal": "2022-04-06 10:02+02:00",
          "actualTimeUtc": "2022-04-06 08:02Z",
          "quality": [
           "Basic",
           "Live"
          ],
          "runway": "25L",
          "runwayTimeLocal": "2022-04-06 10:20+02:00",
          "runwayTimeUtc": "2022-04-06 08:20Z",
          "scheduledTimeLocal": "2022-04-06 09:30+02:00",
          "scheduledTimeUtc": "2022-04-06 07:30Z",
          "terminal": "1"
         },
         "isCargo": false,
         "number": "TR 735",
         "status": "Departed"
        },
        {
         "aircraft": {
          "modeS": "3C6654",
          "model": "Airbus A321-100/200",
          "reg": "D-AIRT"
         },
         "airline": {
          "name": "Lufthansa"
         },
         "arrival": {
          "actualTimeLocal": "2022-04-06 11:07+02:00",
          "actualTimeUtc": "2022-04-06 09:07Z",
          "airport": {
           "iata": "FRA",
           "icao": "EDDF",
           "name": "Frankfurt-am-Main"
          },
          "gate": "A2",
          "quality": [
           "Basic",
           "Live"
          ],
          "runway": "25R",
          "runwayTimeLocal": "2022-04-06 10:58+02:00",
          "runwayTimeUtc": "2022-04-06 08:58Z",
          "scheduledTimeLocal": "2022-04-06 10:55+02:00",
          "scheduledTimeUtc": "2022-04-06 08:55Z",
          "terminal": "1"
         },
         "callSign": "DLH8MH",
         "codeshareStatus": "IsOperator",
         "departure": {
          "actualTimeLocal": "2022-04-06 10:03+02:00",
          "actualTimeUtc": "2022-04-06 08:03Z",
          "quality": [
           "Basic",
           "Live"
          ],
          "runway": "25L",
          "runwayTimeLocal": "2022-04-06 10:13+02:00",
          "runwayTimeUtc": "2022-04-06 08:13Z",
          "scheduledTimeLocal": "2022-04-06 09:45+02:00",
          "scheduledTimeUtc": "2022-04-06 07:45Z",
          "terminal": "1"
         },
         "isCargo": false,
         "number": "LH 181",
         "status": "Departed"
        },
        {
         "aircraft": {
          "modeS": "440040",
          "model": "Airbus A320-100/200",
          "reg": "OE-ICU"
         },
         "airline": {
          "name": "EasyJet Europe"
         },
         "arrival": {
          "airport": {
           "iata": "RHO",
           "icao": "LGRP",
           "name": "Rodes Island"
          },
          "quality": []
         },
         "callSign": "EJU42TF",
         "codeshareStatus": "IsOperator",
         "departure": {
          "actualTimeLocal": "2022-04-06 10:04+02:00",
          "actualTimeUtc": "2022-04-06 08:04Z",
          "quality": [
           "Basic",
           "Live"
          ],
          "runway": "25L",
          "runwayTimeLocal": "2022-04-06 10:17+02:00",
          "runwayTimeUtc": "2022-04-06 08:17Z",
          "scheduledTimeLocal": "2022-04-06 10:04+02:00",
          "scheduledTimeUtc": "2022-04-06 08:04Z"
         },
         "isCargo": false,
         "number": "EC 42TF",
         "status": "Departed"
        },
        {
         "aircraft": {
          "modeS": "3C49C9",
          "model": "Airbus A320-100/200",
          "reg": "D-ABNI"
         },
         "airline": {
          "name": "Germanwings"
         },
         "arrival": {
          "airport": {
           "iata": "DUS",
           "icao": "EDDL",
           "name": "Duesseldorf"
          },
          "quality": []
         },
         "callSign": "GWI8040",
         "codeshareStatus": "IsOperator",
         "departure": {
          "actualTimeLocal": "2022-04-06 10:04+02:00",
          "actualTimeUtc": "2022-04-06 08:04Z",
          "quality": [
           "Basic",
           "Live"
          ],
          "runway": "25L",
          "runwayTimeLocal": "2022-04-06 10:18+02:00",
          "runwayTimeUtc": "2022-04-06 08:18Z",
          "scheduledTimeLocal": "2022-04-06 10:04+02:00",
          "scheduledTimeUtc": "2022-04-06 08:04Z"
         },
         "isCargo": false,
         "number": "4U 8040",
         "status": "Departed"
        },
        {
         "aircraft": {
          "model": "Airbus A319"
         },
         "airline": {
          "name": "easyJet"
         },
         "arrival": {
          "actualTimeLocal": "2022-04-06 11:20+01:00",
          "actualTimeUtc": "2022-04-06 10:20Z",
          "airport": {
           "iata": "LGW",
           "icao": "EGKK",
           "name": "London"
          },
          "quality": [
           "Basic",
           "Live"
          ],
          "scheduledTimeLocal": "2022-04-06 11:20+01:00",
          "scheduledTimeUtc": "2022-04-06 10:20Z",
          "terminal": "N"
         },
         "codeshareStatus": "IsOperator",
         "departure": {
          "quality": [
           "Basic"
          ],
          "scheduledTimeLocal": "2022-04-06 10:15+02:00",
          "scheduledTimeUtc": "2022-04-06 08:15Z",
          "terminal": "1"
         },
         "isCargo": false,
         "number": "U2 8122",
         "status": "Canceled"
        },
        {
         "aircraft": {
          "modeS": "4CA9CC",
          "model": "Boeing 737-800",
          "reg": "EI-EVE"
         },
         "airline": {
          "name": "Ryanair"
         },
         "arrival": {
          "actualTimeLocal": "2022-04-06 11:19+01:00",
          "actualTimeUtc": "2022-04-06 10:19Z",
          "airport": {
           "iata": "EDI",
           "icao": "EGPH",
           "name": "Edinburgh"
          },
          "quality": [
           "Basic",
           "Live"
          ],
          "runway": "24",
          "runwayTimeLocal": "2022-04-06 11:20+01:00",
          "runwayTimeUtc": "2022-04-06 10:20Z",
          "scheduledTimeLocal": "2022-04-06 11:10+01:00",
          "scheduledTimeUtc": "2022-04-06 10:10Z"
         },
         "callSign": "RYR87ZA",
         "codeshareStatus": "IsOperator",
         "departure": {
          "actualTimeLocal": "2022-04-06 10:16+02:00",
          "actualTimeUtc": "2022-04-06 08:16Z",
          "quality": [
           "Basic",
           "Live"
          ],
          "runway": "25R",
          "runwayTimeLocal": "2022-04-06 10:21+02:00",
          "runwayTimeUtc": "2022-04-06 08:21Z",
          "scheduledTimeLocal": "2022-04-06 09:55+02:00",
          "scheduledTimeUtc": "2022-04-06 07:55Z"
         },
         "isCargo": false,
         "number": "FR 2377",
         "status": "Departed"
        },
        {
         "aircraft": {
          "modeS": "4D226F",
          "model": "Boeing 737-800",
          "reg": "9H-QBG"
         },
         "airline": {
          "name": "Ryanair"
         },
         "arrival": {
          "airport": {
           "iata": "RIX",
           "icao": "EVRA",
           "name": "Riga"
          },
          "quality": [
           "Basic"
          ],
          "scheduledTimeLocal": "2022-04-06 12:50+03:00",
          "scheduledTimeUtc": "2022-04-06 09:50Z",
          "terminal": "E"
         },
         "callSign": "RYR2599",
         "codeshareStatus": "IsOperator",
         "departure": {
          "actualTimeLocal": "2022-04-06 10:18+02:00",
          "actualTimeUtc": "2022-04-06 08:18Z",
          "quality": [
           "Basic",
           "Live"
          ],
          "runway": "25R",
          "runwayTimeLocal": "2022-04-06 10:29+02:00",
          "runwayTimeUtc": "2022-04-06 08:29Z",
          "scheduledTimeLocal": "2022-04-06 10:10+02:00",
          "scheduledTimeUtc": "2022-04-06 08:10Z"
         },
         "isCargo": false,
         "number": "FR 2599",
         "status": "Departed"
        },
        {
         "aircraft": {
          "model": "Airbus A320"
         },
         "airline": {
          "name": "easyJet"
         },
         "arrival": {
          "airport": {
           "iata": "SKG",
           "icao": "LGTS",
           "name": "Thessaloniki"
          },
          "quality": [
           "Basic"
          ],
          "scheduledTimeLocal": "2022-04-06 13:50+03:00",
          "scheduledTimeUtc": "2022-04-06 10:50Z"
         },
         "codeshareStatus": "Unknown",
         "departure": {
          "quality": [
           "Basic"
          ],
          "scheduledTimeLocal": "2022-04-06 10:20+02:00",
          "scheduledTimeUtc": "2022-04-06 08:20Z",
          "terminal": "1"
         },
         "isCargo": false,
         "number": "U2 4605",
         "status": "Unknown"
        },
        {
         "aircraft": {
          "modeS": "39E4AC",
          "model": "Airbus A320-100/200",
          "reg": "F-HZFM"
         },
         "airline": {
          "name": "Air France"
         },
         "arrival": {
          "actualTimeLocal": "2022-04-06 11:55+02:00",
          "actualTimeUtc": "2022-04-06 09:55Z",
          "airport": {
           "iata": "CDG",
           "icao": "LFPG",
           "name": "Paris"
          },
          "quality": [
           "Basic",
           "Live"
          ],
          "runway": "27L",
          "runwayTimeLocal": "2022-04-06 11:55+02:00",
          "runwayTimeUtc": "2022-04-06 09:55Z",
          "scheduledTimeLocal": "2022-04-06 11:45+02:00",
          "scheduledTimeUtc": "2022-04-06 09:45Z",
          "terminal": "2F"
         },
         "callSign": "AFR92TM",
         "codeshareStatus": "IsOperator",
         "departure": {
          "actualTimeLocal": "2022-04-06 10:27+02:00",
          "actualTimeUtc": "2022-04-06 08:27Z",
          "quality": [
           "Basic",
           "Live"
          ],
          "runway": "25L",
          "runwayTimeLocal": "2022-04-06 10:32+02:00",
          "runwayTimeUtc": "2022-04-06 08:32Z",
          "scheduledTimeLocal": "2022-04-06 09:55+02:00",
          "scheduledTimeUtc": "2022-04-06 07:55Z",
          "terminal": "1"
         },
         "isCargo": false,
         "number": "AF 1435",
         "status": "Departed"
        },
        {
         "aircraft": {
          "model": "Airbus A320"
         },
         "airline": {
          "name": "easyJet"
         },
         "arrival": {
          "airport": {
           "iata": "CTA",
           "icao": "LICC",
           "name": "Catania"
          },
          "quality": [
           "Basic"
          ],
          "scheduledTimeLocal": "2022-04-06 13:20+02:00",
          "scheduledTimeUtc": "2022-04-06 11:20Z"
         },
         "codeshareStatus": "Unknown",
         "departure": {
          "quality": [
           "Basic"
          ],
          "scheduledTimeLocal": "2022-04-06 10:30+02:00",
          "scheduledTimeUtc": "2022-04-06 08:30Z",
          "terminal": "1"
         },
         "isCargo": false,
         "number": "U2 5693",
         "status": "Unknown"
        },
        {
         "aircraft": {
          "modeS": "440BD0",
          "model": "Airbus A320-100/200",
          "reg": "OE-IZC"
         },
         "airline": {
          "name": "EasyJet Europe"
         },
         "arrival": {
          "airport": {
           "iata": "CTA",
           "icao": "LICC",
           "name": "Catania"
          },
          "quality": []
         },
         "callSign": "EJU64BM",
         "codeshareStatus": "IsOperator",
         "departure": {
          "actualTimeLocal": "2022-04-06 10:38+02:00",
          "actualTimeUtc": "2022-04-06 08:38Z",
          "quality": [
           "Basic",
           "Live"
          ],
          "runway": "25L",
          "runwayTimeLocal": "2022-04-06 10:47+02:00",
          "runwayTimeUtc": "2022-04-06 08:47Z",
          "scheduledTimeLocal": "2022-04-06 10:38+02:00",
          "scheduledTimeUtc": "2022-04-06 08:38Z"
         },
         "isCargo": false,
         "number": "EC 64BM",
         "status": "Departed"
        },
        {
         "aircraft": {
          "modeS": "3C0ACB",
          "model": "Airbus A321-100/200",
          "reg": "D-ATCG"
         },
         "airline": {
          "name": "Condor"
         },
         "arrival": {
          "actualTimeLocal": "2022-04-06 14:47+01:00",
          "actualTimeUtc": "2022-04-06 13:47Z",
          "airport": {
           "iata": "LPA",
           "icao": "GCLP",
           "name": "Gran Canaria Island"
          },
          "quality": [
           "Basic",
           "Live"
          ],
          "scheduledTimeLocal": "2022-04-06 14:45+01:00",
          "scheduledTimeUtc": "2022-04-06 13:45Z",
          "terminal": "1"
         },
         "callSign": "CFG6LC",
         "codeshareStatus": "IsOperator",
         "departure": {
          "actualTimeLocal": "2022-04-06 10:44+02:00",
          "actualTimeUtc": "2022-04-06 08:44Z",
          "quality": [
           "Basic",
           "Live"
          ],
          "runway": "25L",
          "runwayTimeLocal": "2022-04-06 10:52+02:00",
          "runwayTimeUtc": "2022-04-06 08:52Z",
          "scheduledTimeLocal": "2022-04-06 10:25+02:00",
          "scheduledTimeUtc": "2022-04-06 08:25Z",
          "terminal": "1"
         },
         "isCargo": false,
         "number": "DE 1288",
         "status": "Departed"
        },
        {
         "aircraft": {
          "modeS": "4CA280",
          "model": "Airbus A320-100/200",
          "reg": "EI-DEJ"
         },
         "airline": {
          "name": "Aer Lingus"
         },
         "arrival": {
          "actualTimeLocal": "2022-04-06 12:10+01:00",
          "actualTimeUtc": "2022-04-06 11:10Z",
          "airport": {
           "iata": "DUB",
           "icao": "EIDW",
           "name": "Dublin"
          },
          "baggageBelt": "6",
          "gate": "305",
          "quality": [
           "Basic",
           "Live"
          ],
          "runway": "28",
          "runwayTimeLocal": "2022-04-06 12:02+01:00",
          "runwayTimeUtc": "2022-04-06 11:02Z",
          "scheduledTimeLocal": "2022-04-06 12:10+01:00",
          "scheduledTimeUtc": "2022-04-06 11:10Z",
          "terminal": "2"
         },
         "callSign": "EIN3ER",
         "codeshareStatus": "IsOperator",
         "departure": {
          "actualTimeLocal": "2022-04-06 10:52+02:00",
          "actualTimeUtc": "2022-04-06 08:52Z",
          "quality": [
           "Basic",
           "Live"
          ],
          "runway": "25L",
          "runwayTimeLocal": "2022-04-06 11:03+02:00",
          "runwayTimeUtc": "2022-04-06 09:03Z",
          "scheduledTimeLocal": "2022-04-06 10:40+02:00",
          "scheduledTimeUtc": "2022-04-06 08:40Z",
          "terminal": "1"
         },
         "isCargo": false,
         "number": "EI 333",
         "status": "Departed"
        },
        {
         "aircraft": {
          "modeS": "3C56F3",
          "model": "Airbus A320-100/200",
          "reg": "D-AEWS"
         },
         "airline": {
          "name": "Eurowings"
         },
         "arrival": {
          "actualTimeLocal": "2022-04-06 15:13+01:00",
          "actualTimeUtc": "2022-04-06 14:13Z",
          "airport": {
           "iata": "TFS",
           "icao": "GCTS",
           "name": "Tenerife Island"
          },
          "quality": [
           "Basic",
           "Live"
          ],
          "scheduledTimeLocal": "2022-04-06 15:05+01:00",
          "scheduledTimeUtc": "2022-04-06 14:05Z",
          "terminal": "1"
         },
         "callSign": "EWG8290",
         "codeshareStatus": "IsOperator",
         "departure": {
          "actualTimeLocal": "2022-04-06 10:59+02:00",
          "actualTimeUtc": "2022-04-06 08:59Z",
          "quality": [
           "Basic",
           "Live"
          ],
          "runway": "25L",
          "runwayTimeLocal": "2022-04-06 11:08+02:00",
          "runwayTimeUtc": "2022-04-06 09:08Z",
          "scheduledTimeLocal": "2022-04-06 10:40+02:00",
          "scheduledTimeUtc": "2022-04-06 08:40Z",
          "terminal": "1"
         },
         "isCargo": false,
         "number": "EW 8290",
         "status": "Departed"
        },
        {
         "aircraft": {
          "modeS": "3C648F",
          "model": "Airbus A321-100/200",
          "reg": "D-AIDO"
         },
         "airline": {
          "name": "Lufthansa"
         },
         "arrival": {
          "actualTimeLocal": "2022-04-06 11:54+02:00",
          "actualTimeUtc": "2022-04-06 09:54Z",
          "airport": {
           "iata": "MUC",
           "icao": "EDDM",
           "name": "Munich"
          },
          "quality": [
           "Basic",
           "Live"
          ],
          "runwayTimeLocal": "2022-04-06 11:54+02:00",
          "runwayTimeUtc": "2022-04-06 09:54Z",
          "scheduledTimeLocal": "2022-04-06 12:00+02:00",
          "scheduledTimeUtc": "2022-04-06 10:00Z",
          "terminal": "2"
         },
         "callSign": "DLH5JA",
         "codeshareStatus": "IsOperator",
         "departure": {
          "actualTimeLocal": "2022-04-06 11:01+02:00",
          "actualTimeUtc": "2022-04-06 09:01Z",
          "quality": [
           "Basic",
           "Live"
          ],
          "runway": "25L",
          "runwayTimeLocal": "2022-04-06 11:12+02:00",
          "runwayTimeUtc": "2022-04-06 09:12Z",
          "scheduledTimeLocal": "2022-04-06 10:50+02:00",
          "scheduledTimeUtc": "2022-04-06 08:50Z",
          "terminal": "1"
         },
         "isCargo": false,
         "number": "LH 1935",
         "status": "Departed"
        },
        {
         "aircraft": {
          "modeS": "4B1693",
          "model": "Airbus A321-100/200",
          "reg": "HB-IOH"
         },
         "airline": {
          "name": "SWISS"
         },
         "arrival": {
          "actualTimeLocal": "2022-04-06 12:23+02:00",
          "actualTimeUtc": "2022-04-06 10:23Z",
          "airport": {
           "iata": "ZRH",
           "icao": "LSZH",
           "name": "Zurich"
          },
          "baggageBelt": "27",
          "quality": [
           "Basic",
           "Live"
          ],
          "runwayTimeLocal": "2022-04-06 12:14+02:00",
          "runwayTimeUtc": "2022-04-06 10:14Z",
          "scheduledTimeLocal": "2022-04-06 12:20+02:00",
          "scheduledTimeUtc": "2022-04-06 10:20Z",
          "terminal": "2"
         },
         "callSign": "SWR98D",
         "codeshareStatus": "IsOperator",
         "departure": {
          "actualTimeLocal": "2022-04-06 11:06+02:00",
          "actualTimeUtc": "2022-04-06 09:06Z",
          "quality": [
           "Basic",
           "Live"
          ],
          "runway": "25L",
          "runwayTimeLocal": "2022-04-06 11:13+02:00",
          "runwayTimeUtc": "2022-04-06 09:13Z",
          "scheduledTimeLocal": "2022-04-06 10:50+02:00",
          "scheduledTimeUtc": "2022-04-06 08:50Z",
          "terminal": "1"
         },
         "isCargo": false,
         "number": "LX 977",
         "status": "Departed"
        },
        {
         "aircraft": {
          "model": "Airbus A319"
         },
         "airline": {
          "name": "British Airways"
         },
         "arrival": {
          "actualTimeLocal": "2022-04-06 12:15+01:00",
          "actualTimeUtc": "2022-04-06 11:15Z",
          "airport": {
           "iata": "LHR",
           "icao": "EGLL",
           "name": "London"
          },
          "quality": [
           "Basic",
           "Live"
          ],
          "scheduledTimeLocal": "2022-04-06 12:15+01:00",
          "scheduledTimeUtc": "2022-04-06 11:15Z",
          "terminal": "5"
         },
         "codeshareStatus": "IsOperator",
         "departure": {
          "quality": [
           "Basic"
          ],
          "scheduledTimeLocal": "2022-04-06 11:10+02:00",
          "scheduledTimeUtc": "2022-04-06 09:10Z",
          "terminal": "1"
         },
         "isCargo": false,
         "number": "BA 991",
         "status": "Canceled"
        },
        {
         "aircraft": {
          "modeS": "4BAA8A",
          "model": "Airbus A321-100/200",
          "reg": "TC-JTJ"
         },
         "airline": {
          "name": "Turkish"
         },
         "arrival": {
          "airport": {
           "iata": "IST",
           "icao": "LTFM",
           "name": "Istanbul"
          },
          "quality": [
           "Basic"
          ],
          "scheduledTimeLocal": "2022-04-06 15:05+03:00",
          "scheduledTimeUtc": "2022-04-06 12:05Z"
         },
         "callSign": "THY4MV",
         "codeshareStatus": "IsOperator",
         "departure": {
          "actualTimeLocal": "2022-04-06 11:13+02:00",
          "actualTimeUtc": "2022-04-06 09:13Z",
          "quality": [
           "Basic",
           "Live"
          ],
          "runway": "25L",
          "runwayTimeLocal": "2022-04-06 11:27+02:00",
          "runwayTimeUtc": "2022-04-06 09:27Z",
          "scheduledTimeLocal": "2022-04-06 11:10+02:00",
          "scheduledTimeUtc": "2022-04-06 09:10Z",
          "terminal": "1"
         },
         "isCargo": false,
         "number": "TK 1722",
         "status": "Departed"
        },
        {
         "aircraft": {
          "modeS": "3C56F7",
          "model": "Airbus A320-100/200",
          "reg": "D-AEWW"
         },
         "airline": {
          "name": "Eurowings"
         },
         "arrival": {
          "actualTimeLocal": "2022-04-06 13:47+02:00",
          "actualTimeUtc": "2022-04-06 11:47Z",
          "airport": {
           "iata": "PMI",
           "icao": "LEPA",
           "name": "Palma De Mallorca"
          },
          "quality": [
           "Basic",
           "Live"
          ],
          "scheduledTimeLocal": "2022-04-06 13:25+02:00",
          "scheduledTimeUtc": "2022-04-06 11:25Z",
          "terminal": "N"
         },
         "callSign": "EWG30BM",
         "codeshareStatus": "IsOperator",
         "departure": {
          "actualTimeLocal": "2022-04-06 11:14+02:00",
          "actualTimeUtc": "2022-04-06 09:14Z",
          "quality": [
           "Basic",
           "Live"
          ],
          "runway": "25L",
          "runwayTimeLocal": "2022-04-06 11:25+02:00",
          "runwayTimeUtc": "2022-04-06 09:25Z",
          "scheduledTimeLocal": "2022-04-06 10:45+02:00",
          "scheduledTimeUtc": "2022-04-06 08:45Z",
          "terminal": "1"
         },
         "isCargo": false,
         "number": "EW 6893",
         "status": "Departed"
        },
        {
         "aircraft": {
          "modeS": "405B65",
          "model": "Airbus A319",
          "reg": "G-EZDL"
         },
         "airline": {
          "name": "easyJet"
         },
         "arrival": {
          "actualTimeLocal": "2022-04-06 12:19+01:00",
          "actualTimeUtc": "2022-04-06 11:19Z",
          "airport": {
           "iata": "MAN",
           "icao": "EGCC",
           "name": "Manchester"
          },
          "quality": [
           "Basic",
           "Live"
          ],
          "runwayTimeLocal": "2022-04-06 12:17+01:00",
          "runwayTimeUtc": "2022-04-06 11:17Z",
          "scheduledTimeLocal": "2022-04-06 12:00+01:00",
          "scheduledTimeUtc": "2022-04-06 11:00Z",
          "terminal": "1"
         },
         "callSign": "EZY87KL",
         "codeshareStatus": "IsOperator",
         "departure": {
          "actualTimeLocal": "2022-04-06 11:17+02:00",
          "actualTimeUtc": "2022-04-06 09:17Z",
          "quality": [
           "Basic",
           "Live"
          ],
          "runway": "25L",
          "runwayTimeLocal": "2022-04-06 11:31+02:00",
          "runwayTimeUtc": "2022-04-06 09:31Z",
          "scheduledTimeLocal": "2022-04-06 10:55+02:00",
          "scheduledTimeUtc": "2022-04-06 08:55Z",
          "terminal": "1"
         },
         "isCargo": false,
         "number": "U2 1898",
         "status": "Departed"
        },
        {
         "aircraft": {
          "model": "Airbus A320"
         },
         "airline": {
          "name": "Wizz Air"
         },
         "arrival": {
          "actualTimeLocal": "2022-04-06 10:08+02:00",
          "actualTimeUtc": "2022-04-06 08:08Z",
          "airport": {
           "iata": "BUD",
           "icao": "LHBP",
           "name": "Budapest"
          },
          "quality": [
           "Basic",
           "Live"
          ],
          "scheduledTimeLocal": "2022-04-06 09:45+02:00",
          "scheduledTimeUtc": "2022-04-06 07:45Z",
          "terminal": "2A"
         },
         "codeshareStatus": "IsOperator",
         "departure": {
          "quality": [
           "Basic"
          ],
          "scheduledTimeLocal": "2022-04-06 08:20+02:00",
          "scheduledTimeUtc": "2022-04-06 06:20Z",
          "terminal": "0"
         },
         "isCargo": false,
         "number": "W6 2316",
         "status": "Departed"
        },
        {
         "aircraft": {
          "modeS": "471F53",
          "model": "Airbus A320-100/200",
          "reg": "HA-LWL"
         },
         "airline": {
          "name": "Wizz Air"
         },
         "arrival": {
          "airport": {
           "iata": "KUT",
           "icao": "UGKO",
           "name": "Kutaisi"
          },
          "quality": [
           "Basic"
          ],
          "scheduledTimeLocal": "2022-04-06 14:35+04:00",
          "scheduledTimeUtc": "2022-04-06 10:35Z"
         },
         "callSign": "WZZ6408",
         "codeshareStatus": "IsOperator",
         "departure": {
          "actualTimeLocal": "2022-04-06 08:43+02:00",
          "actualTimeUtc": "2022-04-06 06:43Z",
          "quality": [
           "Basic",
           "Live"
          ],
          "runway": "25R",
          "runwayTimeLocal": "2022-04-06 08:58+02:00",
          "runwayTimeUtc": "2022-04-06 06:58Z",
          "scheduledTimeLocal": "2022-04-06 08:50+02:00",
          "scheduledTimeUtc": "2022-04-06 06:50Z",
          "terminal": "0"
         },
         "isCargo": false,
         "number": "W6 6408",
         "status": "Departed"
        },
        {
         "aircraft": {
          "model": "Airbus A320"
         },
         "airline": {
          "name": "easyJet"
         },
         "arrival": {
          "airport": {
           "iata": "SPU",
           "icao": "LDSP",
           "name": "Split"
          },
          "quality": [
           "Basic"
          ],
          "scheduledTimeLocal": "2022-04-06 10:45+02:00",
          "scheduledTimeUtc": "2022-04-06 08:45Z"
         },
         "codeshareStatus": "Unknown",
         "departure": {
          "quality": [
           "Basic"
          ],
          "scheduledTimeLocal": "2022-04-06 08:50+02:00",
          "scheduledTimeUtc": "2022-04-06 06:50Z",
          "terminal": "1"
         },
         "isCargo": false,
         "number": "U2 4755",
         "status": "Unknown"
        },
        {
         "aircraft": {
          "modeS": "3C6648",
          "model": "Airbus A321-100/200",
          "reg": "D-AIRH"
         },
         "airline": {
          "name": "Lufthansa"
         },
         "arrival": {
          "actualTimeLocal": "2022-04-06 12:26+02:00",
          "actualTimeUtc": "2022-04-06 10:26Z",
          "airport": {
           "iata": "FRA",
           "icao": "EDDF",
           "name": "Frankfurt-am-Main"
          },
          "gate": "B2",
          "quality": [
           "Basic",
           "Live"
          ],
          "runway": "25R",
          "runwayTimeLocal": "2022-04-06 12:15+02:00",
          "runwayTimeUtc": "2022-04-06 10:15Z",
          "scheduledTimeLocal": "2022-04-06 11:55+02:00",
          "scheduledTimeUtc": "2022-04-06 09:55Z",
          "terminal": "1"
         },
         "callSign": "DLH2WU",
         "codeshareStatus": "IsOperator",
         "departure": {
          "actualTimeLocal": "2022-04-06 11:19+02:00",
          "actualTimeUtc": "2022-04-06 09:19Z",
          "quality": [
           "Basic",
           "Live"
          ],
          "runway": "25L",
          "runwayTimeLocal": "2022-04-06 11:30+02:00",
          "runwayTimeUtc": "2022-04-06 09:30Z",
          "scheduledTimeLocal": "2022-04-06 10:45+02:00",
          "scheduledTimeUtc": "2022-04-06 08:45Z",
          "terminal": "1"
         },
         "isCargo": false,
         "number": "LH 183",
         "status": "Departed"
        },
        {
         "aircraft": {
          "model": "Airbus A320"
         },
         "airline": {
          "name": "easyJet"
         },
         "arrival": {
          "airport": {
           "iata": "TFS",
           "icao": "GCTS",
           "name": "Tenerife Island"
          },
          "quality": [
           "Basic"
          ],
          "scheduledTimeLocal": "2022-04-06 15:45+01:00",
          "scheduledTimeUtc": "2022-04-06 14:45Z"
         },
         "codeshareStatus": "Unknown",
         "departure": {
          "quality": [
           "Basic"
          ],
          "scheduledTimeLocal": "2022-04-06 11:20+02:00",
          "scheduledTimeUtc": "2022-04-06 09:20Z",
          "terminal": "1"
         },
         "isCargo": false,
         "number": "U2 4717",
         "status": "CanceledUncertain"
        },
        {
         "aircraft": {
          "modeS": "4CA56C",
          "model": "Boeing 737-800",
          "reg": "EI-DWG"
         },
         "airline": {
          "name": "Ryanair"
         },
         "arrival": {
          "actualTimeLocal": "2022-04-06 13:56+02:00",
          "actualTimeUtc": "2022-04-06 11:56Z",
          "airport": {
           "iata": "PMI",
           "icao": "LEPA",
           "name": "Palma De Mallorca"
          },
          "quality": [
           "Basic",
           "Live"
          ],
          "scheduledTimeLocal": "2022-04-06 13:55+02:00",
          "scheduledTimeUtc": "2022-04-06 11:55Z",
          "terminal": "N"
         },
         "callSign": "RYR264",
         "codeshareStatus": "IsOperator",
         "departure": {
          "actualTimeLocal": "2022-04-06 11:28+02:00",
          "actualTimeUtc": "2022-04-06 09:28Z",
          "quality": [
           "Basic",
           "Live"
          ],
          "runway": "25R",
          "runwayTimeLocal": "2022-04-06 11:32+02:00",
          "runwayTimeUtc": "2022-04-06 09:32Z",
          "scheduledTimeLocal": "2022-04-06 11:10+02:00",
          "scheduledTimeUtc": "2022-04-06 09:10Z"
         },
         "isCargo": false,
         "number": "FR 264",
         "status": "Departed"
        },
        {
         "aircraft": {
          "model": "Airbus A320"
         },
         "airline": {
          "name": "easyJet"
         },
         "arrival": {
          "airport": {
           "iata": "LIS",
           "icao": "LPPT",
           "name": "Lisbon"
          },
          "quality": [
           "Basic"
          ],
          "scheduledTimeLocal": "2022-04-06 14:15+01:00",
          "scheduledTimeUtc": "2022-04-06 13:15Z",
          "terminal": "2"
         },
         "codeshareStatus": "Unknown",
         "departure": {
          "quality": [
           "Basic"
          ],
          "scheduledTimeLocal": "2022-04-06 11:30+02:00",
          "scheduledTimeUtc": "2022-04-06 09:30Z",
          "terminal": "1"
         },
         "isCargo": false,
         "number": "U2 7652",
         "status": "CanceledUncertain"
        },
        {
         "aircraft": {
          "model": "Boeing 737-800"
         },
         "airline": {
          "name": "Ryanair"
         },
         "arrival": {
          "actualTimeLocal": "2022-04-06 13:23+02:00",
          "actualTimeUtc": "2022-04-06 11:23Z",
          "airport": {
           "iata": "BUD",
           "icao": "LHBP",
           "name": "Budapest"
          },
          "quality": [
           "Basic",
           "Live"
          ],
          "scheduledTimeLocal": "2022-04-06 13:05+02:00",
          "scheduledTimeUtc": "2022-04-06 11:05Z",
          "terminal": "2A"
         },
         "codeshareStatus": "IsOperator",
         "departure": {
          "quality": [
           "Basic"
          ],
          "scheduledTimeLocal": "2022-04-06 11:35+02:00",
          "scheduledTimeUtc": "2022-04-06 09:35Z"
         },
         "isCargo": false,
         "number": "FR 196",
         "status": "Departed"
        },
        {
         "aircraft": {
          "modeS": "738050",
          "model": "Boeing 737-900",
          "reg": "4X-EHA"
         },
         "airline": {
          "name": "El Al"
         },
         "arrival": {
          "actualTimeLocal": "2022-04-06 16:18+03:00",
          "actualTimeUtc": "2022-04-06 13:18Z",
          "airport": {
           "iata": "TLV",
           "icao": "LLBG",
           "name": "Tel Aviv Yafo"
          },
          "quality": [
           "Basic",
           "Live"
          ],
          "runway": "30",
          "runwayTimeLocal": "2022-04-06 16:18+03:00",
          "runwayTimeUtc": "2022-04-06 13:18Z",
          "scheduledTimeLocal": "2022-04-06 16:00+03:00",
          "scheduledTimeUtc": "2022-04-06 13:00Z",
          "terminal": "3"
         },
         "callSign": "ELY2372",
         "codeshareStatus": "IsOperator",
         "departure": {
          "actualTimeLocal": "2022-04-06 11:36+02:00",
          "actualTimeUtc": "2022-04-06 09:36Z",
          "quality": [
           "Basic",
           "Live"
          ],
          "runway": "25L",
          "runwayTimeLocal": "2022-04-06 11:57+02:00",
          "runwayTimeUtc": "2022-04-06 09:57Z",
          "scheduledTimeLocal": "2022-04-06 10:55+02:00",
          "scheduledTimeUtc": "2022-04-06 08:55Z",
          "terminal": "1"
         },
         "isCargo": false,
         "number": "LY 2372",
         "status": "Departed"
        },
        {
         "aircraft": {
          "modeS": "4CAD12",
          "model": "Boeing 737-800"
         },
         "airline": {
          "name": "Ryanair"
         },
         "arrival": {
          "actualTimeLocal": "2022-04-06 12:55+01:00",
          "actualTimeUtc": "2022-04-06 11:55Z",
          "airport": {
           "iata": "DUB",
           "icao": "EIDW",
           "name": "Dublin"
          },
          "baggageBelt": "2",
          "gate": "110",
          "quality": [
           "Basic",
           "Live"
          ],
          "runway": "28",
          "runwayTimeLocal": "2022-04-06 12:51+01:00",
          "runwayTimeUtc": "2022-04-06 11:51Z",
          "scheduledTimeLocal": "2022-04-06 12:25+01:00",
          "scheduledTimeUtc": "2022-04-06 11:25Z",
          "terminal": "1"
         },
         "callSign": "RYR74FY",
         "codeshareStatus": "IsOperator",
         "departure": {
          "actualTimeLocal": "2022-04-06 11:36+02:00",
          "actualTimeUtc": "2022-04-06 09:36Z",
          "quality": [
           "Basic",
           "Live"
          ],
          "runway": "25R",
          "runwayTimeLocal": "2022-04-06 11:41+02:00",
          "runwayTimeUtc": "2022-04-06 09:41Z",
          "scheduledTimeLocal": "2022-04-06 11:00+02:00",
          "scheduledTimeUtc": "2022-04-06 09:00Z"
         },
         "isCargo": false,
         "number": "FR 8557",
         "status": "Departed"
        },
        {
         "aircraft": {
          "modeS": "440219",
          "model": "Airbus A320-100/200",
          "reg": "OE-IZJ"
         },
         "airline": {
          "name": "EasyJet Europe"
         },
         "arrival": {
          "actualTimeLocal": "2022-04-06 15:45+01:00",
          "actualTimeUtc": "2022-04-06 14:45Z",
          "airport": {
           "iata": "TFS",
           "icao": "GCTS",
           "name": "Tenerife Island"
          },
          "quality": [
           "Basic",
           "Live"
          ],
          "scheduledTimeLocal": "2022-04-06 15:45+01:00",
          "scheduledTimeUtc": "2022-04-06 14:45Z",
          "terminal": "1"
         },
         "callSign": "EJU4717",
         "codeshareStatus": "IsOperator",
         "departure": {
          "actualTimeLocal": "2022-04-06 11:39+02:00",
          "actualTimeUtc": "2022-04-06 09:39Z",
          "quality": [
           "Basic",
           "Live"
          ],
          "runway": "25L",
          "runwayTimeLocal": "2022-04-06 11:39+02:00",
          "runwayTimeUtc": "2022-04-06 09:39Z",
          "scheduledTimeLocal": "2022-04-06 11:39+02:00",
          "scheduledTimeUtc": "2022-04-06 09:39Z"
         },
         "isCargo": false,
         "number": "EC 4717",
         "status": "Departed"
        },
        {
         "airline": {
          "name": "BN"
         },
         "arrival": {
          "airport": {
           "name": "Unknown"
          },
          "quality": []
         },
         "callSign": "BN1951",
         "codeshareStatus": "IsOperator",
         "departure": {
          "actualTimeLocal": "2022-04-06 11:42+02:00",
          "actualTimeUtc": "2022-04-06 09:42Z",
          "quality": [
           "Basic",
           "Live"
          ],
          "runway": "25R",
          "runwayTimeLocal": "2022-04-06 11:51+02:00",
          "runwayTimeUtc": "2022-04-06 09:51Z",
          "scheduledTimeLocal": "2022-04-06 11:42+02:00",
          "scheduledTimeUtc": "2022-04-06 09:42Z"
         },
         "isCargo": false,
         "number": "BN 1951",
         "status": "Departed"
        },
        {
         "aircraft": {
          "modeS": "3CD8B8",
          "model": "Cessna 560 Citation Excel",
          "reg": "D-CJJK"
         },
         "airline": {
          "name": "Windrose Air"
         },
         "arrival": {
          "actualTimeLocal": "2022-04-06 12:34+02:00",
          "actualTimeUtc": "2022-04-06 10:34Z",
          "airport": {
           "iata": "DUS",
           "icao": "EDDL",
           "name": "Duesseldorf"
          },
          "quality": [
           "Basic",
           "Live"
          ],
          "runway": "23L",
          "scheduledTimeLocal": "2022-04-06 12:34+02:00",
          "scheduledTimeUtc": "2022-04-06 10:34Z"
         },
         "callSign": "QGA26C",
         "codeshareStatus": "IsOperator",
         "departure": {
          "actualTimeLocal": "2022-04-06 11:43+02:00",
          "actualTimeUtc": "2022-04-06 09:43Z",
          "quality": [
           "Basic",
           "Live"
          ],
          "runway": "25R",
          "runwayTimeLocal": "2022-04-06 11:43+02:00",
          "runwayTimeUtc": "2022-04-06 09:43Z",
          "scheduledTimeLocal": "2022-04-06 11:43+02:00",
          "scheduledTimeUtc": "2022-04-06 09:43Z"
         },
         "isCargo": false,
         "number": "QGA 26C",
         "status": "Departed"
        },
        {
         "aircraft": {
          "modeS": "4D2244",
          "model": "Boeing 737-800",
          "reg": "9H-QCV"
         },
         "airline": {
          "name": "Ryanair"
         },
         "arrival": {
          "actualTimeLocal": "2022-04-06 12:26+01:00",
          "actualTimeUtc": "2022-04-06 11:26Z",
          "airport": {
           "iata": "STN",
           "icao": "EGSS",
           "name": "London"
          },
          "quality": [
           "Basic",
           "Live"
          ],
          "runway": "22",
          "runwayTimeLocal": "2022-04-06 12:26+01:00",
          "runwayTimeUtc": "2022-04-06 11:26Z",
          "scheduledTimeLocal": "2022-04-06 12:30+01:00",
          "scheduledTimeUtc": "2022-04-06 11:30Z",
          "terminal": "1"
         },
         "callSign": "RYR144L",
         "codeshareStatus": "IsOperator",
         "departure": {
          "actualTimeLocal": "2022-04-06 11:43+02:00",
          "actualTimeUtc": "2022-04-06 09:43Z",
          "quality": [
           "Basic",
           "Live"
          ],
          "runway": "25R",
          "runwayTimeLocal": "2022-04-06 11:48+02:00",
          "runwayTimeUtc": "2022-04-06 09:48Z",
          "scheduledTimeLocal": "2022-04-06 11:40+02:00",
          "scheduledTimeUtc": "2022-04-06 09:40Z"
         },
         "isCargo": false,
         "number": "FR 8545",
         "status": "Departed"
        },
        {
         "aircraft": {
          "model": "Airbus A320"
         },
         "airline": {
          "name": "easyJet"
         },
         "arrival": {
          "airport": {
           "iata": "FNC",
           "icao": "LPMA",
           "name": "Funchal"
          },
          "quality": [
           "Basic"
          ],
          "scheduledTimeLocal": "2022-04-06 15:30+01:00",
          "scheduledTimeUtc": "2022-04-06 14:30Z"
         },
         "codeshareStatus": "Unknown",
         "departure": {
          "quality": [
           "Basic"
          ],
          "scheduledTimeLocal": "2022-04-06 11:45+02:00",
          "scheduledTimeUtc": "2022-04-06 09:45Z",
          "terminal": "1"
         },
         "isCargo": false,
         "number": "U2 5581",
         "status": "CanceledUncertain"
        },
        {
         "aircraft": {
          "model": "Embraer 190"
         },
         "airline": {
          "name": "British Airways"
         },
         "arrival": {
          "actualTimeLocal": "2022-04-06 12:27+01:00",
          "actualTimeUtc": "2022-04-06 11:27Z",
          "airport": {
           "iata": "LCY",
           "icao": "EGLC",
           "name": "London"
          },
          "quality": [
           "Basic",
           "Live"
          ],
          "scheduledTimeLocal": "2022-04-06 11:30+01:00",
          "scheduledTimeUtc": "2022-04-06 10:30Z"
         },
         "codeshareStatus": "IsCodeshared",
         "departure": {
          "quality": [
           "Basic"
          ],
          "scheduledTimeLocal": "2022-04-06 11:45+02:00",
          "scheduledTimeUtc": "2022-04-06 09:45Z",
          "terminal": "1"
         },
         "isCargo": false,
         "number": "BA 8492",
         "status": "Departed"
        },
        {
         "aircraft": {
          "modeS": "4D21FD",
          "model": "Boeing 737",
          "reg": "9H-QAM"
         },
         "airline": {
          "name": "Ryanair"
         },
         "arrival": {
          "actualTimeLocal": "2022-04-06 12:38+01:00",
          "actualTimeUtc": "2022-04-06 11:38Z",
          "airport": {
           "iata": "MAN",
           "icao": "EGCC",
           "name": "Manchester"
          },
          "quality": [
           "Basic",
           "Live"
          ],
          "runway": "23R",
          "runwayTimeLocal": "2022-04-06 12:38+01:00",
          "runwayTimeUtc": "2022-04-06 11:38Z",
          "scheduledTimeLocal": "2022-04-06 12:20+01:00",
          "scheduledTimeUtc": "2022-04-06 11:20Z",
          "terminal": "3"
         },
         "callSign": "RYR6AH",
         "codeshareStatus": "IsOperator",
         "departure": {
          "actualTimeLocal": "2022-04-06 11:49+02:00",
          "actualTimeUtc": "2022-04-06 09:49Z",
          "quality": [
           "Basic",
           "Live"
          ],
          "runway": "25R",
          "runwayTimeLocal": "2022-04-06 11:54+02:00",
          "runwayTimeUtc": "2022-04-06 09:54Z",
          "scheduledTimeLocal": "2022-04-06 11:15+02:00",
          "scheduledTimeUtc": "2022-04-06 09:15Z"
         },
         "isCargo": false,
         "number": "FR 1144",
         "status": "Departed"
        },
        {
         "aircraft": {
          "modeS": "4CA245",
          "model": "Boeing 737-800",
          "reg": "EI-DCO"
         },
         "airline": {
          "name": "Ryanair"
         },
         "arrival": {
          "actualTimeLocal": "2022-04-06 14:36+02:00",
          "actualTimeUtc": "2022-04-06 12:36Z",
          "airport": {
           "iata": "ALC",
           "icao": "LEAL",
           "name": "Alicante"
          },
          "quality": [
           "Basic",
           "Live"
          ],
          "scheduledTimeLocal": "2022-04-06 14:40+02:00",
          "scheduledTimeUtc": "2022-04-06 12:40Z",
          "terminal": "N"
         },
         "callSign": "RYR257",
         "codeshareStatus": "IsOperator",
         "departure": {
          "actualTimeLocal": "2022-04-06 11:50+02:00",
          "actualTimeUtc": "2022-04-06 09:50Z",
          "quality": [
           "Basic",
           "Live"
          ],
          "runway": "25R",
          "runwayTimeLocal": "2022-04-06 11:50+02:00",
          "runwayTimeUtc": "2022-04-06 09:50Z",
          "scheduledTimeLocal": "2022-04-06 11:35+02:00",
          "scheduledTimeUtc": "2022-04-06 09:35Z"
         },
         "isCargo": false,
         "number": "FR 257",
         "status": "Departed"
        },
        {
         "aircraft": {
          "modeS": "44CE73",
          "model": "Airbus A319",
          "reg": "OO-SSS"
         },
         "airline": {
          "name": "Brussels"
         },
         "arrival": {
          "actualTimeLocal": "2022-04-06 13:15+02:00",
          "actualTimeUtc": "2022-04-06 11:15Z",
          "airport": {
           "iata": "BRU",
           "icao": "EBBR",
           "name": "Brussels"
          },
          "quality": [
           "Basic",
           "Live"
          ],
          "runway": "25R",
          "runwayTimeLocal": "2022-04-06 13:12+02:00",
          "runwayTimeUtc": "2022-04-06 11:12Z",
          "scheduledTimeLocal": "2022-04-06 13:10+02:00",
          "scheduledTimeUtc": "2022-04-06 11:10Z"
         },
         "callSign": "BEL82B",
         "codeshareStatus": "IsOperator",
         "departure": {
          "actualTimeLocal": "2022-04-06 11:52+02:00",
          "actualTimeUtc": "2022-04-06 09:52Z",
          "quality": [
           "Basic",
           "Live"
          ],
          "runway": "25L",
          "runwayTimeLocal": "2022-04-06 12:05+02:00",
          "runwayTimeUtc": "2022-04-06 10:05Z",
          "scheduledTimeLocal": "2022-04-06 11:45+02:00",
          "scheduledTimeUtc": "2022-04-06 09:45Z",
          "terminal": "1"
         },
         "isCargo": false,
         "number": "SN 2582",
         "status": "Departed"
        },
        {
         "aircraft": {
          "modeS": "440097",
          "model": "Airbus A320-100/200",
          "reg": "OE-IVM"
         },
         "airline": {
          "name": "EasyJet Europe"
         },
         "arrival": {
          "airport": {
           "name": "Unknown"
          },
          "quality": []
         },
         "callSign": "EJU41RT",
         "codeshareStatus": "IsOperator",
         "departure": {
          "actualTimeLocal": "2022-04-06 11:54+02:00",
          "actualTimeUtc": "2022-04-06 09:54Z",
          "quality": [
           "Basic",
           "Live"
          ],
          "runway": "25L",
          "runwayTimeLocal": "2022-04-06 12:06+02:00",
          "runwayTimeUtc": "2022-04-06 10:06Z",
          "scheduledTimeLocal": "2022-04-06 11:54+02:00",
          "scheduledTimeUtc": "2022-04-06 09:54Z"
         },
         "isCargo": false,
         "number": "EC 41RT",
         "status": "Departed"
        },
        {
         "aircraft": {
          "modeS": "4690FA",
          "model": "Airbus A320-100/200",
          "reg": "SX-DGZ"
         },
         "airline": {
          "name": "Aegean"
         },
         "arrival": {
          "actualTimeLocal": "2022-04-06 15:37+03:00",
          "actualTimeUtc": "2022-04-06 12:37Z",
          "airport": {
           "iata": "ATH",
           "icao": "LGAV",
           "name": "Athens"
          },
          "quality": [
           "Basic",
           "Live"
          ],
          "scheduledTimeLocal": "2022-04-06 15:00+03:00",
          "scheduledTimeUtc": "2022-04-06 12:00Z",
          "terminal": "B"
         },
         "callSign": "AEE2DT",
         "codeshareStatus": "IsOperator",
         "departure": {
          "actualTimeLocal": "2022-04-06 11:55+02:00",
          "actualTimeUtc": "2022-04-06 09:55Z",
          "quality": [
           "Basic",
           "Live"
          ],
          "runway": "25L",
          "runwayTimeLocal": "2022-04-06 12:18+02:00",
          "runwayTimeUtc": "2022-04-06 10:18Z",
          "scheduledTimeLocal": "2022-04-06 11:15+02:00",
          "scheduledTimeUtc": "2022-04-06 09:15Z",
          "terminal": "1"
         },
         "isCargo": false,
         "number": "A3 821",
         "status": "Departed"
        },
        {
         "aircraft": {
          "modeS": "3415CE",
          "model": "Airbus A320-100/200",
          "reg": "EC-IEF"
         },
         "airline": {
          "name": "Iberia"
         },
         "arrival": {
          "actualTimeLocal": "2022-04-06 15:05+02:00",
          "actualTimeUtc": "2022-04-06 13:05Z",
          "airport": {
           "iata": "MAD",
           "icao": "LEMD",
           "name": "Madrid"
          },
          "quality": [
           "Basic",
           "Live"
          ],
          "runwayTimeLocal": "2022-04-06 14:50+02:00",
          "runwayTimeUtc": "2022-04-06 12:50Z",
          "scheduledTimeLocal": "2022-04-06 14:50+02:00",
          "scheduledTimeUtc": "2022-04-06 12:50Z",
          "terminal": "4"
         },
         "callSign": "IBE3067",
         "codeshareStatus": "IsOperator",
         "departure": {
          "actualTimeLocal": "2022-04-06 11:56+02:00",
          "actualTimeUtc": "2022-04-06 09:56Z",
          "quality": [
           "Basic",
           "Live"
          ],
          "runway": "25L",
          "runwayTimeLocal": "2022-04-06 12:09+02:00",
          "runwayTimeUtc": "2022-04-06 10:09Z",
          "scheduledTimeLocal": "2022-04-06 11:40+02:00",
          "scheduledTimeUtc": "2022-04-06 09:40Z",
          "terminal": "1"
         },
         "isCargo": false,
         "number": "IB 3067",
         "status": "Departed"
        },
        {
         "aircraft": {
          "modeS": "5110CA",
          "model": "Bombardier CRJ900",
          "reg": "ES-ACG"
         },
         "airline": {
          "name": "SAS"
         },
         "arrival": {
          "actualTimeLocal": "2022-04-06 13:51+02:00",
          "actualTimeUtc": "2022-04-06 11:51Z",
          "airport": {
           "iata": "ARN",
           "icao": "ESSA",
           "name": "Stockholm"
          },
          "baggageBelt": "7",
          "gate": "F5",
          "quality": [
           "Basic",
           "Live"
          ],
          "scheduledTimeLocal": "2022-04-06 13:35+02:00",
          "scheduledTimeUtc": "2022-04-06 11:35Z",
          "terminal": "5"
         },
         "callSign": "SAS2678",
         "codeshareStatus": "Unknown",
         "departure": {
          "quality": [
           "Basic"
          ],
          "scheduledTimeLocal": "2022-04-06 12:00+02:00",
          "scheduledTimeUtc": "2022-04-06 10:00Z",
          "terminal": "1"
         },
         "isCargo": false,
         "number": "SK 2678",
         "status": "Departed"
        }
       ]
      },
      "text/plain": [
       "<IPython.core.display.JSON object>"
      ]
     },
     "execution_count": 77,
     "metadata": {
      "application/json": {
       "expanded": false,
       "root": "root"
      }
     },
     "output_type": "execute_result"
    }
   ],
   "source": [
    "import requests\n",
    "\n",
    "API_key = \"Your API key\"\n",
    "\n",
    "airport_icoa = \"EDDB\"\n",
    "to_local_time = \"2022-04-06T00:00\"\n",
    "from_local_time = \"2022-04-06T12:00\"\n",
    "\n",
    "url = f\"https://aerodatabox.p.rapidapi.com/flights/airports/icao/{airport_icoa}/{to_local_time}/{from_local_time}\"\n",
    "\n",
    "querystring = {\"withLeg\":\"true\",\"withCancelled\":\"true\",\"withCodeshared\":\"true\",\"withCargo\":\"true\",\"withPrivate\":\"false\",\"withLocation\":\"false\"}\n",
    "\n",
    "headers = {\n",
    "\t\"X-RapidAPI-Host\": \"aerodatabox.p.rapidapi.com\",\n",
    "\t\"X-RapidAPI-Key\": API_key\n",
    "}\n",
    "\n",
    "response = requests.request(\"GET\", url, headers=headers, params=querystring)\n",
    "\n",
    "from IPython.display import JSON\n",
    "JSON(response.json())"
   ]
  },
  {
   "cell_type": "code",
   "execution_count": 75,
   "id": "1a4397b4",
   "metadata": {},
   "outputs": [
    {
     "data": {
      "text/plain": [
       "200"
      ]
     },
     "execution_count": 75,
     "metadata": {},
     "output_type": "execute_result"
    }
   ],
   "source": [
    "response.status_code"
   ]
  },
  {
   "cell_type": "code",
   "execution_count": 78,
   "id": "86fb07b5",
   "metadata": {},
   "outputs": [
    {
     "name": "stdout",
     "output_type": "stream",
     "text": [
      "departures\n",
      "arrivals\n"
     ]
    }
   ],
   "source": [
    "for i in response.json():\n",
    "    print(i)"
   ]
  },
  {
   "cell_type": "code",
   "execution_count": 79,
   "id": "7089cd61-639d-455b-9333-b524fc8fca13",
   "metadata": {},
   "outputs": [
    {
     "data": {
      "text/html": [
       "<div>\n",
       "<style scoped>\n",
       "    .dataframe tbody tr th:only-of-type {\n",
       "        vertical-align: middle;\n",
       "    }\n",
       "\n",
       "    .dataframe tbody tr th {\n",
       "        vertical-align: top;\n",
       "    }\n",
       "\n",
       "    .dataframe thead th {\n",
       "        text-align: right;\n",
       "    }\n",
       "</style>\n",
       "<table border=\"1\" class=\"dataframe\">\n",
       "  <thead>\n",
       "    <tr style=\"text-align: right;\">\n",
       "      <th></th>\n",
       "      <th>dep_airport</th>\n",
       "      <th>sched_arr_loc_time</th>\n",
       "      <th>terminal</th>\n",
       "      <th>status</th>\n",
       "      <th>aircraft</th>\n",
       "      <th>icao_code</th>\n",
       "    </tr>\n",
       "  </thead>\n",
       "  <tbody>\n",
       "    <tr>\n",
       "      <th>0</th>\n",
       "      <td>Duesseldorf</td>\n",
       "      <td>2022-04-06 07:35+02:00</td>\n",
       "      <td>1</td>\n",
       "      <td>Unknown</td>\n",
       "      <td>Airbus A319</td>\n",
       "      <td>EDDB</td>\n",
       "    </tr>\n",
       "    <tr>\n",
       "      <th>1</th>\n",
       "      <td>Munich</td>\n",
       "      <td>2022-04-06 07:35+02:00</td>\n",
       "      <td>1</td>\n",
       "      <td>Arrived</td>\n",
       "      <td>Airbus A319</td>\n",
       "      <td>EDDB</td>\n",
       "    </tr>\n",
       "    <tr>\n",
       "      <th>2</th>\n",
       "      <td>Stuttgart</td>\n",
       "      <td>2022-04-06 07:29+02:00</td>\n",
       "      <td>None</td>\n",
       "      <td>Arrived</td>\n",
       "      <td>Airbus A319</td>\n",
       "      <td>EDDB</td>\n",
       "    </tr>\n",
       "    <tr>\n",
       "      <th>3</th>\n",
       "      <td>Stuttgart</td>\n",
       "      <td>2022-04-06 07:40+02:00</td>\n",
       "      <td>1</td>\n",
       "      <td>Unknown</td>\n",
       "      <td>Airbus A319</td>\n",
       "      <td>EDDB</td>\n",
       "    </tr>\n",
       "    <tr>\n",
       "      <th>4</th>\n",
       "      <td>Paris</td>\n",
       "      <td>2022-04-06 07:36+02:00</td>\n",
       "      <td>None</td>\n",
       "      <td>Arrived</td>\n",
       "      <td>Airbus A320-100/200</td>\n",
       "      <td>EDDB</td>\n",
       "    </tr>\n",
       "    <tr>\n",
       "      <th>...</th>\n",
       "      <td>...</td>\n",
       "      <td>...</td>\n",
       "      <td>...</td>\n",
       "      <td>...</td>\n",
       "      <td>...</td>\n",
       "      <td>...</td>\n",
       "    </tr>\n",
       "    <tr>\n",
       "      <th>86</th>\n",
       "      <td>London</td>\n",
       "      <td>2022-04-06 11:46+02:00</td>\n",
       "      <td>None</td>\n",
       "      <td>Arrived</td>\n",
       "      <td>Embraer EMB 190</td>\n",
       "      <td>EDDB</td>\n",
       "    </tr>\n",
       "    <tr>\n",
       "      <th>87</th>\n",
       "      <td>Istanbul</td>\n",
       "      <td>2022-04-06 11:20+02:00</td>\n",
       "      <td>1</td>\n",
       "      <td>Arrived</td>\n",
       "      <td>Boeing 737-800</td>\n",
       "      <td>EDDB</td>\n",
       "    </tr>\n",
       "    <tr>\n",
       "      <th>88</th>\n",
       "      <td>Unknown</td>\n",
       "      <td>2022-04-06 11:42+02:00</td>\n",
       "      <td>None</td>\n",
       "      <td>Arrived</td>\n",
       "      <td>Airbus A319</td>\n",
       "      <td>EDDB</td>\n",
       "    </tr>\n",
       "    <tr>\n",
       "      <th>89</th>\n",
       "      <td>Vienna</td>\n",
       "      <td>2022-04-06 11:36+02:00</td>\n",
       "      <td>None</td>\n",
       "      <td>Arrived</td>\n",
       "      <td>Airbus A320-100/200</td>\n",
       "      <td>EDDB</td>\n",
       "    </tr>\n",
       "    <tr>\n",
       "      <th>90</th>\n",
       "      <td>London</td>\n",
       "      <td>2022-04-06 11:55+02:00</td>\n",
       "      <td>1</td>\n",
       "      <td>CanceledUncertain</td>\n",
       "      <td>Airbus A320</td>\n",
       "      <td>EDDB</td>\n",
       "    </tr>\n",
       "  </tbody>\n",
       "</table>\n",
       "<p>91 rows × 6 columns</p>\n",
       "</div>"
      ],
      "text/plain": [
       "    dep_airport      sched_arr_loc_time terminal             status  \\\n",
       "0   Duesseldorf  2022-04-06 07:35+02:00        1            Unknown   \n",
       "1        Munich  2022-04-06 07:35+02:00        1            Arrived   \n",
       "2     Stuttgart  2022-04-06 07:29+02:00     None            Arrived   \n",
       "3     Stuttgart  2022-04-06 07:40+02:00        1            Unknown   \n",
       "4         Paris  2022-04-06 07:36+02:00     None            Arrived   \n",
       "..          ...                     ...      ...                ...   \n",
       "86       London  2022-04-06 11:46+02:00     None            Arrived   \n",
       "87     Istanbul  2022-04-06 11:20+02:00        1            Arrived   \n",
       "88      Unknown  2022-04-06 11:42+02:00     None            Arrived   \n",
       "89       Vienna  2022-04-06 11:36+02:00     None            Arrived   \n",
       "90       London  2022-04-06 11:55+02:00        1  CanceledUncertain   \n",
       "\n",
       "               aircraft icao_code  \n",
       "0           Airbus A319      EDDB  \n",
       "1           Airbus A319      EDDB  \n",
       "2           Airbus A319      EDDB  \n",
       "3           Airbus A319      EDDB  \n",
       "4   Airbus A320-100/200      EDDB  \n",
       "..                  ...       ...  \n",
       "86      Embraer EMB 190      EDDB  \n",
       "87       Boeing 737-800      EDDB  \n",
       "88          Airbus A319      EDDB  \n",
       "89  Airbus A320-100/200      EDDB  \n",
       "90          Airbus A320      EDDB  \n",
       "\n",
       "[91 rows x 6 columns]"
      ]
     },
     "execution_count": 79,
     "metadata": {},
     "output_type": "execute_result"
    }
   ],
   "source": [
    "### Option 1\n",
    "arrivals_berlin = response.json()['arrivals']\n",
    "\n",
    "def get_flight_info(flight_json):\n",
    "    # terminal\n",
    "    try: terminal = flight_json['arrival']['terminal']\n",
    "    except: terminal = None\n",
    "    # aircraft\n",
    "    try: aircraft = flight_json['aircraft']['model']\n",
    "    except: aircraft = None\n",
    "\n",
    "    return {\n",
    "        'dep_airport':flight_json['departure']['airport']['name'],\n",
    "        'sched_arr_loc_time':flight_json['arrival']['scheduledTimeLocal'],\n",
    "        'terminal':terminal,\n",
    "        'status':flight_json['status'],\n",
    "        'aircraft':aircraft,\n",
    "        'icao_code':airport_icoa\n",
    "    }\n",
    "\n",
    "\n",
    "import pandas as pd\n",
    "# [get_flight_info(flight) for flight in arrivals_berlin]\n",
    "arrivals_berlin = pd.DataFrame([get_flight_info(flight) for flight in arrivals_berlin])\n",
    "arrivals_berlin"
   ]
  },
  {
   "cell_type": "code",
   "execution_count": 41,
   "id": "3317f616-0e53-42ca-9085-bec1352cc2d5",
   "metadata": {},
   "outputs": [
    {
     "data": {
      "text/html": [
       "<div>\n",
       "<style scoped>\n",
       "    .dataframe tbody tr th:only-of-type {\n",
       "        vertical-align: middle;\n",
       "    }\n",
       "\n",
       "    .dataframe tbody tr th {\n",
       "        vertical-align: top;\n",
       "    }\n",
       "\n",
       "    .dataframe thead th {\n",
       "        text-align: right;\n",
       "    }\n",
       "</style>\n",
       "<table border=\"1\" class=\"dataframe\">\n",
       "  <thead>\n",
       "    <tr style=\"text-align: right;\">\n",
       "      <th></th>\n",
       "      <th>departure.airport.name</th>\n",
       "      <th>arrival.scheduledTimeLocal</th>\n",
       "      <th>arrival.terminal</th>\n",
       "      <th>status</th>\n",
       "      <th>aircraft.model</th>\n",
       "      <th>icao_code</th>\n",
       "    </tr>\n",
       "  </thead>\n",
       "  <tbody>\n",
       "    <tr>\n",
       "      <th>0</th>\n",
       "      <td>Stuttgart</td>\n",
       "      <td>2022-04-06 01:16+02:00</td>\n",
       "      <td>NaN</td>\n",
       "      <td>Arrived</td>\n",
       "      <td>Airbus A320-100/200</td>\n",
       "      <td>EDDB</td>\n",
       "    </tr>\n",
       "    <tr>\n",
       "      <th>1</th>\n",
       "      <td>Cologne</td>\n",
       "      <td>2022-04-06 07:25+02:00</td>\n",
       "      <td>1</td>\n",
       "      <td>Arrived</td>\n",
       "      <td>Boeing 737</td>\n",
       "      <td>EDDB</td>\n",
       "    </tr>\n",
       "    <tr>\n",
       "      <th>2</th>\n",
       "      <td>Duesseldorf</td>\n",
       "      <td>2022-04-06 07:35+02:00</td>\n",
       "      <td>1</td>\n",
       "      <td>Unknown</td>\n",
       "      <td>Airbus A319</td>\n",
       "      <td>EDDB</td>\n",
       "    </tr>\n",
       "    <tr>\n",
       "      <th>3</th>\n",
       "      <td>Munich</td>\n",
       "      <td>2022-04-06 07:35+02:00</td>\n",
       "      <td>1</td>\n",
       "      <td>Arrived</td>\n",
       "      <td>Airbus A319</td>\n",
       "      <td>EDDB</td>\n",
       "    </tr>\n",
       "    <tr>\n",
       "      <th>4</th>\n",
       "      <td>Stuttgart</td>\n",
       "      <td>2022-04-06 07:29+02:00</td>\n",
       "      <td>NaN</td>\n",
       "      <td>Arrived</td>\n",
       "      <td>Airbus A319</td>\n",
       "      <td>EDDB</td>\n",
       "    </tr>\n",
       "    <tr>\n",
       "      <th>...</th>\n",
       "      <td>...</td>\n",
       "      <td>...</td>\n",
       "      <td>...</td>\n",
       "      <td>...</td>\n",
       "      <td>...</td>\n",
       "      <td>...</td>\n",
       "    </tr>\n",
       "    <tr>\n",
       "      <th>86</th>\n",
       "      <td>London</td>\n",
       "      <td>2022-04-06 11:46+02:00</td>\n",
       "      <td>NaN</td>\n",
       "      <td>Arrived</td>\n",
       "      <td>Embraer EMB 190</td>\n",
       "      <td>EDDB</td>\n",
       "    </tr>\n",
       "    <tr>\n",
       "      <th>87</th>\n",
       "      <td>Istanbul</td>\n",
       "      <td>2022-04-06 11:20+02:00</td>\n",
       "      <td>1</td>\n",
       "      <td>Arrived</td>\n",
       "      <td>Boeing 737-800</td>\n",
       "      <td>EDDB</td>\n",
       "    </tr>\n",
       "    <tr>\n",
       "      <th>88</th>\n",
       "      <td>Unknown</td>\n",
       "      <td>2022-04-06 11:42+02:00</td>\n",
       "      <td>NaN</td>\n",
       "      <td>Arrived</td>\n",
       "      <td>Airbus A319</td>\n",
       "      <td>EDDB</td>\n",
       "    </tr>\n",
       "    <tr>\n",
       "      <th>89</th>\n",
       "      <td>Vienna</td>\n",
       "      <td>2022-04-06 11:36+02:00</td>\n",
       "      <td>NaN</td>\n",
       "      <td>Arrived</td>\n",
       "      <td>Airbus A320-100/200</td>\n",
       "      <td>EDDB</td>\n",
       "    </tr>\n",
       "    <tr>\n",
       "      <th>90</th>\n",
       "      <td>London</td>\n",
       "      <td>2022-04-06 11:55+02:00</td>\n",
       "      <td>1</td>\n",
       "      <td>CanceledUncertain</td>\n",
       "      <td>Airbus A320</td>\n",
       "      <td>EDDB</td>\n",
       "    </tr>\n",
       "  </tbody>\n",
       "</table>\n",
       "<p>91 rows × 6 columns</p>\n",
       "</div>"
      ],
      "text/plain": [
       "   departure.airport.name arrival.scheduledTimeLocal arrival.terminal  \\\n",
       "0               Stuttgart     2022-04-06 01:16+02:00              NaN   \n",
       "1                 Cologne     2022-04-06 07:25+02:00                1   \n",
       "2             Duesseldorf     2022-04-06 07:35+02:00                1   \n",
       "3                  Munich     2022-04-06 07:35+02:00                1   \n",
       "4               Stuttgart     2022-04-06 07:29+02:00              NaN   \n",
       "..                    ...                        ...              ...   \n",
       "86                 London     2022-04-06 11:46+02:00              NaN   \n",
       "87               Istanbul     2022-04-06 11:20+02:00                1   \n",
       "88                Unknown     2022-04-06 11:42+02:00              NaN   \n",
       "89                 Vienna     2022-04-06 11:36+02:00              NaN   \n",
       "90                 London     2022-04-06 11:55+02:00                1   \n",
       "\n",
       "               status       aircraft.model icao_code  \n",
       "0             Arrived  Airbus A320-100/200      EDDB  \n",
       "1             Arrived           Boeing 737      EDDB  \n",
       "2             Unknown          Airbus A319      EDDB  \n",
       "3             Arrived          Airbus A319      EDDB  \n",
       "4             Arrived          Airbus A319      EDDB  \n",
       "..                ...                  ...       ...  \n",
       "86            Arrived      Embraer EMB 190      EDDB  \n",
       "87            Arrived       Boeing 737-800      EDDB  \n",
       "88            Arrived          Airbus A319      EDDB  \n",
       "89            Arrived  Airbus A320-100/200      EDDB  \n",
       "90  CanceledUncertain          Airbus A320      EDDB  \n",
       "\n",
       "[91 rows x 6 columns]"
      ]
     },
     "execution_count": 41,
     "metadata": {},
     "output_type": "execute_result"
    }
   ],
   "source": [
    "### Option 2\n",
    "import pandas as pd\n",
    "arrivals = pd.json_normalize(response.json()['arrivals'])\n",
    "# next step: select the columns you want to incude on your database\n",
    "(\n",
    "arrivals\n",
    "    .filter(['departure.airport.name','arrival.scheduledTimeLocal',\n",
    "             'arrival.terminal','status','aircraft.model'])\n",
    "    .assign(icao_code = airport_icoa)\n",
    ")"
   ]
  },
  {
   "cell_type": "markdown",
   "id": "18faf618-b292-4ab6-a818-d4efb73dd186",
   "metadata": {},
   "source": [
    "Wheather data (API)"
   ]
  },
  {
   "cell_type": "markdown",
   "id": "152a90e3-2ff6-46a7-89fd-d91b484b05a7",
   "metadata": {},
   "source": [
    "### Using `pyowm` library"
   ]
  },
  {
   "cell_type": "code",
   "execution_count": 42,
   "id": "5096417d-dd48-4a50-94f1-fe1dd0345880",
   "metadata": {},
   "outputs": [
    {
     "data": {
      "text/html": [
       "<div>\n",
       "<style scoped>\n",
       "    .dataframe tbody tr th:only-of-type {\n",
       "        vertical-align: middle;\n",
       "    }\n",
       "\n",
       "    .dataframe tbody tr th {\n",
       "        vertical-align: top;\n",
       "    }\n",
       "\n",
       "    .dataframe thead th {\n",
       "        text-align: right;\n",
       "    }\n",
       "</style>\n",
       "<table border=\"1\" class=\"dataframe\">\n",
       "  <thead>\n",
       "    <tr style=\"text-align: right;\">\n",
       "      <th></th>\n",
       "      <th>time</th>\n",
       "      <th>precipitation_probabily</th>\n",
       "      <th>humidity</th>\n",
       "      <th>status</th>\n",
       "      <th>snow</th>\n",
       "      <th>temperature.temp</th>\n",
       "      <th>temperature.temp_kf</th>\n",
       "      <th>temperature.temp_max</th>\n",
       "      <th>temperature.temp_min</th>\n",
       "      <th>temperature.feels_like</th>\n",
       "      <th>rain.3h</th>\n",
       "      <th>wind.speed</th>\n",
       "      <th>wind.deg</th>\n",
       "      <th>wind.gust</th>\n",
       "    </tr>\n",
       "  </thead>\n",
       "  <tbody>\n",
       "    <tr>\n",
       "      <th>0</th>\n",
       "      <td>2022-04-07 09:00:00+00:00</td>\n",
       "      <td>0.20</td>\n",
       "      <td>69</td>\n",
       "      <td>Rain</td>\n",
       "      <td>[{}]</td>\n",
       "      <td>12.43</td>\n",
       "      <td>-273.04</td>\n",
       "      <td>12.43</td>\n",
       "      <td>12.32</td>\n",
       "      <td>11.53</td>\n",
       "      <td>0.15</td>\n",
       "      <td>32.796</td>\n",
       "      <td>216</td>\n",
       "      <td>54.108</td>\n",
       "    </tr>\n",
       "    <tr>\n",
       "      <th>0</th>\n",
       "      <td>2022-04-07 12:00:00+00:00</td>\n",
       "      <td>0.41</td>\n",
       "      <td>68</td>\n",
       "      <td>Rain</td>\n",
       "      <td>[{}]</td>\n",
       "      <td>12.18</td>\n",
       "      <td>-272.65</td>\n",
       "      <td>12.18</td>\n",
       "      <td>11.68</td>\n",
       "      <td>11.23</td>\n",
       "      <td>0.47</td>\n",
       "      <td>36.792</td>\n",
       "      <td>208</td>\n",
       "      <td>74.844</td>\n",
       "    </tr>\n",
       "    <tr>\n",
       "      <th>0</th>\n",
       "      <td>2022-04-07 15:00:00+00:00</td>\n",
       "      <td>1.00</td>\n",
       "      <td>71</td>\n",
       "      <td>Rain</td>\n",
       "      <td>[{}]</td>\n",
       "      <td>10.66</td>\n",
       "      <td>-272.27</td>\n",
       "      <td>10.66</td>\n",
       "      <td>9.78</td>\n",
       "      <td>9.64</td>\n",
       "      <td>3.10</td>\n",
       "      <td>30.924</td>\n",
       "      <td>251</td>\n",
       "      <td>62.028</td>\n",
       "    </tr>\n",
       "    <tr>\n",
       "      <th>0</th>\n",
       "      <td>2022-04-07 18:00:00+00:00</td>\n",
       "      <td>1.00</td>\n",
       "      <td>65</td>\n",
       "      <td>Rain</td>\n",
       "      <td>[{}]</td>\n",
       "      <td>8.68</td>\n",
       "      <td>-273.15</td>\n",
       "      <td>8.68</td>\n",
       "      <td>8.68</td>\n",
       "      <td>4.72</td>\n",
       "      <td>0.19</td>\n",
       "      <td>32.148</td>\n",
       "      <td>246</td>\n",
       "      <td>65.448</td>\n",
       "    </tr>\n",
       "    <tr>\n",
       "      <th>0</th>\n",
       "      <td>2022-04-07 21:00:00+00:00</td>\n",
       "      <td>0.27</td>\n",
       "      <td>68</td>\n",
       "      <td>Rain</td>\n",
       "      <td>[{}]</td>\n",
       "      <td>7.37</td>\n",
       "      <td>-273.15</td>\n",
       "      <td>7.37</td>\n",
       "      <td>7.37</td>\n",
       "      <td>2.79</td>\n",
       "      <td>0.16</td>\n",
       "      <td>35.100</td>\n",
       "      <td>242</td>\n",
       "      <td>68.040</td>\n",
       "    </tr>\n",
       "  </tbody>\n",
       "</table>\n",
       "</div>"
      ],
      "text/plain": [
       "                       time  precipitation_probabily  humidity status  snow  \\\n",
       "0 2022-04-07 09:00:00+00:00                     0.20        69   Rain  [{}]   \n",
       "0 2022-04-07 12:00:00+00:00                     0.41        68   Rain  [{}]   \n",
       "0 2022-04-07 15:00:00+00:00                     1.00        71   Rain  [{}]   \n",
       "0 2022-04-07 18:00:00+00:00                     1.00        65   Rain  [{}]   \n",
       "0 2022-04-07 21:00:00+00:00                     0.27        68   Rain  [{}]   \n",
       "\n",
       "   temperature.temp  temperature.temp_kf  temperature.temp_max  \\\n",
       "0             12.43              -273.04                 12.43   \n",
       "0             12.18              -272.65                 12.18   \n",
       "0             10.66              -272.27                 10.66   \n",
       "0              8.68              -273.15                  8.68   \n",
       "0              7.37              -273.15                  7.37   \n",
       "\n",
       "   temperature.temp_min  temperature.feels_like  rain.3h  wind.speed  \\\n",
       "0                 12.32                   11.53     0.15      32.796   \n",
       "0                 11.68                   11.23     0.47      36.792   \n",
       "0                  9.78                    9.64     3.10      30.924   \n",
       "0                  8.68                    4.72     0.19      32.148   \n",
       "0                  7.37                    2.79     0.16      35.100   \n",
       "\n",
       "   wind.deg  wind.gust  \n",
       "0       216     54.108  \n",
       "0       208     74.844  \n",
       "0       251     62.028  \n",
       "0       246     65.448  \n",
       "0       242     68.040  "
      ]
     },
     "execution_count": 42,
     "metadata": {},
     "output_type": "execute_result"
    }
   ],
   "source": [
    "from pyowm import OWM\n",
    "from pyowm.utils import config\n",
    "from pyowm.utils import timestamps\n",
    "import pandas as pd\n",
    "\n",
    "OWM_key = 'Your OWM key'\n",
    "\n",
    "city = \"Berlin\"\n",
    "country = \"DE\"\n",
    "\n",
    "owm = OWM(OWM_key)\n",
    "mgr = owm.weather_manager()\n",
    "\n",
    "# Will it be clear tomorrow at this time in Milan (Italy) ?\n",
    "forecast = mgr.forecast_at_place(city + ',' + country, '3h')\n",
    "# answer = forecast.will_be_clear_at(timestamps.tomorrow())\n",
    "\n",
    "from numpy import nan\n",
    "\n",
    "def forecast_extraction(forecast_object): \n",
    "    \"\"\"\n",
    "    Given a forecast object from Open weathor Pyhton API, \n",
    "    return a structured dataframe. \n",
    "\n",
    "    :param: forecast object\n",
    "    :returns: a dataframe with specific weather information\n",
    "    \"\"\"\n",
    "    forecast_df = pd.json_normalize({\n",
    "        'time' : forecast_object.reference_time(timeformat='date'), \n",
    "        'temperature' : forecast_object.temperature(unit='celsius'), \n",
    "        'precipitation_probabily' : forecast_object.precipitation_probability, \n",
    "        'rain' : forecast_object.rain, \n",
    "        'humidity' : forecast_object.humidity, \n",
    "        'status' : forecast_object.status, \n",
    "        'snow' : [nan if forecast_object.snow is None else forecast_object.snow], \n",
    "        'wind' : forecast_object.wind('km_hour')\n",
    "    })\n",
    "\n",
    "    return(forecast_df)\n",
    "\n",
    "weather_forecast = pd.concat(\n",
    "    [forecast_extraction(weather) for weather in forecast.forecast.weathers]\n",
    ")\n",
    "\n",
    "weather_forecast.head()"
   ]
  },
  {
   "cell_type": "markdown",
   "id": "62105324-ef89-4609-af79-a7c816b515fc",
   "metadata": {},
   "source": [
    "Connecting to OWM API"
   ]
  },
  {
   "cell_type": "code",
   "execution_count": 43,
   "id": "db3ea2a3-6efd-4c19-8afa-cb1800fdaf5f",
   "metadata": {},
   "outputs": [
    {
     "data": {
      "application/json": {
       "city": {
        "coord": {
         "lat": 52.5244,
         "lon": 13.4105
        },
        "country": "DE",
        "id": 2950159,
        "name": "Berlin",
        "population": 1000000,
        "sunrise": 1649305619,
        "sunset": 1649353781,
        "timezone": 7200
       },
       "cnt": 40,
       "cod": "200",
       "list": [
        {
         "clouds": {
          "all": 20
         },
         "dt": 1649322000,
         "dt_txt": "2022-04-07 09:00:00",
         "main": {
          "feels_like": 11.51,
          "grnd_level": 983,
          "humidity": 69,
          "pressure": 979,
          "sea_level": 979,
          "temp": 12.41,
          "temp_kf": 0.09,
          "temp_max": 12.41,
          "temp_min": 12.32
         },
         "pop": 0.2,
         "rain": {
          "3h": 0.15
         },
         "sys": {
          "pod": "d"
         },
         "visibility": 10000,
         "weather": [
          {
           "description": "light rain",
           "icon": "10d",
           "id": 500,
           "main": "Rain"
          }
         ],
         "wind": {
          "deg": 216,
          "gust": 15.03,
          "speed": 9.11
         }
        },
        {
         "clouds": {
          "all": 43
         },
         "dt": 1649332800,
         "dt_txt": "2022-04-07 12:00:00",
         "main": {
          "feels_like": 11.22,
          "grnd_level": 978,
          "humidity": 68,
          "pressure": 980,
          "sea_level": 980,
          "temp": 12.17,
          "temp_kf": 0.49,
          "temp_max": 12.17,
          "temp_min": 11.68
         },
         "pop": 0.41,
         "rain": {
          "3h": 0.47
         },
         "sys": {
          "pod": "d"
         },
         "visibility": 9159,
         "weather": [
          {
           "description": "light rain",
           "icon": "10d",
           "id": 500,
           "main": "Rain"
          }
         ],
         "wind": {
          "deg": 208,
          "gust": 20.79,
          "speed": 10.22
         }
        },
        {
         "clouds": {
          "all": 73
         },
         "dt": 1649343600,
         "dt_txt": "2022-04-07 15:00:00",
         "main": {
          "feels_like": 9.64,
          "grnd_level": 977,
          "humidity": 71,
          "pressure": 981,
          "sea_level": 981,
          "temp": 10.66,
          "temp_kf": 0.88,
          "temp_max": 10.66,
          "temp_min": 9.78
         },
         "pop": 1,
         "rain": {
          "3h": 3.1
         },
         "sys": {
          "pod": "d"
         },
         "visibility": 10000,
         "weather": [
          {
           "description": "moderate rain",
           "icon": "10d",
           "id": 501,
           "main": "Rain"
          }
         ],
         "wind": {
          "deg": 251,
          "gust": 17.23,
          "speed": 8.59
         }
        },
        {
         "clouds": {
          "all": 73
         },
         "dt": 1649354400,
         "dt_txt": "2022-04-07 18:00:00",
         "main": {
          "feels_like": 4.72,
          "grnd_level": 979,
          "humidity": 65,
          "pressure": 984,
          "sea_level": 984,
          "temp": 8.68,
          "temp_kf": 0,
          "temp_max": 8.68,
          "temp_min": 8.68
         },
         "pop": 1,
         "rain": {
          "3h": 0.19
         },
         "sys": {
          "pod": "n"
         },
         "visibility": 10000,
         "weather": [
          {
           "description": "light rain",
           "icon": "10n",
           "id": 500,
           "main": "Rain"
          }
         ],
         "wind": {
          "deg": 246,
          "gust": 18.18,
          "speed": 8.93
         }
        },
        {
         "clouds": {
          "all": 100
         },
         "dt": 1649365200,
         "dt_txt": "2022-04-07 21:00:00",
         "main": {
          "feels_like": 2.79,
          "grnd_level": 980,
          "humidity": 68,
          "pressure": 985,
          "sea_level": 985,
          "temp": 7.37,
          "temp_kf": 0,
          "temp_max": 7.37,
          "temp_min": 7.37
         },
         "pop": 0.27,
         "rain": {
          "3h": 0.16
         },
         "sys": {
          "pod": "n"
         },
         "visibility": 10000,
         "weather": [
          {
           "description": "light rain",
           "icon": "10n",
           "id": 500,
           "main": "Rain"
          }
         ],
         "wind": {
          "deg": 242,
          "gust": 18.9,
          "speed": 9.75
         }
        },
        {
         "clouds": {
          "all": 100
         },
         "dt": 1649376000,
         "dt_txt": "2022-04-08 00:00:00",
         "main": {
          "feels_like": 1.18,
          "grnd_level": 980,
          "humidity": 75,
          "pressure": 985,
          "sea_level": 985,
          "temp": 6.26,
          "temp_kf": 0,
          "temp_max": 6.26,
          "temp_min": 6.26
         },
         "pop": 0.23,
         "rain": {
          "3h": 0.34
         },
         "sys": {
          "pod": "n"
         },
         "visibility": 10000,
         "weather": [
          {
           "description": "light rain",
           "icon": "10n",
           "id": 500,
           "main": "Rain"
          }
         ],
         "wind": {
          "deg": 246,
          "gust": 20.66,
          "speed": 10.32
         }
        },
        {
         "clouds": {
          "all": 100
         },
         "dt": 1649386800,
         "dt_txt": "2022-04-08 03:00:00",
         "main": {
          "feels_like": 0.15,
          "grnd_level": 984,
          "humidity": 82,
          "pressure": 989,
          "sea_level": 989,
          "temp": 5.44,
          "temp_kf": 0,
          "temp_max": 5.44,
          "temp_min": 5.44
         },
         "pop": 0.87,
         "rain": {
          "3h": 0.85
         },
         "sys": {
          "pod": "n"
         },
         "visibility": 6634,
         "weather": [
          {
           "description": "light rain",
           "icon": "10n",
           "id": 500,
           "main": "Rain"
          }
         ],
         "wind": {
          "deg": 282,
          "gust": 17.11,
          "speed": 10.1
         }
        },
        {
         "clouds": {
          "all": 100
         },
         "dt": 1649397600,
         "dt_txt": "2022-04-08 06:00:00",
         "main": {
          "feels_like": 0.64,
          "grnd_level": 988,
          "humidity": 75,
          "pressure": 994,
          "sea_level": 994,
          "temp": 5.2,
          "temp_kf": 0,
          "temp_max": 5.2,
          "temp_min": 5.2
         },
         "pop": 0.79,
         "rain": {
          "3h": 0.18
         },
         "sys": {
          "pod": "d"
         },
         "visibility": 10000,
         "weather": [
          {
           "description": "light rain",
           "icon": "10d",
           "id": 500,
           "main": "Rain"
          }
         ],
         "wind": {
          "deg": 261,
          "gust": 13.6,
          "speed": 7.37
         }
        },
        {
         "clouds": {
          "all": 97
         },
         "dt": 1649408400,
         "dt_txt": "2022-04-08 09:00:00",
         "main": {
          "feels_like": 3.55,
          "grnd_level": 991,
          "humidity": 51,
          "pressure": 996,
          "sea_level": 996,
          "temp": 7.55,
          "temp_kf": 0,
          "temp_max": 7.55,
          "temp_min": 7.55
         },
         "pop": 0.2,
         "rain": {
          "3h": 0.19
         },
         "sys": {
          "pod": "d"
         },
         "visibility": 10000,
         "weather": [
          {
           "description": "light rain",
           "icon": "10d",
           "id": 500,
           "main": "Rain"
          }
         ],
         "wind": {
          "deg": 266,
          "gust": 12.2,
          "speed": 7.77
         }
        },
        {
         "clouds": {
          "all": 98
         },
         "dt": 1649419200,
         "dt_txt": "2022-04-08 12:00:00",
         "main": {
          "feels_like": 5.51,
          "grnd_level": 990,
          "humidity": 47,
          "pressure": 995,
          "sea_level": 995,
          "temp": 8.98,
          "temp_kf": 0,
          "temp_max": 8.98,
          "temp_min": 8.98
         },
         "pop": 0.22,
         "rain": {
          "3h": 0.12
         },
         "sys": {
          "pod": "d"
         },
         "visibility": 10000,
         "weather": [
          {
           "description": "light rain",
           "icon": "10d",
           "id": 500,
           "main": "Rain"
          }
         ],
         "wind": {
          "deg": 255,
          "gust": 11.31,
          "speed": 7.4
         }
        },
        {
         "clouds": {
          "all": 100
         },
         "dt": 1649430000,
         "dt_txt": "2022-04-08 15:00:00",
         "main": {
          "feels_like": 5.05,
          "grnd_level": 989,
          "humidity": 54,
          "pressure": 994,
          "sea_level": 994,
          "temp": 8.28,
          "temp_kf": 0,
          "temp_max": 8.28,
          "temp_min": 8.28
         },
         "pop": 0.98,
         "rain": {
          "3h": 0.45
         },
         "sys": {
          "pod": "d"
         },
         "visibility": 10000,
         "weather": [
          {
           "description": "light rain",
           "icon": "10d",
           "id": 500,
           "main": "Rain"
          }
         ],
         "wind": {
          "deg": 253,
          "gust": 9.67,
          "speed": 6.03
         }
        },
        {
         "clouds": {
          "all": 100
         },
         "dt": 1649440800,
         "dt_txt": "2022-04-08 18:00:00",
         "main": {
          "feels_like": 2.44,
          "grnd_level": 990,
          "humidity": 70,
          "pressure": 995,
          "sea_level": 995,
          "temp": 5.85,
          "temp_kf": 0,
          "temp_max": 5.85,
          "temp_min": 5.85
         },
         "pop": 1,
         "rain": {
          "3h": 0.34
         },
         "sys": {
          "pod": "n"
         },
         "visibility": 10000,
         "weather": [
          {
           "description": "light rain",
           "icon": "10n",
           "id": 500,
           "main": "Rain"
          }
         ],
         "wind": {
          "deg": 259,
          "gust": 9.15,
          "speed": 4.92
         }
        },
        {
         "clouds": {
          "all": 100
         },
         "dt": 1649451600,
         "dt_txt": "2022-04-08 21:00:00",
         "main": {
          "feels_like": 1.56,
          "grnd_level": 989,
          "humidity": 75,
          "pressure": 994,
          "sea_level": 994,
          "temp": 4.79,
          "temp_kf": 0,
          "temp_max": 4.79,
          "temp_min": 4.79
         },
         "pop": 0,
         "sys": {
          "pod": "n"
         },
         "visibility": 10000,
         "weather": [
          {
           "description": "overcast clouds",
           "icon": "04n",
           "id": 804,
           "main": "Clouds"
          }
         ],
         "wind": {
          "deg": 253,
          "gust": 9.2,
          "speed": 4.07
         }
        },
        {
         "clouds": {
          "all": 100
         },
         "dt": 1649462400,
         "dt_txt": "2022-04-09 00:00:00",
         "main": {
          "feels_like": -0.08,
          "grnd_level": 990,
          "humidity": 84,
          "pressure": 995,
          "sea_level": 995,
          "temp": 3.72,
          "temp_kf": 0,
          "temp_max": 3.72,
          "temp_min": 3.72
         },
         "pop": 0,
         "sys": {
          "pod": "n"
         },
         "visibility": 10000,
         "weather": [
          {
           "description": "overcast clouds",
           "icon": "04n",
           "id": 804,
           "main": "Clouds"
          }
         ],
         "wind": {
          "deg": 274,
          "gust": 10.4,
          "speed": 4.65
         }
        },
        {
         "clouds": {
          "all": 100
         },
         "dt": 1649473200,
         "dt_txt": "2022-04-09 03:00:00",
         "main": {
          "feels_like": -1.39,
          "grnd_level": 992,
          "humidity": 80,
          "pressure": 997,
          "sea_level": 997,
          "temp": 2.86,
          "temp_kf": 0,
          "temp_max": 2.86,
          "temp_min": 2.86
         },
         "pop": 0,
         "sys": {
          "pod": "n"
         },
         "visibility": 10000,
         "weather": [
          {
           "description": "overcast clouds",
           "icon": "04n",
           "id": 804,
           "main": "Clouds"
          }
         ],
         "wind": {
          "deg": 275,
          "gust": 11.33,
          "speed": 5.1
         }
        },
        {
         "clouds": {
          "all": 87
         },
         "dt": 1649484000,
         "dt_txt": "2022-04-09 06:00:00",
         "main": {
          "feels_like": -1.37,
          "grnd_level": 995,
          "humidity": 73,
          "pressure": 1000,
          "sea_level": 1000,
          "temp": 3.3,
          "temp_kf": 0,
          "temp_max": 3.3,
          "temp_min": 3.3
         },
         "pop": 0,
         "sys": {
          "pod": "d"
         },
         "visibility": 10000,
         "weather": [
          {
           "description": "overcast clouds",
           "icon": "04d",
           "id": 804,
           "main": "Clouds"
          }
         ],
         "wind": {
          "deg": 261,
          "gust": 12.37,
          "speed": 6.25
         }
        },
        {
         "clouds": {
          "all": 15
         },
         "dt": 1649494800,
         "dt_txt": "2022-04-09 09:00:00",
         "main": {
          "feels_like": 2.9,
          "grnd_level": 997,
          "humidity": 58,
          "pressure": 1002,
          "sea_level": 1002,
          "temp": 7.22,
          "temp_kf": 0,
          "temp_max": 7.22,
          "temp_min": 7.22
         },
         "pop": 0.32,
         "rain": {
          "3h": 0.22
         },
         "sys": {
          "pod": "d"
         },
         "visibility": 10000,
         "weather": [
          {
           "description": "light rain",
           "icon": "10d",
           "id": 500,
           "main": "Rain"
          }
         ],
         "wind": {
          "deg": 273,
          "gust": 13.45,
          "speed": 8.55
         }
        },
        {
         "clouds": {
          "all": 46
         },
         "dt": 1649505600,
         "dt_txt": "2022-04-09 12:00:00",
         "main": {
          "feels_like": 6.5,
          "grnd_level": 998,
          "humidity": 37,
          "pressure": 1003,
          "sea_level": 1003,
          "temp": 9.87,
          "temp_kf": 0,
          "temp_max": 9.87,
          "temp_min": 9.87
         },
         "pop": 0.47,
         "rain": {
          "3h": 0.33
         },
         "sys": {
          "pod": "d"
         },
         "visibility": 10000,
         "weather": [
          {
           "description": "light rain",
           "icon": "10d",
           "id": 500,
           "main": "Rain"
          }
         ],
         "wind": {
          "deg": 284,
          "gust": 11.54,
          "speed": 8.01
         }
        },
        {
         "clouds": {
          "all": 89
         },
         "dt": 1649516400,
         "dt_txt": "2022-04-09 15:00:00",
         "main": {
          "feels_like": 5.51,
          "grnd_level": 999,
          "humidity": 49,
          "pressure": 1004,
          "sea_level": 1004,
          "temp": 8.98,
          "temp_kf": 0,
          "temp_max": 8.98,
          "temp_min": 8.98
         },
         "pop": 0.48,
         "rain": {
          "3h": 0.14
         },
         "sys": {
          "pod": "d"
         },
         "visibility": 10000,
         "weather": [
          {
           "description": "light rain",
           "icon": "10d",
           "id": 500,
           "main": "Rain"
          }
         ],
         "wind": {
          "deg": 272,
          "gust": 9.63,
          "speed": 7.4
         }
        },
        {
         "clouds": {
          "all": 94
         },
         "dt": 1649527200,
         "dt_txt": "2022-04-09 18:00:00",
         "main": {
          "feels_like": 1.79,
          "grnd_level": 1002,
          "humidity": 73,
          "pressure": 1007,
          "sea_level": 1007,
          "temp": 5.64,
          "temp_kf": 0,
          "temp_max": 5.64,
          "temp_min": 5.64
         },
         "pop": 1,
         "rain": {
          "3h": 0.76
         },
         "sys": {
          "pod": "n"
         },
         "visibility": 10000,
         "weather": [
          {
           "description": "light rain",
           "icon": "10n",
           "id": 500,
           "main": "Rain"
          }
         ],
         "wind": {
          "deg": 276,
          "gust": 10.45,
          "speed": 5.79
         }
        },
        {
         "clouds": {
          "all": 100
         },
         "dt": 1649538000,
         "dt_txt": "2022-04-09 21:00:00",
         "main": {
          "feels_like": -0.33,
          "grnd_level": 1004,
          "humidity": 74,
          "pressure": 1010,
          "sea_level": 1010,
          "temp": 4,
          "temp_kf": 0,
          "temp_max": 4,
          "temp_min": 4
         },
         "pop": 0.33,
         "rain": {
          "3h": 0.23
         },
         "sys": {
          "pod": "n"
         },
         "visibility": 10000,
         "weather": [
          {
           "description": "light rain",
           "icon": "10n",
           "id": 500,
           "main": "Rain"
          }
         ],
         "wind": {
          "deg": 271,
          "gust": 11.55,
          "speed": 5.91
         }
        },
        {
         "clouds": {
          "all": 69
         },
         "dt": 1649548800,
         "dt_txt": "2022-04-10 00:00:00",
         "main": {
          "feels_like": -2.54,
          "grnd_level": 1005,
          "humidity": 80,
          "pressure": 1011,
          "sea_level": 1011,
          "temp": 2.34,
          "temp_kf": 0,
          "temp_max": 2.34,
          "temp_min": 2.34
         },
         "pop": 0,
         "sys": {
          "pod": "n"
         },
         "visibility": 10000,
         "weather": [
          {
           "description": "broken clouds",
           "icon": "04n",
           "id": 803,
           "main": "Clouds"
          }
         ],
         "wind": {
          "deg": 267,
          "gust": 12.61,
          "speed": 6.13
         }
        },
        {
         "clouds": {
          "all": 14
         },
         "dt": 1649559600,
         "dt_txt": "2022-04-10 03:00:00",
         "main": {
          "feels_like": -3.49,
          "grnd_level": 1006,
          "humidity": 80,
          "pressure": 1012,
          "sea_level": 1012,
          "temp": 1.58,
          "temp_kf": 0,
          "temp_max": 1.58,
          "temp_min": 1.58
         },
         "pop": 0,
         "sys": {
          "pod": "n"
         },
         "visibility": 10000,
         "weather": [
          {
           "description": "few clouds",
           "icon": "02n",
           "id": 801,
           "main": "Clouds"
          }
         ],
         "wind": {
          "deg": 260,
          "gust": 12.95,
          "speed": 6.09
         }
        },
        {
         "clouds": {
          "all": 16
         },
         "dt": 1649570400,
         "dt_txt": "2022-04-10 06:00:00",
         "main": {
          "feels_like": -2.7,
          "grnd_level": 1008,
          "humidity": 79,
          "pressure": 1013,
          "sea_level": 1013,
          "temp": 2.24,
          "temp_kf": 0,
          "temp_max": 2.24,
          "temp_min": 2.24
         },
         "pop": 0,
         "sys": {
          "pod": "d"
         },
         "visibility": 10000,
         "weather": [
          {
           "description": "few clouds",
           "icon": "02d",
           "id": 801,
           "main": "Clouds"
          }
         ],
         "wind": {
          "deg": 263,
          "gust": 13.05,
          "speed": 6.21
         }
        },
        {
         "clouds": {
          "all": 96
         },
         "dt": 1649581200,
         "dt_txt": "2022-04-10 09:00:00",
         "main": {
          "feels_like": -0.28,
          "grnd_level": 1009,
          "humidity": 68,
          "pressure": 1015,
          "sea_level": 1015,
          "temp": 4.32,
          "temp_kf": 0,
          "temp_max": 4.32,
          "temp_min": 4.32
         },
         "pop": 0,
         "sys": {
          "pod": "d"
         },
         "visibility": 10000,
         "weather": [
          {
           "description": "overcast clouds",
           "icon": "04d",
           "id": 804,
           "main": "Clouds"
          }
         ],
         "wind": {
          "deg": 271,
          "gust": 11.41,
          "speed": 6.79
         }
        },
        {
         "clouds": {
          "all": 98
         },
         "dt": 1649592000,
         "dt_txt": "2022-04-10 12:00:00",
         "main": {
          "feels_like": 4.89,
          "grnd_level": 1009,
          "humidity": 49,
          "pressure": 1014,
          "sea_level": 1014,
          "temp": 8.58,
          "temp_kf": 0,
          "temp_max": 8.58,
          "temp_min": 8.58
         },
         "pop": 0.42,
         "rain": {
          "3h": 0.58
         },
         "sys": {
          "pod": "d"
         },
         "visibility": 10000,
         "weather": [
          {
           "description": "light rain",
           "icon": "10d",
           "id": 500,
           "main": "Rain"
          }
         ],
         "wind": {
          "deg": 281,
          "gust": 11.35,
          "speed": 7.78
         }
        },
        {
         "clouds": {
          "all": 95
         },
         "dt": 1649602800,
         "dt_txt": "2022-04-10 15:00:00",
         "main": {
          "feels_like": 6.13,
          "grnd_level": 1010,
          "humidity": 43,
          "pressure": 1015,
          "sea_level": 1015,
          "temp": 9.31,
          "temp_kf": 0,
          "temp_max": 9.31,
          "temp_min": 9.31
         },
         "pop": 0.89,
         "rain": {
          "3h": 0.66
         },
         "sys": {
          "pod": "d"
         },
         "visibility": 10000,
         "weather": [
          {
           "description": "light rain",
           "icon": "10d",
           "id": 500,
           "main": "Rain"
          }
         ],
         "wind": {
          "deg": 290,
          "gust": 10.63,
          "speed": 6.73
         }
        },
        {
         "clouds": {
          "all": 75
         },
         "dt": 1649613600,
         "dt_txt": "2022-04-10 18:00:00",
         "main": {
          "feels_like": 3.26,
          "grnd_level": 1012,
          "humidity": 53,
          "pressure": 1017,
          "sea_level": 1017,
          "temp": 6.15,
          "temp_kf": 0,
          "temp_max": 6.15,
          "temp_min": 6.15
         },
         "pop": 0.78,
         "rain": {
          "3h": 0.3
         },
         "sys": {
          "pod": "n"
         },
         "visibility": 10000,
         "weather": [
          {
           "description": "light rain",
           "icon": "10n",
           "id": 500,
           "main": "Rain"
          }
         ],
         "wind": {
          "deg": 299,
          "gust": 9.41,
          "speed": 4.03
         }
        },
        {
         "clouds": {
          "all": 5
         },
         "dt": 1649624400,
         "dt_txt": "2022-04-10 21:00:00",
         "main": {
          "feels_like": -0.17,
          "grnd_level": 1014,
          "humidity": 62,
          "pressure": 1019,
          "sea_level": 1019,
          "temp": 3.51,
          "temp_kf": 0,
          "temp_max": 3.51,
          "temp_min": 3.51
         },
         "pop": 0,
         "sys": {
          "pod": "n"
         },
         "visibility": 10000,
         "weather": [
          {
           "description": "clear sky",
           "icon": "01n",
           "id": 800,
           "main": "Clear"
          }
         ],
         "wind": {
          "deg": 281,
          "gust": 10.57,
          "speed": 4.34
         }
        },
        {
         "clouds": {
          "all": 4
         },
         "dt": 1649635200,
         "dt_txt": "2022-04-11 00:00:00",
         "main": {
          "feels_like": -2.43,
          "grnd_level": 1015,
          "humidity": 71,
          "pressure": 1020,
          "sea_level": 1020,
          "temp": 1.75,
          "temp_kf": 0,
          "temp_max": 1.75,
          "temp_min": 1.75
         },
         "pop": 0,
         "sys": {
          "pod": "n"
         },
         "visibility": 10000,
         "weather": [
          {
           "description": "clear sky",
           "icon": "01n",
           "id": 800,
           "main": "Clear"
          }
         ],
         "wind": {
          "deg": 279,
          "gust": 10.9,
          "speed": 4.47
         }
        },
        {
         "clouds": {
          "all": 2
         },
         "dt": 1649646000,
         "dt_txt": "2022-04-11 03:00:00",
         "main": {
          "feels_like": -3.58,
          "grnd_level": 1016,
          "humidity": 81,
          "pressure": 1021,
          "sea_level": 1021,
          "temp": 0.49,
          "temp_kf": 0,
          "temp_max": 0.49,
          "temp_min": 0.49
         },
         "pop": 0,
         "sys": {
          "pod": "n"
         },
         "visibility": 10000,
         "weather": [
          {
           "description": "clear sky",
           "icon": "01n",
           "id": 800,
           "main": "Clear"
          }
         ],
         "wind": {
          "deg": 282,
          "gust": 10.18,
          "speed": 3.86
         }
        },
        {
         "clouds": {
          "all": 3
         },
         "dt": 1649656800,
         "dt_txt": "2022-04-11 06:00:00",
         "main": {
          "feels_like": -2.45,
          "grnd_level": 1017,
          "humidity": 77,
          "pressure": 1022,
          "sea_level": 1022,
          "temp": 1.42,
          "temp_kf": 0,
          "temp_max": 1.42,
          "temp_min": 1.42
         },
         "pop": 0,
         "sys": {
          "pod": "d"
         },
         "visibility": 10000,
         "weather": [
          {
           "description": "clear sky",
           "icon": "01d",
           "id": 800,
           "main": "Clear"
          }
         ],
         "wind": {
          "deg": 294,
          "gust": 8.02,
          "speed": 3.87
         }
        },
        {
         "clouds": {
          "all": 5
         },
         "dt": 1649667600,
         "dt_txt": "2022-04-11 09:00:00",
         "main": {
          "feels_like": 3.99,
          "grnd_level": 1017,
          "humidity": 45,
          "pressure": 1023,
          "sea_level": 1023,
          "temp": 6.79,
          "temp_kf": 0,
          "temp_max": 6.79,
          "temp_min": 6.79
         },
         "pop": 0,
         "sys": {
          "pod": "d"
         },
         "visibility": 10000,
         "weather": [
          {
           "description": "clear sky",
           "icon": "01d",
           "id": 800,
           "main": "Clear"
          }
         ],
         "wind": {
          "deg": 311,
          "gust": 6.07,
          "speed": 4.13
         }
        },
        {
         "clouds": {
          "all": 9
         },
         "dt": 1649678400,
         "dt_txt": "2022-04-11 12:00:00",
         "main": {
          "feels_like": 7.7,
          "grnd_level": 1017,
          "humidity": 30,
          "pressure": 1022,
          "sea_level": 1022,
          "temp": 9.99,
          "temp_kf": 0,
          "temp_max": 9.99,
          "temp_min": 9.99
         },
         "pop": 0,
         "sys": {
          "pod": "d"
         },
         "visibility": 10000,
         "weather": [
          {
           "description": "clear sky",
           "icon": "01d",
           "id": 800,
           "main": "Clear"
          }
         ],
         "wind": {
          "deg": 313,
          "gust": 5.98,
          "speed": 4.67
         }
        },
        {
         "clouds": {
          "all": 95
         },
         "dt": 1649689200,
         "dt_txt": "2022-04-11 15:00:00",
         "main": {
          "feels_like": 8.19,
          "grnd_level": 1017,
          "humidity": 29,
          "pressure": 1022,
          "sea_level": 1022,
          "temp": 10.34,
          "temp_kf": 0,
          "temp_max": 10.34,
          "temp_min": 10.34
         },
         "pop": 0,
         "sys": {
          "pod": "d"
         },
         "visibility": 10000,
         "weather": [
          {
           "description": "overcast clouds",
           "icon": "04d",
           "id": 804,
           "main": "Clouds"
          }
         ],
         "wind": {
          "deg": 319,
          "gust": 5.19,
          "speed": 4.48
         }
        },
        {
         "clouds": {
          "all": 85
         },
         "dt": 1649700000,
         "dt_txt": "2022-04-11 18:00:00",
         "main": {
          "feels_like": 5.25,
          "grnd_level": 1017,
          "humidity": 46,
          "pressure": 1023,
          "sea_level": 1023,
          "temp": 6.97,
          "temp_kf": 0,
          "temp_max": 6.97,
          "temp_min": 6.97
         },
         "pop": 0,
         "sys": {
          "pod": "n"
         },
         "visibility": 10000,
         "weather": [
          {
           "description": "overcast clouds",
           "icon": "04n",
           "id": 804,
           "main": "Clouds"
          }
         ],
         "wind": {
          "deg": 354,
          "gust": 4.82,
          "speed": 2.48
         }
        },
        {
         "clouds": {
          "all": 29
         },
         "dt": 1649710800,
         "dt_txt": "2022-04-11 21:00:00",
         "main": {
          "feels_like": 3.1,
          "grnd_level": 1018,
          "humidity": 55,
          "pressure": 1024,
          "sea_level": 1024,
          "temp": 4.32,
          "temp_kf": 0,
          "temp_max": 4.32,
          "temp_min": 4.32
         },
         "pop": 0,
         "sys": {
          "pod": "n"
         },
         "visibility": 10000,
         "weather": [
          {
           "description": "scattered clouds",
           "icon": "03n",
           "id": 802,
           "main": "Clouds"
          }
         ],
         "wind": {
          "deg": 37,
          "gust": 2.93,
          "speed": 1.55
         }
        },
        {
         "clouds": {
          "all": 28
         },
         "dt": 1649721600,
         "dt_txt": "2022-04-12 00:00:00",
         "main": {
          "feels_like": 3.04,
          "grnd_level": 1019,
          "humidity": 61,
          "pressure": 1024,
          "sea_level": 1024,
          "temp": 3.04,
          "temp_kf": 0,
          "temp_max": 3.04,
          "temp_min": 3.04
         },
         "pop": 0,
         "sys": {
          "pod": "n"
         },
         "visibility": 10000,
         "weather": [
          {
           "description": "scattered clouds",
           "icon": "03n",
           "id": 802,
           "main": "Clouds"
          }
         ],
         "wind": {
          "deg": 35,
          "gust": 1.65,
          "speed": 1.19
         }
        },
        {
         "clouds": {
          "all": 87
         },
         "dt": 1649732400,
         "dt_txt": "2022-04-12 03:00:00",
         "main": {
          "feels_like": 2.33,
          "grnd_level": 1019,
          "humidity": 64,
          "pressure": 1025,
          "sea_level": 1025,
          "temp": 2.33,
          "temp_kf": 0,
          "temp_max": 2.33,
          "temp_min": 2.33
         },
         "pop": 0,
         "sys": {
          "pod": "n"
         },
         "visibility": 10000,
         "weather": [
          {
           "description": "overcast clouds",
           "icon": "04n",
           "id": 804,
           "main": "Clouds"
          }
         ],
         "wind": {
          "deg": 41,
          "gust": 1.57,
          "speed": 1.3
         }
        },
        {
         "clouds": {
          "all": 56
         },
         "dt": 1649743200,
         "dt_txt": "2022-04-12 06:00:00",
         "main": {
          "feels_like": 2.35,
          "grnd_level": 1020,
          "humidity": 59,
          "pressure": 1026,
          "sea_level": 1026,
          "temp": 3.64,
          "temp_kf": 0,
          "temp_max": 3.64,
          "temp_min": 3.64
         },
         "pop": 0,
         "sys": {
          "pod": "d"
         },
         "visibility": 10000,
         "weather": [
          {
           "description": "broken clouds",
           "icon": "04d",
           "id": 803,
           "main": "Clouds"
          }
         ],
         "wind": {
          "deg": 66,
          "gust": 2.31,
          "speed": 1.53
         }
        }
       ],
       "message": 0
      },
      "text/plain": [
       "<IPython.core.display.JSON object>"
      ]
     },
     "execution_count": 43,
     "metadata": {
      "application/json": {
       "expanded": false,
       "root": "root"
      }
     },
     "output_type": "execute_result"
    }
   ],
   "source": [
    "# achieve the same result with the wather api\n",
    "#response = requests.get(f'http://api.openweathermap.org/data/2.5/forecast/?q={city},{country}&appid={OWM_key}&units=metric&lang=en')\n",
    "#response\n",
    "#from IPython.display import JSON\n",
    "#JSON(response.json())"
   ]
  },
  {
   "cell_type": "code",
   "execution_count": 45,
   "id": "38359d0d-25a6-4a76-8a4f-2469becd62db",
   "metadata": {},
   "outputs": [
    {
     "data": {
      "text/html": [
       "<div>\n",
       "<style scoped>\n",
       "    .dataframe tbody tr th:only-of-type {\n",
       "        vertical-align: middle;\n",
       "    }\n",
       "\n",
       "    .dataframe tbody tr th {\n",
       "        vertical-align: top;\n",
       "    }\n",
       "\n",
       "    .dataframe thead th {\n",
       "        text-align: right;\n",
       "    }\n",
       "</style>\n",
       "<table border=\"1\" class=\"dataframe\">\n",
       "  <thead>\n",
       "    <tr style=\"text-align: right;\">\n",
       "      <th></th>\n",
       "      <th>datetime</th>\n",
       "      <th>temperature</th>\n",
       "      <th>wind</th>\n",
       "      <th>prob_perc</th>\n",
       "      <th>rain_qty</th>\n",
       "      <th>snow</th>\n",
       "      <th>municipality_iso_country</th>\n",
       "    </tr>\n",
       "  </thead>\n",
       "  <tbody>\n",
       "    <tr>\n",
       "      <th>0</th>\n",
       "      <td>2022-04-07 09:00:00</td>\n",
       "      <td>12.41</td>\n",
       "      <td>9.11</td>\n",
       "      <td>0.20</td>\n",
       "      <td>0.15</td>\n",
       "      <td>0</td>\n",
       "      <td>Berlin,DE</td>\n",
       "    </tr>\n",
       "    <tr>\n",
       "      <th>1</th>\n",
       "      <td>2022-04-07 12:00:00</td>\n",
       "      <td>12.17</td>\n",
       "      <td>10.22</td>\n",
       "      <td>0.41</td>\n",
       "      <td>0.47</td>\n",
       "      <td>0</td>\n",
       "      <td>Berlin,DE</td>\n",
       "    </tr>\n",
       "    <tr>\n",
       "      <th>2</th>\n",
       "      <td>2022-04-07 15:00:00</td>\n",
       "      <td>10.66</td>\n",
       "      <td>8.59</td>\n",
       "      <td>1.00</td>\n",
       "      <td>3.10</td>\n",
       "      <td>0</td>\n",
       "      <td>Berlin,DE</td>\n",
       "    </tr>\n",
       "    <tr>\n",
       "      <th>3</th>\n",
       "      <td>2022-04-07 18:00:00</td>\n",
       "      <td>8.68</td>\n",
       "      <td>8.93</td>\n",
       "      <td>1.00</td>\n",
       "      <td>0.19</td>\n",
       "      <td>0</td>\n",
       "      <td>Berlin,DE</td>\n",
       "    </tr>\n",
       "    <tr>\n",
       "      <th>4</th>\n",
       "      <td>2022-04-07 21:00:00</td>\n",
       "      <td>7.37</td>\n",
       "      <td>9.75</td>\n",
       "      <td>0.27</td>\n",
       "      <td>0.16</td>\n",
       "      <td>0</td>\n",
       "      <td>Berlin,DE</td>\n",
       "    </tr>\n",
       "  </tbody>\n",
       "</table>\n",
       "</div>"
      ],
      "text/plain": [
       "              datetime  temperature   wind  prob_perc  rain_qty  snow  \\\n",
       "0  2022-04-07 09:00:00        12.41   9.11       0.20      0.15     0   \n",
       "1  2022-04-07 12:00:00        12.17  10.22       0.41      0.47     0   \n",
       "2  2022-04-07 15:00:00        10.66   8.59       1.00      3.10     0   \n",
       "3  2022-04-07 18:00:00         8.68   8.93       1.00      0.19     0   \n",
       "4  2022-04-07 21:00:00         7.37   9.75       0.27      0.16     0   \n",
       "\n",
       "  municipality_iso_country  \n",
       "0                Berlin,DE  \n",
       "1                Berlin,DE  \n",
       "2                Berlin,DE  \n",
       "3                Berlin,DE  \n",
       "4                Berlin,DE  "
      ]
     },
     "execution_count": 45,
     "metadata": {},
     "output_type": "execute_result"
    }
   ],
   "source": [
    "forecast_api = response.json()['list']\n",
    "# look for the fields that could ve relevant: \n",
    "# better field descriptions https://www.weatherbit.io/api/weather-forecast-5-day\n",
    "\n",
    "weather_info=[]\n",
    "\n",
    "# datetime, temperature, wind, prob_perc, rain_qty, snow = [], [], [], [], [], []\n",
    "for forecast_3h in forecast_api: \n",
    "    weather_hour = {}\n",
    "    # datetime utc\n",
    "    weather_hour['datetime'] = forecast_3h['dt_txt']\n",
    "    # temperature \n",
    "    weather_hour['temperature'] = forecast_3h['main']['temp']\n",
    "    # wind\n",
    "    weather_hour['wind'] = forecast_3h['wind']['speed']\n",
    "    # probability precipitation \n",
    "    try: weather_hour['prob_perc'] = float(forecast_3h['pop'])\n",
    "    except: weather_hour['prob_perc'] = 0\n",
    "    # rain\n",
    "    try: weather_hour['rain_qty'] = float(forecast_3h['rain']['3h'])\n",
    "    except: weather_hour['rain_qty'] = 0\n",
    "    # wind \n",
    "    try: weather_hour['snow'] = float(forecast_3h['snow']['3h'])\n",
    "    except: weather_hour['snow'] = 0\n",
    "    weather_hour['municipality_iso_country'] = city + ',' + country\n",
    "    weather_info.append(weather_hour)\n",
    "    \n",
    "weather_data = pd.DataFrame(weather_info)\n",
    "weather_data.head()"
   ]
  },
  {
   "cell_type": "markdown",
   "id": "223ced61-266e-4357-98da-39d8913d90d8",
   "metadata": {},
   "source": [
    "Population data (Beautiful Soup)"
   ]
  },
  {
   "cell_type": "code",
   "execution_count": 46,
   "id": "39886116-8a42-4bf0-aa97-375682413e64",
   "metadata": {},
   "outputs": [
    {
     "data": {
      "text/html": [
       "<div>\n",
       "<style scoped>\n",
       "    .dataframe tbody tr th:only-of-type {\n",
       "        vertical-align: middle;\n",
       "    }\n",
       "\n",
       "    .dataframe tbody tr th {\n",
       "        vertical-align: top;\n",
       "    }\n",
       "\n",
       "    .dataframe thead th {\n",
       "        text-align: right;\n",
       "    }\n",
       "</style>\n",
       "<table border=\"1\" class=\"dataframe\">\n",
       "  <thead>\n",
       "    <tr style=\"text-align: right;\">\n",
       "      <th></th>\n",
       "      <th>city</th>\n",
       "      <th>mayor</th>\n",
       "      <th>city_size</th>\n",
       "      <th>elevation</th>\n",
       "      <th>city_population</th>\n",
       "      <th>urban_population</th>\n",
       "      <th>metro_population</th>\n",
       "      <th>lat</th>\n",
       "      <th>long</th>\n",
       "    </tr>\n",
       "  </thead>\n",
       "  <tbody>\n",
       "    <tr>\n",
       "      <th>0</th>\n",
       "      <td>Berlin</td>\n",
       "      <td>Franziska Giffey (SPD)</td>\n",
       "      <td>891.7 km2 (344.3 sq mi)</td>\n",
       "      <td>34 m (112 ft)</td>\n",
       "      <td>3,769,495</td>\n",
       "      <td>4,473,101</td>\n",
       "      <td>6,144,600</td>\n",
       "      <td>52°31′12″N</td>\n",
       "      <td>13°24′18″E</td>\n",
       "    </tr>\n",
       "    <tr>\n",
       "      <th>1</th>\n",
       "      <td>Paris</td>\n",
       "      <td>Anne Hidalgo (PS)</td>\n",
       "      <td>NaN</td>\n",
       "      <td>28–131 m (92–430 ft) (avg. 78 m or 256 ft)</td>\n",
       "      <td>2,165,423</td>\n",
       "      <td>10,785,092</td>\n",
       "      <td>13,024,518</td>\n",
       "      <td>48°51′24″N</td>\n",
       "      <td>2°21′08″E</td>\n",
       "    </tr>\n",
       "    <tr>\n",
       "      <th>2</th>\n",
       "      <td>Amsterdam</td>\n",
       "      <td>Femke Halsema (GL)</td>\n",
       "      <td>NaN</td>\n",
       "      <td>−2 m (−7 ft)</td>\n",
       "      <td>905,234</td>\n",
       "      <td>1,558,755</td>\n",
       "      <td>NaN</td>\n",
       "      <td>52°22′N</td>\n",
       "      <td>4°54′E</td>\n",
       "    </tr>\n",
       "    <tr>\n",
       "      <th>3</th>\n",
       "      <td>Barcelona</td>\n",
       "      <td>Ada Colau Ballano[1] (Barcelona en Comú)</td>\n",
       "      <td>101.4 km2 (39.2 sq mi)</td>\n",
       "      <td>12 m (39 ft)</td>\n",
       "      <td>1,620,343</td>\n",
       "      <td>4,840,000[3]</td>\n",
       "      <td>5,474,482[4]</td>\n",
       "      <td>41°23′N</td>\n",
       "      <td>2°11′E</td>\n",
       "    </tr>\n",
       "    <tr>\n",
       "      <th>4</th>\n",
       "      <td>Rome</td>\n",
       "      <td>Strong Mayor–Council</td>\n",
       "      <td>4,342,212[2]</td>\n",
       "      <td>21 m (69 ft)</td>\n",
       "      <td>1st in Italy (3rd in the EU)</td>\n",
       "      <td>NaN</td>\n",
       "      <td>Rome Capital</td>\n",
       "      <td>41°53′36″N</td>\n",
       "      <td>12°28′58″E</td>\n",
       "    </tr>\n",
       "    <tr>\n",
       "      <th>5</th>\n",
       "      <td>Lisbon</td>\n",
       "      <td>Carlos Moedas</td>\n",
       "      <td>NaN</td>\n",
       "      <td>2 m (7 ft)</td>\n",
       "      <td>544,851[1]</td>\n",
       "      <td>2,719,000[4]</td>\n",
       "      <td>2,871,133[2][3]</td>\n",
       "      <td>38°43′31″N</td>\n",
       "      <td>9°09′00″W</td>\n",
       "    </tr>\n",
       "    <tr>\n",
       "      <th>6</th>\n",
       "      <td>Prague</td>\n",
       "      <td>Zdeněk Hřib (Pirates)</td>\n",
       "      <td>NaN</td>\n",
       "      <td>NaN</td>\n",
       "      <td>1,335,084</td>\n",
       "      <td>NaN</td>\n",
       "      <td>2,709,418[4]</td>\n",
       "      <td>50°5′N</td>\n",
       "      <td>14°25′E</td>\n",
       "    </tr>\n",
       "    <tr>\n",
       "      <th>7</th>\n",
       "      <td>Vienna</td>\n",
       "      <td>Michael Ludwig (SPÖ)</td>\n",
       "      <td>NaN</td>\n",
       "      <td>151 (Lobau) – 542 (Hermannskogel) m (495–1,778...</td>\n",
       "      <td>1st in Austria (6th in EU)</td>\n",
       "      <td>1,911,191 (01−01−20)</td>\n",
       "      <td>2,600,000</td>\n",
       "      <td>48°12′N</td>\n",
       "      <td>16°22′E</td>\n",
       "    </tr>\n",
       "    <tr>\n",
       "      <th>8</th>\n",
       "      <td>Madrid</td>\n",
       "      <td>José Luis Martínez-Almeida (PP)</td>\n",
       "      <td>NaN</td>\n",
       "      <td>650 m (2,130 ft)</td>\n",
       "      <td>3,223,334</td>\n",
       "      <td>6,345,000 (2,019)[3]</td>\n",
       "      <td>6,791,667 (2,018)[2]</td>\n",
       "      <td>40°25′N</td>\n",
       "      <td>3°43′W</td>\n",
       "    </tr>\n",
       "  </tbody>\n",
       "</table>\n",
       "</div>"
      ],
      "text/plain": [
       "        city                                      mayor  \\\n",
       "0     Berlin                     Franziska Giffey (SPD)   \n",
       "1      Paris                          Anne Hidalgo (PS)   \n",
       "2  Amsterdam                         Femke Halsema (GL)   \n",
       "3  Barcelona  Ada Colau Ballano[1] (Barcelona en Comú)   \n",
       "4       Rome                       Strong Mayor–Council   \n",
       "5     Lisbon                              Carlos Moedas   \n",
       "6     Prague                    Zdeněk Hřib (Pirates)   \n",
       "7     Vienna                      Michael Ludwig (SPÖ)   \n",
       "8     Madrid          José Luis Martínez-Almeida (PP)   \n",
       "\n",
       "                 city_size                                          elevation  \\\n",
       "0  891.7 km2 (344.3 sq mi)                                      34 m (112 ft)   \n",
       "1                      NaN         28–131 m (92–430 ft) (avg. 78 m or 256 ft)   \n",
       "2                      NaN                                       −2 m (−7 ft)   \n",
       "3   101.4 km2 (39.2 sq mi)                                       12 m (39 ft)   \n",
       "4             4,342,212[2]                                       21 m (69 ft)   \n",
       "5                      NaN                                         2 m (7 ft)   \n",
       "6                      NaN                                                NaN   \n",
       "7                      NaN  151 (Lobau) – 542 (Hermannskogel) m (495–1,778...   \n",
       "8                      NaN                                   650 m (2,130 ft)   \n",
       "\n",
       "                city_population      urban_population      metro_population  \\\n",
       "0                     3,769,495             4,473,101             6,144,600   \n",
       "1                     2,165,423            10,785,092            13,024,518   \n",
       "2                       905,234             1,558,755                   NaN   \n",
       "3                     1,620,343          4,840,000[3]          5,474,482[4]   \n",
       "4  1st in Italy (3rd in the EU)                   NaN          Rome Capital   \n",
       "5                    544,851[1]          2,719,000[4]       2,871,133[2][3]   \n",
       "6                     1,335,084                   NaN          2,709,418[4]   \n",
       "7    1st in Austria (6th in EU)  1,911,191 (01−01−20)             2,600,000   \n",
       "8                     3,223,334  6,345,000 (2,019)[3]  6,791,667 (2,018)[2]   \n",
       "\n",
       "          lat        long  \n",
       "0  52°31′12″N  13°24′18″E  \n",
       "1  48°51′24″N   2°21′08″E  \n",
       "2     52°22′N      4°54′E  \n",
       "3     41°23′N      2°11′E  \n",
       "4  41°53′36″N  12°28′58″E  \n",
       "5  38°43′31″N   9°09′00″W  \n",
       "6      50°5′N     14°25′E  \n",
       "7     48°12′N     16°22′E  \n",
       "8     40°25′N      3°43′W  "
      ]
     },
     "execution_count": 46,
     "metadata": {},
     "output_type": "execute_result"
    }
   ],
   "source": [
    "import requests\n",
    "import bs4\n",
    "from bs4 import BeautifulSoup as bs\n",
    "import pandas as pd\n",
    "import unicodedata\n",
    "\n",
    "# cities = ['Berlin', 'Hamburg', 'Frankfurt','Munich','Stuttgart','Leipzig','Cologne','Dresden','Hannover','Paris', 'Barcelona','Lisbon','Madrid']\n",
    "cities = ['Berlin','Paris','Amsterdam','Barcelona','Rome','Lisbon','Prague','Vienna','Madrid']\n",
    "\n",
    "def City_info(soup):\n",
    "    \n",
    "    ret_dict = {}\n",
    "    ret_dict['city'] = soup.h1.get_text()\n",
    "    \n",
    "    \n",
    "    if soup.select_one('.mergedrow:-soup-contains(\"Mayor\")>.infobox-label') != None:\n",
    "        i = soup.select_one('.mergedrow:-soup-contains(\"Mayor\")>.infobox-label')\n",
    "        mayor_name_html = i.find_next_sibling()\n",
    "        mayor_name = unicodedata.normalize('NFKD',mayor_name_html.get_text())\n",
    "        ret_dict['mayor']  = mayor_name\n",
    "    \n",
    "    if soup.select_one('.mergedrow:-soup-contains(\"City\")>.infobox-label') != None:\n",
    "        j =  soup.select_one('.mergedrow:-soup-contains(\"City\")>.infobox-label')\n",
    "        area = j.find_next_sibling('td').get_text()\n",
    "        ret_dict['city_size'] = unicodedata.normalize('NFKD',area)\n",
    "\n",
    "    if soup.select_one('.mergedtoprow:-soup-contains(\"Elevation\")>.infobox-data') != None:\n",
    "        k = soup.select_one('.mergedtoprow:-soup-contains(\"Elevation\")>.infobox-data')\n",
    "        elevation_html = k.get_text()\n",
    "        ret_dict['elevation'] = unicodedata.normalize('NFKD',elevation_html)\n",
    "    \n",
    "    if soup.select_one('.mergedtoprow:-soup-contains(\"Population\")') != None:\n",
    "        l = soup.select_one('.mergedtoprow:-soup-contains(\"Population\")')\n",
    "        c_pop = l.findNext('td').get_text()\n",
    "        ret_dict['city_population'] = c_pop\n",
    "    \n",
    "    if soup.select_one('.infobox-label>[title^=Urban]') != None:\n",
    "        m = soup.select_one('.infobox-label>[title^=Urban]')\n",
    "        u_pop = m.findNext('td')\n",
    "        ret_dict['urban_population'] = u_pop.get_text()\n",
    "\n",
    "    if soup.select_one('.infobox-label>[title^=Metro]') != None:\n",
    "        n = soup.select_one('.infobox-label>[title^=Metro]')\n",
    "        m_pop = n.findNext('td')\n",
    "        ret_dict['metro_population'] = m_pop.get_text()\n",
    "    \n",
    "    if soup.select_one('.latitude') != None:\n",
    "        o = soup.select_one('.latitude')\n",
    "        ret_dict['lat'] = o.get_text()\n",
    "\n",
    "    if soup.select_one('.longitude') != None:    \n",
    "        p = soup.select_one('.longitude')\n",
    "        ret_dict['long'] = p.get_text()\n",
    "    \n",
    "    return ret_dict\n",
    "\n",
    "list_of_city_info = []\n",
    "for city in cities:\n",
    "    url = 'https://en.wikipedia.org/wiki/{}'.format(city)\n",
    "    web = requests.get(url,'html.parser')\n",
    "    soup = bs(web.content)\n",
    "    list_of_city_info.append(City_info(soup))\n",
    "df_cities = pd.DataFrame(list_of_city_info)\n",
    "# df_cities = df_cities.set_index('city')\n",
    "df_cities"
   ]
  },
  {
   "cell_type": "markdown",
   "id": "53c8081b-545c-4558-981b-93581aa07309",
   "metadata": {},
   "source": [
    " Airports data (Imported)"
   ]
  },
  {
   "cell_type": "code",
   "execution_count": 47,
   "id": "15b388c0-a605-4234-a415-ee16da024587",
   "metadata": {},
   "outputs": [
    {
     "data": {
      "text/html": [
       "<div>\n",
       "<style scoped>\n",
       "    .dataframe tbody tr th:only-of-type {\n",
       "        vertical-align: middle;\n",
       "    }\n",
       "\n",
       "    .dataframe tbody tr th {\n",
       "        vertical-align: top;\n",
       "    }\n",
       "\n",
       "    .dataframe thead th {\n",
       "        text-align: right;\n",
       "    }\n",
       "</style>\n",
       "<table border=\"1\" class=\"dataframe\">\n",
       "  <thead>\n",
       "    <tr style=\"text-align: right;\">\n",
       "      <th></th>\n",
       "      <th>name</th>\n",
       "      <th>latitude_deg</th>\n",
       "      <th>longitude_deg</th>\n",
       "      <th>iso_country</th>\n",
       "      <th>iso_region</th>\n",
       "      <th>municipality</th>\n",
       "      <th>icao_code</th>\n",
       "      <th>iata_code</th>\n",
       "      <th>municipality_iso_country</th>\n",
       "    </tr>\n",
       "  </thead>\n",
       "  <tbody>\n",
       "    <tr>\n",
       "      <th>10890</th>\n",
       "      <td>Honiara International Airport</td>\n",
       "      <td>-9.428000</td>\n",
       "      <td>160.054993</td>\n",
       "      <td>SB</td>\n",
       "      <td>SB-CT</td>\n",
       "      <td>Honiara</td>\n",
       "      <td>AGGH</td>\n",
       "      <td>HIR</td>\n",
       "      <td>Honiara,SB</td>\n",
       "    </tr>\n",
       "    <tr>\n",
       "      <th>12461</th>\n",
       "      <td>Port Moresby Jacksons International Airport</td>\n",
       "      <td>-9.443380</td>\n",
       "      <td>147.220001</td>\n",
       "      <td>PG</td>\n",
       "      <td>PG-NCD</td>\n",
       "      <td>Port Moresby</td>\n",
       "      <td>AYPY</td>\n",
       "      <td>POM</td>\n",
       "      <td>Port Moresby,PG</td>\n",
       "    </tr>\n",
       "    <tr>\n",
       "      <th>12981</th>\n",
       "      <td>Keflavik International Airport</td>\n",
       "      <td>63.985001</td>\n",
       "      <td>-22.605600</td>\n",
       "      <td>IS</td>\n",
       "      <td>IS-2</td>\n",
       "      <td>Reykjavík</td>\n",
       "      <td>BIKF</td>\n",
       "      <td>KEF</td>\n",
       "      <td>Reykjavík,IS</td>\n",
       "    </tr>\n",
       "    <tr>\n",
       "      <th>13028</th>\n",
       "      <td>Priština Adem Jashari International Airport</td>\n",
       "      <td>42.572800</td>\n",
       "      <td>21.035801</td>\n",
       "      <td>XK</td>\n",
       "      <td>XK-01</td>\n",
       "      <td>Prishtina</td>\n",
       "      <td>BKPR</td>\n",
       "      <td>PRN</td>\n",
       "      <td>Prishtina,XK</td>\n",
       "    </tr>\n",
       "    <tr>\n",
       "      <th>17254</th>\n",
       "      <td>Guodu Air Base</td>\n",
       "      <td>36.001741</td>\n",
       "      <td>117.632010</td>\n",
       "      <td>CN</td>\n",
       "      <td>CN-37</td>\n",
       "      <td>Xintai, Tai'an</td>\n",
       "      <td>NaN</td>\n",
       "      <td>NaN</td>\n",
       "      <td>Xintai, Tai'an,CN</td>\n",
       "    </tr>\n",
       "  </tbody>\n",
       "</table>\n",
       "</div>"
      ],
      "text/plain": [
       "                                              name  latitude_deg  \\\n",
       "10890                Honiara International Airport     -9.428000   \n",
       "12461  Port Moresby Jacksons International Airport     -9.443380   \n",
       "12981               Keflavik International Airport     63.985001   \n",
       "13028  Priština Adem Jashari International Airport     42.572800   \n",
       "17254                               Guodu Air Base     36.001741   \n",
       "\n",
       "       longitude_deg iso_country iso_region    municipality icao_code  \\\n",
       "10890     160.054993          SB      SB-CT         Honiara      AGGH   \n",
       "12461     147.220001          PG     PG-NCD    Port Moresby      AYPY   \n",
       "12981     -22.605600          IS       IS-2       Reykjavík      BIKF   \n",
       "13028      21.035801          XK      XK-01       Prishtina      BKPR   \n",
       "17254     117.632010          CN      CN-37  Xintai, Tai'an       NaN   \n",
       "\n",
       "      iata_code municipality_iso_country  \n",
       "10890       HIR               Honiara,SB  \n",
       "12461       POM          Port Moresby,PG  \n",
       "12981       KEF             Reykjavík,IS  \n",
       "13028       PRN             Prishtina,XK  \n",
       "17254       NaN        Xintai, Tai'an,CN  "
      ]
     },
     "execution_count": 47,
     "metadata": {},
     "output_type": "execute_result"
    }
   ],
   "source": [
    "import pandas as pd\n",
    "\n",
    "airports_cities = (\n",
    "pd.read_csv('airports.csv')\n",
    "    .query('type == \"large_airport\"')\n",
    "    .filter(['name','latitude_deg','longitude_deg','iso_country','iso_region','municipality','gps_code','iata_code'])\n",
    "    .rename(columns={'gps_code':'icao_code'})\n",
    "    .assign(municipality_iso_country = lambda x: x['municipality'] + ',' + x['iso_country'])\n",
    ")\n",
    "airports_cities.head()"
   ]
  },
  {
   "cell_type": "code",
   "execution_count": null,
   "id": "8ea3def6-eb92-4c58-b8fb-93a2d211eb5a",
   "metadata": {},
   "outputs": [],
   "source": [
    "airports_cities.query('municipality == \"Berlin\"')"
   ]
  },
  {
   "cell_type": "markdown",
   "id": "a0ad5947-6172-43fc-9f0a-3789a4b1fb8e",
   "metadata": {},
   "source": [
    "Check all tables"
   ]
  },
  {
   "cell_type": "code",
   "execution_count": null,
   "id": "c71d669a-9948-4d1a-bbec-54500a880c7b",
   "metadata": {},
   "outputs": [],
   "source": [
    "arrivals_berlin.head()"
   ]
  },
  {
   "cell_type": "code",
   "execution_count": null,
   "id": "006cf4d7-48a6-4b28-983b-45122f8fb676",
   "metadata": {},
   "outputs": [],
   "source": [
    "arrivals_berlin.info()"
   ]
  },
  {
   "cell_type": "code",
   "execution_count": null,
   "id": "5fb0d69c-c8e7-4169-aaaf-e12b58e7e5dd",
   "metadata": {},
   "outputs": [],
   "source": [
    "weather_data.head()"
   ]
  },
  {
   "cell_type": "code",
   "execution_count": null,
   "id": "12885cc9-d0fa-49d8-a8bf-5ef45af099dc",
   "metadata": {},
   "outputs": [],
   "source": [
    "weather_data.info()"
   ]
  },
  {
   "cell_type": "code",
   "execution_count": null,
   "id": "cf4a24c4-40dc-4e58-9f98-acaad796c180",
   "metadata": {},
   "outputs": [],
   "source": [
    "airports_cities.head()"
   ]
  },
  {
   "cell_type": "code",
   "execution_count": null,
   "id": "f0b4501f-ce0b-47d0-846d-4132a7ab5c90",
   "metadata": {},
   "outputs": [],
   "source": [
    "airports_cities.info()"
   ]
  },
  {
   "cell_type": "markdown",
   "id": "ea6b8acb",
   "metadata": {},
   "source": [
    "Clean table cities"
   ]
  },
  {
   "cell_type": "code",
   "execution_count": 55,
   "id": "92f3a58b-18df-4556-821b-e526ba3fe34b",
   "metadata": {},
   "outputs": [
    {
     "data": {
      "text/html": [
       "<div>\n",
       "<style scoped>\n",
       "    .dataframe tbody tr th:only-of-type {\n",
       "        vertical-align: middle;\n",
       "    }\n",
       "\n",
       "    .dataframe tbody tr th {\n",
       "        vertical-align: top;\n",
       "    }\n",
       "\n",
       "    .dataframe thead th {\n",
       "        text-align: right;\n",
       "    }\n",
       "</style>\n",
       "<table border=\"1\" class=\"dataframe\">\n",
       "  <thead>\n",
       "    <tr style=\"text-align: right;\">\n",
       "      <th></th>\n",
       "      <th>municipality</th>\n",
       "      <th>iso_country</th>\n",
       "      <th>municipality_iso_country</th>\n",
       "    </tr>\n",
       "  </thead>\n",
       "  <tbody>\n",
       "    <tr>\n",
       "      <th>10890</th>\n",
       "      <td>Honiara</td>\n",
       "      <td>SB</td>\n",
       "      <td>Honiara,SB</td>\n",
       "    </tr>\n",
       "    <tr>\n",
       "      <th>12461</th>\n",
       "      <td>Port Moresby</td>\n",
       "      <td>PG</td>\n",
       "      <td>Port Moresby,PG</td>\n",
       "    </tr>\n",
       "    <tr>\n",
       "      <th>12981</th>\n",
       "      <td>Reykjavík</td>\n",
       "      <td>IS</td>\n",
       "      <td>Reykjavík,IS</td>\n",
       "    </tr>\n",
       "    <tr>\n",
       "      <th>13028</th>\n",
       "      <td>Prishtina</td>\n",
       "      <td>XK</td>\n",
       "      <td>Prishtina,XK</td>\n",
       "    </tr>\n",
       "    <tr>\n",
       "      <th>17254</th>\n",
       "      <td>Xintai, Tai'an</td>\n",
       "      <td>CN</td>\n",
       "      <td>Xintai, Tai'an,CN</td>\n",
       "    </tr>\n",
       "  </tbody>\n",
       "</table>\n",
       "</div>"
      ],
      "text/plain": [
       "         municipality iso_country municipality_iso_country\n",
       "10890         Honiara          SB               Honiara,SB\n",
       "12461    Port Moresby          PG          Port Moresby,PG\n",
       "12981       Reykjavík          IS             Reykjavík,IS\n",
       "13028       Prishtina          XK             Prishtina,XK\n",
       "17254  Xintai, Tai'an          CN        Xintai, Tai'an,CN"
      ]
     },
     "execution_count": 55,
     "metadata": {},
     "output_type": "execute_result"
    }
   ],
   "source": [
    "cities = airports_cities.filter(['municipality','iso_country','municipality_iso_country']).drop_duplicates()\n",
    "cities.head()"
   ]
  },
  {
   "cell_type": "code",
   "execution_count": 56,
   "id": "dcdfdef7-1cd0-429d-892e-3bdfc1083a66",
   "metadata": {},
   "outputs": [
    {
     "data": {
      "text/html": [
       "<div>\n",
       "<style scoped>\n",
       "    .dataframe tbody tr th:only-of-type {\n",
       "        vertical-align: middle;\n",
       "    }\n",
       "\n",
       "    .dataframe tbody tr th {\n",
       "        vertical-align: top;\n",
       "    }\n",
       "\n",
       "    .dataframe thead th {\n",
       "        text-align: right;\n",
       "    }\n",
       "</style>\n",
       "<table border=\"1\" class=\"dataframe\">\n",
       "  <thead>\n",
       "    <tr style=\"text-align: right;\">\n",
       "      <th></th>\n",
       "      <th>name</th>\n",
       "      <th>latitude_deg</th>\n",
       "      <th>longitude_deg</th>\n",
       "      <th>iso_country</th>\n",
       "      <th>iso_region</th>\n",
       "      <th>municipality</th>\n",
       "      <th>icao_code</th>\n",
       "      <th>iata_code</th>\n",
       "      <th>municipality_iso_country</th>\n",
       "      <th>dep_airport</th>\n",
       "      <th>sched_arr_loc_time</th>\n",
       "      <th>terminal</th>\n",
       "      <th>status</th>\n",
       "      <th>aircraft</th>\n",
       "      <th>datetime</th>\n",
       "      <th>temperature</th>\n",
       "      <th>wind</th>\n",
       "      <th>prob_perc</th>\n",
       "      <th>rain_qty</th>\n",
       "      <th>snow</th>\n",
       "    </tr>\n",
       "  </thead>\n",
       "  <tbody>\n",
       "    <tr>\n",
       "      <th>0</th>\n",
       "      <td>Berlin Brandenburg Airport</td>\n",
       "      <td>52.351389</td>\n",
       "      <td>13.493889</td>\n",
       "      <td>DE</td>\n",
       "      <td>DE-BR</td>\n",
       "      <td>Berlin</td>\n",
       "      <td>EDDB</td>\n",
       "      <td>BER</td>\n",
       "      <td>Berlin,DE</td>\n",
       "      <td>Stuttgart</td>\n",
       "      <td>2022-04-06 01:16+02:00</td>\n",
       "      <td>None</td>\n",
       "      <td>Arrived</td>\n",
       "      <td>Airbus A320-100/200</td>\n",
       "      <td>2022-04-07 09:00:00</td>\n",
       "      <td>12.41</td>\n",
       "      <td>9.11</td>\n",
       "      <td>0.20</td>\n",
       "      <td>0.15</td>\n",
       "      <td>0</td>\n",
       "    </tr>\n",
       "    <tr>\n",
       "      <th>1</th>\n",
       "      <td>Berlin Brandenburg Airport</td>\n",
       "      <td>52.351389</td>\n",
       "      <td>13.493889</td>\n",
       "      <td>DE</td>\n",
       "      <td>DE-BR</td>\n",
       "      <td>Berlin</td>\n",
       "      <td>EDDB</td>\n",
       "      <td>BER</td>\n",
       "      <td>Berlin,DE</td>\n",
       "      <td>Stuttgart</td>\n",
       "      <td>2022-04-06 01:16+02:00</td>\n",
       "      <td>None</td>\n",
       "      <td>Arrived</td>\n",
       "      <td>Airbus A320-100/200</td>\n",
       "      <td>2022-04-07 12:00:00</td>\n",
       "      <td>12.17</td>\n",
       "      <td>10.22</td>\n",
       "      <td>0.41</td>\n",
       "      <td>0.47</td>\n",
       "      <td>0</td>\n",
       "    </tr>\n",
       "    <tr>\n",
       "      <th>2</th>\n",
       "      <td>Berlin Brandenburg Airport</td>\n",
       "      <td>52.351389</td>\n",
       "      <td>13.493889</td>\n",
       "      <td>DE</td>\n",
       "      <td>DE-BR</td>\n",
       "      <td>Berlin</td>\n",
       "      <td>EDDB</td>\n",
       "      <td>BER</td>\n",
       "      <td>Berlin,DE</td>\n",
       "      <td>Stuttgart</td>\n",
       "      <td>2022-04-06 01:16+02:00</td>\n",
       "      <td>None</td>\n",
       "      <td>Arrived</td>\n",
       "      <td>Airbus A320-100/200</td>\n",
       "      <td>2022-04-07 15:00:00</td>\n",
       "      <td>10.66</td>\n",
       "      <td>8.59</td>\n",
       "      <td>1.00</td>\n",
       "      <td>3.10</td>\n",
       "      <td>0</td>\n",
       "    </tr>\n",
       "    <tr>\n",
       "      <th>3</th>\n",
       "      <td>Berlin Brandenburg Airport</td>\n",
       "      <td>52.351389</td>\n",
       "      <td>13.493889</td>\n",
       "      <td>DE</td>\n",
       "      <td>DE-BR</td>\n",
       "      <td>Berlin</td>\n",
       "      <td>EDDB</td>\n",
       "      <td>BER</td>\n",
       "      <td>Berlin,DE</td>\n",
       "      <td>Stuttgart</td>\n",
       "      <td>2022-04-06 01:16+02:00</td>\n",
       "      <td>None</td>\n",
       "      <td>Arrived</td>\n",
       "      <td>Airbus A320-100/200</td>\n",
       "      <td>2022-04-07 18:00:00</td>\n",
       "      <td>8.68</td>\n",
       "      <td>8.93</td>\n",
       "      <td>1.00</td>\n",
       "      <td>0.19</td>\n",
       "      <td>0</td>\n",
       "    </tr>\n",
       "    <tr>\n",
       "      <th>4</th>\n",
       "      <td>Berlin Brandenburg Airport</td>\n",
       "      <td>52.351389</td>\n",
       "      <td>13.493889</td>\n",
       "      <td>DE</td>\n",
       "      <td>DE-BR</td>\n",
       "      <td>Berlin</td>\n",
       "      <td>EDDB</td>\n",
       "      <td>BER</td>\n",
       "      <td>Berlin,DE</td>\n",
       "      <td>Stuttgart</td>\n",
       "      <td>2022-04-06 01:16+02:00</td>\n",
       "      <td>None</td>\n",
       "      <td>Arrived</td>\n",
       "      <td>Airbus A320-100/200</td>\n",
       "      <td>2022-04-07 21:00:00</td>\n",
       "      <td>7.37</td>\n",
       "      <td>9.75</td>\n",
       "      <td>0.27</td>\n",
       "      <td>0.16</td>\n",
       "      <td>0</td>\n",
       "    </tr>\n",
       "  </tbody>\n",
       "</table>\n",
       "</div>"
      ],
      "text/plain": [
       "                         name  latitude_deg  longitude_deg iso_country  \\\n",
       "0  Berlin Brandenburg Airport     52.351389      13.493889          DE   \n",
       "1  Berlin Brandenburg Airport     52.351389      13.493889          DE   \n",
       "2  Berlin Brandenburg Airport     52.351389      13.493889          DE   \n",
       "3  Berlin Brandenburg Airport     52.351389      13.493889          DE   \n",
       "4  Berlin Brandenburg Airport     52.351389      13.493889          DE   \n",
       "\n",
       "  iso_region municipality icao_code iata_code municipality_iso_country  \\\n",
       "0      DE-BR       Berlin      EDDB       BER                Berlin,DE   \n",
       "1      DE-BR       Berlin      EDDB       BER                Berlin,DE   \n",
       "2      DE-BR       Berlin      EDDB       BER                Berlin,DE   \n",
       "3      DE-BR       Berlin      EDDB       BER                Berlin,DE   \n",
       "4      DE-BR       Berlin      EDDB       BER                Berlin,DE   \n",
       "\n",
       "  dep_airport      sched_arr_loc_time terminal   status             aircraft  \\\n",
       "0   Stuttgart  2022-04-06 01:16+02:00     None  Arrived  Airbus A320-100/200   \n",
       "1   Stuttgart  2022-04-06 01:16+02:00     None  Arrived  Airbus A320-100/200   \n",
       "2   Stuttgart  2022-04-06 01:16+02:00     None  Arrived  Airbus A320-100/200   \n",
       "3   Stuttgart  2022-04-06 01:16+02:00     None  Arrived  Airbus A320-100/200   \n",
       "4   Stuttgart  2022-04-06 01:16+02:00     None  Arrived  Airbus A320-100/200   \n",
       "\n",
       "              datetime  temperature   wind  prob_perc  rain_qty  snow  \n",
       "0  2022-04-07 09:00:00        12.41   9.11       0.20      0.15     0  \n",
       "1  2022-04-07 12:00:00        12.17  10.22       0.41      0.47     0  \n",
       "2  2022-04-07 15:00:00        10.66   8.59       1.00      3.10     0  \n",
       "3  2022-04-07 18:00:00         8.68   8.93       1.00      0.19     0  \n",
       "4  2022-04-07 21:00:00         7.37   9.75       0.27      0.16     0  "
      ]
     },
     "execution_count": 56,
     "metadata": {},
     "output_type": "execute_result"
    }
   ],
   "source": [
    "airports_cities.merge(arrivals_berlin, on='icao_code', how='inner').merge(weather_data, on='municipality_iso_country', how='inner').head()"
   ]
  },
  {
   "cell_type": "markdown",
   "id": "78660346-6ce7-41a5-80cc-0e018825e54e",
   "metadata": {},
   "source": [
    "2. Update data into MySQL database"
   ]
  },
  {
   "cell_type": "markdown",
   "id": "c4064d5d-de67-4a36-86a7-3fdc271e00a1",
   "metadata": {},
   "source": [
    "### `sqlalchemy` is the simplest way to connect Python to any SQL"
   ]
  },
  {
   "cell_type": "markdown",
   "id": "7501b136-8223-4e30-8c3c-96d1560fd288",
   "metadata": {},
   "source": [
    "Establish the connection"
   ]
  },
  {
   "cell_type": "code",
   "execution_count": 64,
   "id": "50f19d04-9109-4d8f-a85b-d54addf9b14e",
   "metadata": {},
   "outputs": [
    {
     "name": "stdout",
     "output_type": "stream",
     "text": [
      "Requirement already satisfied: sqlalchemy in c:\\users\\tallm\\anaconda3\\lib\\site-packages (1.4.7)\n",
      "Requirement already satisfied: greenlet!=0.4.17 in c:\\users\\tallm\\anaconda3\\lib\\site-packages (from sqlalchemy) (1.0.0)\n",
      "Note: you may need to restart the kernel to use updated packages.\n"
     ]
    }
   ],
   "source": [
    "#%pip install sqlalchemy"
   ]
  },
  {
   "cell_type": "code",
   "execution_count": 68,
   "id": "5cb3896f",
   "metadata": {},
   "outputs": [
    {
     "name": "stdout",
     "output_type": "stream",
     "text": [
      "Collecting pymysql\n",
      "  Downloading PyMySQL-1.0.2-py3-none-any.whl (43 kB)\n",
      "Installing collected packages: pymysql\n",
      "Successfully installed pymysql-1.0.2\n",
      "Note: you may need to restart the kernel to use updated packages.\n"
     ]
    }
   ],
   "source": [
    "#import pymysql\n",
    "#%pip install pymysql"
   ]
  },
  {
   "cell_type": "code",
   "execution_count": 69,
   "id": "cc2ce62b-8fe9-42cc-8a9b-bad25fc60252",
   "metadata": {},
   "outputs": [],
   "source": [
    "import pandas as pd\n",
    "import sqlalchemy"
   ]
  },
  {
   "cell_type": "code",
   "execution_count": 66,
   "id": "1eab7e9d-5994-48c9-9111-711ce8d1b019",
   "metadata": {},
   "outputs": [],
   "source": [
    "schema=\"Name of the schema\"\n",
    "host=\"127.0.0.1\"\n",
    "user=\"root\"\n",
    "password=\"Your password*\"\n",
    "port=3306\n",
    "con = f'mysql+pymysql://{user}:{password}@{host}:{port}/{schema}'"
   ]
  },
  {
   "cell_type": "markdown",
   "id": "5ce7200a-3763-4112-9ec7-0af3709cd871",
   "metadata": {},
   "source": [
    "#### Update the tables"
   ]
  },
  {
   "cell_type": "code",
   "execution_count": 70,
   "id": "e960f19e-2e6a-46b8-a3d0-a1d9e4133cce",
   "metadata": {
    "tags": []
   },
   "outputs": [],
   "source": [
    "cities.dropna().to_sql('cities', con=con, if_exists='append', index=False)"
   ]
  },
  {
   "cell_type": "code",
   "execution_count": 71,
   "id": "09720c74-578e-4b2d-8d0a-2f9dc2b7993d",
   "metadata": {
    "jupyter": {
     "outputs_hidden": true
    },
    "tags": []
   },
   "outputs": [],
   "source": [
    "airports_cities.dropna().to_sql('airports_cities', if_exists='append', con=con, index=False)"
   ]
  },
  {
   "cell_type": "code",
   "execution_count": null,
   "id": "56dba76d-6b5a-494f-91f7-090a17062d05",
   "metadata": {
    "jupyter": {
     "outputs_hidden": true
    },
    "tags": []
   },
   "outputs": [],
   "source": [
    "# cities.isna().sum()\n",
    "# cities.dropna().to_sql('cities', if_exists='append', con=con, index=False)\n",
    "# airports_cities.dropna().to_sql('airports_cities', if_exists='append', con=con, index=False)"
   ]
  },
  {
   "cell_type": "code",
   "execution_count": 72,
   "id": "2816dca8-9d1f-4de1-8d5e-80afc64fc641",
   "metadata": {},
   "outputs": [],
   "source": [
    "weather_data.assign(datetime = lambda x: pd.to_datetime(x['datetime'])).to_sql('weather', if_exists='append', con=con, index=False)"
   ]
  },
  {
   "cell_type": "code",
   "execution_count": 73,
   "id": "28e438b5-e367-475b-b609-1813f60f8a0c",
   "metadata": {},
   "outputs": [],
   "source": [
    "import numpy as np\n",
    "(\n",
    "arrivals_berlin\n",
    "    .replace({np.nan},'unknown')\n",
    "    .assign(sched_arr_loc_time = lambda x: pd.to_datetime(x['sched_arr_loc_time']))\n",
    "    .to_sql('arrivals', if_exists='append', con=con, index=False))"
   ]
  },
  {
   "cell_type": "markdown",
   "id": "65569690-f0a6-41f0-a4ea-5baf4313ccf5",
   "metadata": {},
   "source": [
    "#### Run sql queries in our python session"
   ]
  },
  {
   "cell_type": "code",
   "execution_count": 74,
   "id": "ad81e15f-b46f-41fd-b067-928a3d19c09d",
   "metadata": {},
   "outputs": [
    {
     "data": {
      "text/html": [
       "<div>\n",
       "<style scoped>\n",
       "    .dataframe tbody tr th:only-of-type {\n",
       "        vertical-align: middle;\n",
       "    }\n",
       "\n",
       "    .dataframe tbody tr th {\n",
       "        vertical-align: top;\n",
       "    }\n",
       "\n",
       "    .dataframe thead th {\n",
       "        text-align: right;\n",
       "    }\n",
       "</style>\n",
       "<table border=\"1\" class=\"dataframe\">\n",
       "  <thead>\n",
       "    <tr style=\"text-align: right;\">\n",
       "      <th></th>\n",
       "      <th>dep_airport</th>\n",
       "      <th>sched_arr_loc_time</th>\n",
       "      <th>terminal</th>\n",
       "      <th>status</th>\n",
       "      <th>aircraft</th>\n",
       "      <th>icao_code</th>\n",
       "    </tr>\n",
       "  </thead>\n",
       "  <tbody>\n",
       "    <tr>\n",
       "      <th>0</th>\n",
       "      <td>Duesseldorf</td>\n",
       "      <td>2022-04-06 07:35:00</td>\n",
       "      <td>1</td>\n",
       "      <td>Unknown</td>\n",
       "      <td>Airbus A319</td>\n",
       "      <td>EDDB</td>\n",
       "    </tr>\n",
       "    <tr>\n",
       "      <th>1</th>\n",
       "      <td>Stuttgart</td>\n",
       "      <td>2022-04-06 07:40:00</td>\n",
       "      <td>1</td>\n",
       "      <td>Unknown</td>\n",
       "      <td>Airbus A319</td>\n",
       "      <td>EDDB</td>\n",
       "    </tr>\n",
       "    <tr>\n",
       "      <th>2</th>\n",
       "      <td>Paris</td>\n",
       "      <td>2022-04-06 07:55:00</td>\n",
       "      <td>1</td>\n",
       "      <td>Unknown</td>\n",
       "      <td>Airbus A320</td>\n",
       "      <td>EDDB</td>\n",
       "    </tr>\n",
       "    <tr>\n",
       "      <th>3</th>\n",
       "      <td>Saarbrücken</td>\n",
       "      <td>2022-04-06 08:10:00</td>\n",
       "      <td>0</td>\n",
       "      <td>Unknown</td>\n",
       "      <td>ATR 42-300</td>\n",
       "      <td>EDDB</td>\n",
       "    </tr>\n",
       "    <tr>\n",
       "      <th>4</th>\n",
       "      <td>Milan</td>\n",
       "      <td>2022-04-06 08:45:00</td>\n",
       "      <td>1</td>\n",
       "      <td>Unknown</td>\n",
       "      <td>Airbus A319</td>\n",
       "      <td>EDDB</td>\n",
       "    </tr>\n",
       "    <tr>\n",
       "      <th>5</th>\n",
       "      <td>Oslo</td>\n",
       "      <td>2022-04-06 09:05:00</td>\n",
       "      <td>1</td>\n",
       "      <td>Unknown</td>\n",
       "      <td>Boeing 737-800</td>\n",
       "      <td>EDDB</td>\n",
       "    </tr>\n",
       "    <tr>\n",
       "      <th>6</th>\n",
       "      <td>London</td>\n",
       "      <td>2022-04-06 09:10:00</td>\n",
       "      <td>1</td>\n",
       "      <td>Unknown</td>\n",
       "      <td>Airbus A320</td>\n",
       "      <td>EDDB</td>\n",
       "    </tr>\n",
       "    <tr>\n",
       "      <th>7</th>\n",
       "      <td>Duesseldorf</td>\n",
       "      <td>2022-04-06 09:15:00</td>\n",
       "      <td>1</td>\n",
       "      <td>Unknown</td>\n",
       "      <td>Airbus A320</td>\n",
       "      <td>EDDB</td>\n",
       "    </tr>\n",
       "    <tr>\n",
       "      <th>8</th>\n",
       "      <td>Nápoli</td>\n",
       "      <td>2022-04-06 09:20:00</td>\n",
       "      <td>1</td>\n",
       "      <td>Unknown</td>\n",
       "      <td>Airbus A319</td>\n",
       "      <td>EDDB</td>\n",
       "    </tr>\n",
       "    <tr>\n",
       "      <th>9</th>\n",
       "      <td>Cologne</td>\n",
       "      <td>2022-04-06 10:00:00</td>\n",
       "      <td>1</td>\n",
       "      <td>Unknown</td>\n",
       "      <td>Airbus A320</td>\n",
       "      <td>EDDB</td>\n",
       "    </tr>\n",
       "    <tr>\n",
       "      <th>10</th>\n",
       "      <td>Cologne</td>\n",
       "      <td>2022-04-06 10:10:00</td>\n",
       "      <td>1</td>\n",
       "      <td>Unknown</td>\n",
       "      <td>Airbus A320</td>\n",
       "      <td>EDDB</td>\n",
       "    </tr>\n",
       "    <tr>\n",
       "      <th>11</th>\n",
       "      <td>Palma De Mallorca</td>\n",
       "      <td>2022-04-06 10:45:00</td>\n",
       "      <td>unknown</td>\n",
       "      <td>Unknown</td>\n",
       "      <td>Boeing 737-800</td>\n",
       "      <td>EDDB</td>\n",
       "    </tr>\n",
       "    <tr>\n",
       "      <th>12</th>\n",
       "      <td>London</td>\n",
       "      <td>2022-04-06 11:10:00</td>\n",
       "      <td>1</td>\n",
       "      <td>Unknown</td>\n",
       "      <td>Embraer 190</td>\n",
       "      <td>EDDB</td>\n",
       "    </tr>\n",
       "    <tr>\n",
       "      <th>13</th>\n",
       "      <td>Stockholm</td>\n",
       "      <td>2022-04-06 11:25:00</td>\n",
       "      <td>1</td>\n",
       "      <td>Unknown</td>\n",
       "      <td>Bombardier CRJ900</td>\n",
       "      <td>EDDB</td>\n",
       "    </tr>\n",
       "    <tr>\n",
       "      <th>14</th>\n",
       "      <td>Milan</td>\n",
       "      <td>2022-04-06 11:25:00</td>\n",
       "      <td>1</td>\n",
       "      <td>Unknown</td>\n",
       "      <td>Airbus A320</td>\n",
       "      <td>EDDB</td>\n",
       "    </tr>\n",
       "    <tr>\n",
       "      <th>15</th>\n",
       "      <td>Paris</td>\n",
       "      <td>2022-04-06 11:35:00</td>\n",
       "      <td>1</td>\n",
       "      <td>Unknown</td>\n",
       "      <td>Airbus A320</td>\n",
       "      <td>EDDB</td>\n",
       "    </tr>\n",
       "  </tbody>\n",
       "</table>\n",
       "</div>"
      ],
      "text/plain": [
       "          dep_airport  sched_arr_loc_time terminal   status  \\\n",
       "0         Duesseldorf 2022-04-06 07:35:00        1  Unknown   \n",
       "1           Stuttgart 2022-04-06 07:40:00        1  Unknown   \n",
       "2               Paris 2022-04-06 07:55:00        1  Unknown   \n",
       "3         Saarbrücken 2022-04-06 08:10:00        0  Unknown   \n",
       "4               Milan 2022-04-06 08:45:00        1  Unknown   \n",
       "5                Oslo 2022-04-06 09:05:00        1  Unknown   \n",
       "6              London 2022-04-06 09:10:00        1  Unknown   \n",
       "7         Duesseldorf 2022-04-06 09:15:00        1  Unknown   \n",
       "8              Nápoli 2022-04-06 09:20:00        1  Unknown   \n",
       "9             Cologne 2022-04-06 10:00:00        1  Unknown   \n",
       "10            Cologne 2022-04-06 10:10:00        1  Unknown   \n",
       "11  Palma De Mallorca 2022-04-06 10:45:00  unknown  Unknown   \n",
       "12             London 2022-04-06 11:10:00        1  Unknown   \n",
       "13          Stockholm 2022-04-06 11:25:00        1  Unknown   \n",
       "14              Milan 2022-04-06 11:25:00        1  Unknown   \n",
       "15              Paris 2022-04-06 11:35:00        1  Unknown   \n",
       "\n",
       "             aircraft icao_code  \n",
       "0         Airbus A319      EDDB  \n",
       "1         Airbus A319      EDDB  \n",
       "2         Airbus A320      EDDB  \n",
       "3          ATR 42-300      EDDB  \n",
       "4         Airbus A319      EDDB  \n",
       "5      Boeing 737-800      EDDB  \n",
       "6         Airbus A320      EDDB  \n",
       "7         Airbus A320      EDDB  \n",
       "8         Airbus A319      EDDB  \n",
       "9         Airbus A320      EDDB  \n",
       "10        Airbus A320      EDDB  \n",
       "11     Boeing 737-800      EDDB  \n",
       "12        Embraer 190      EDDB  \n",
       "13  Bombardier CRJ900      EDDB  \n",
       "14        Airbus A320      EDDB  \n",
       "15        Airbus A320      EDDB  "
      ]
     },
     "execution_count": 74,
     "metadata": {},
     "output_type": "execute_result"
    }
   ],
   "source": [
    "pd.read_sql(\n",
    "    sql = \"\"\"\n",
    "        select * from arrivals\n",
    "        where status = \"Unknown\"\n",
    "    \"\"\",\n",
    "    con = con\n",
    ")"
   ]
  },
  {
   "cell_type": "markdown",
   "id": "b01c571c",
   "metadata": {},
   "source": [
    "3&4. Move pipeline to the cloud (AWS) and automate the above steps using AWS Lambda function https://aws.amazon.com/lambda/\n",
    " "
   ]
  },
  {
   "cell_type": "markdown",
   "id": "86cd835b",
   "metadata": {},
   "source": [
    "The Lambda function "
   ]
  },
  {
   "cell_type": "code",
   "execution_count": null,
   "id": "19951caf",
   "metadata": {},
   "outputs": [],
   "source": [
    "import json\n",
    "import pandas as pd\n",
    "import numpy as np\n",
    "import requests\n",
    "# from my_module import get_flight_info\n",
    "\n",
    "def get_flight_info(flight_json, airport_icoa):\n",
    "    \"\"\"\n",
    "    This function helps to structure json data gathared from flights api\n",
    "    \"\"\"\n",
    "    # terminal\n",
    "    try: terminal = flight_json['arrival']['terminal']\n",
    "    except: terminal = None\n",
    "    # aircraft\n",
    "    try: aircraft = flight_json['aircraft']['model']\n",
    "    except: aircraft = None\n",
    "    return {\n",
    "        'dep_airport':flight_json['departure']['airport']['name'],\n",
    "        'sched_arr_loc_time':flight_json['arrival']['scheduledTimeLocal'],\n",
    "        'terminal':terminal,\n",
    "        'status':flight_json['status'],\n",
    "        'aircraft':aircraft,\n",
    "        'icao_code':airport_icoa\n",
    "        }\n",
    "\n",
    "def lambda_handler(event, context):\n",
    "    # flights api\n",
    "    airport_icoa = \"EDDS\"\n",
    "    to_local_time = \"2022-04-06T20:00\"\n",
    "    from_local_time = \"2022-04-06T08:00\"\n",
    "    flight_api_key = \"Your API key\"\n",
    "    url = f\"https://aerodatabox.p.rapidapi.com/flights/airports/icao/{airport_icoa}/{to_local_time}/{from_local_time}\"\n",
    "    querystring = {\"withLeg\":\"true\",\"withCancelled\":\"true\",\"withCodeshared\":\"true\",\"withCargo\":\"true\",\"withPrivate\":\"false\",\"withLocation\":\"false\"}\n",
    "    headers = {\n",
    "        'x-rapidapi-host': \"aerodatabox.p.rapidapi.com\",\n",
    "        'x-rapidapi-key': flight_api_key\n",
    "        }\n",
    "    response = requests.request(\"GET\", url, headers=headers, params=querystring)\n",
    "    arrivals_berlin =response.json()['arrivals']\n",
    "    arrivals_berlin = pd.DataFrame([get_flight_info(flight, airport_icoa) for flight in arrivals_berlin])\n",
    "    \n",
    "    # Weather api\n",
    "    city = \"Berlin\"\n",
    "    country = \"DE\"\n",
    "    OWM_key = \"Your OWM key\"\n",
    "    response = requests.get(f'http://api.openweathermap.org/data/2.5/forecast/?q={city},{country}&appid={OWM_key}&units=metric&lang=en')\n",
    "    forecast_api = response.json()['list']\n",
    "    weather_info = []\n",
    "    for forecast_3h in forecast_api: \n",
    "        weather_hour = {}\n",
    "        # datetime utc\n",
    "        weather_hour['datetime'] = forecast_3h['dt_txt']\n",
    "        # temperature \n",
    "        weather_hour['temperature'] = forecast_3h['main']['temp']\n",
    "        # wind\n",
    "        weather_hour['wind'] = forecast_3h['wind']['speed']\n",
    "        # probability precipitation \n",
    "        try: weather_hour['prob_perc'] = float(forecast_3h['pop'])\n",
    "        except: weather_hour['prob_perc'] = 0\n",
    "        # rain\n",
    "        try: weather_hour['rain_qty'] = float(forecast_3h['rain']['3h'])\n",
    "        except: weather_hour['rain_qty'] = 0\n",
    "        # wind \n",
    "        try: weather_hour['snow'] = float(forecast_3h['snow']['3h'])\n",
    "        except: weather_hour['snow'] = 0\n",
    "        weather_hour['municipality_iso_country'] = city + ',' + country\n",
    "        weather_info.append(weather_hour)\n",
    "    weather_data = pd.DataFrame(weather_info)\n",
    "    \n",
    "    # inserting data in our RDS\n",
    "    schema=\"Name of the schema\"\n",
    "    host=\"Your RDS Host\"\n",
    "    user=\"Your User\"\n",
    "    password=\"Your Password\"\n",
    "    port=3306\n",
    "    con = f'mysql+pymysql://{user}:{password}@{host}:{port}/{schema}'\n",
    "    # weather data\n",
    "    (weather_data\n",
    "     .assign(datetime = lambda x: pd.to_datetime(x['datetime']))\n",
    "     .to_sql('weather', if_exists='append', con=con, index=False))\n",
    "    # flight arrivals data\n",
    "    (arrivals_berlin\n",
    "     .replace({np.nan},'unknown')\n",
    "     .assign(sched_arr_loc_time = lambda x: pd.to_datetime(x['sched_arr_loc_time']))\n",
    "     .to_sql('arrivals', if_exists='append', con=con, index=False))\n"
   ]
  }
 ],
 "metadata": {
  "kernelspec": {
   "display_name": "Python 3",
   "language": "python",
   "name": "python3"
  },
  "language_info": {
   "codemirror_mode": {
    "name": "ipython",
    "version": 3
   },
   "file_extension": ".py",
   "mimetype": "text/x-python",
   "name": "python",
   "nbconvert_exporter": "python",
   "pygments_lexer": "ipython3",
   "version": "3.8.8"
  }
 },
 "nbformat": 4,
 "nbformat_minor": 5
}
